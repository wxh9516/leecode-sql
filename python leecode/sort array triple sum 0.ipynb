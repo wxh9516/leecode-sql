{
 "cells": [
  {
   "cell_type": "code",
   "execution_count": 1,
   "metadata": {
    "collapsed": true
   },
   "outputs": [],
   "source": [
    "#Given an array S of n integers, are there elements a, b, c in S such that a +\n",
    "#b + c = 0? Find all unique triplets in the array which gives the sum of zero.\n",
    "#Note:\n",
    "#Elements in a triplet (a,b,c) must be in non-descending order. (ie, a ≤ b ≤ c)\n",
    "#The solution set must not contain duplicate triplets.\n",
    "#    For example, given array S = {-1 0 1 2 -1 -4},\n",
    "#    A solution set is:\n",
    "#    (-1, 0, 1)\n",
    "#    (-1, -1, 2)"
   ]
  },
  {
   "cell_type": "code",
   "execution_count": 25,
   "metadata": {},
   "outputs": [],
   "source": [
    "class solution():\n",
    "    def order0(self,array):\n",
    "        array.sort()   #sort the array\n",
    "        ary=[]\n",
    "        for i in range(len(array)-2):   #len(array)-2: triple\n",
    "            left=i+1\n",
    "            right=len(array)-1   #-1,start from the last one,for right\n",
    "            while left<right:\n",
    "                sum=array[i]+array[left]+array[right]\n",
    "                if sum==0:\n",
    "                    ary.append([array[i],array[left],array[right]])\n",
    "                    left+=1\n",
    "                    right-=1\n",
    "                    while array[left]==array[left-1] and left<right:   #not duplicate\n",
    "                        left+=1\n",
    "                    while array[right]==array[right+1] and left<right:\n",
    "                        right-=1\n",
    "                        \n",
    "                if sum>0:\n",
    "                    right-=1\n",
    "                else:\n",
    "                    left+=1\n",
    "        return ary"
   ]
  },
  {
   "cell_type": "code",
   "execution_count": 26,
   "metadata": {},
   "outputs": [
    {
     "data": {
      "text/plain": [
       "[[-1, -1, 2], [-1, 0, 1]]"
      ]
     },
     "execution_count": 26,
     "metadata": {},
     "output_type": "execute_result"
    }
   ],
   "source": [
    "s=[-1,0,1,2,-1,-4]\n",
    "a=solution()\n",
    "a.order0(s)"
   ]
  },
  {
   "cell_type": "markdown",
   "metadata": {},
   "source": [
    "compensation:"
   ]
  },
  {
   "cell_type": "code",
   "execution_count": 7,
   "metadata": {
    "collapsed": true
   },
   "outputs": [],
   "source": [
    "class Solution(object):\n",
    "    def threeSum(self, nums):\n",
    "        \"\"\"\n",
    "        :type nums: List[int]\n",
    "        :rtype: List[List[int]]\n",
    "        \"\"\"\n",
    "        nums.sort()\n",
    "        res = []\n",
    "        for i in range(len(nums) - 2):\n",
    "            if i == 0 or i > 0 and nums[i - 1] != nums[i]:\n",
    "                left = i + 1\n",
    "                right = len(nums) - 1\n",
    "                while left < right:\n",
    "                    s = nums[i] + nums[left] + nums[right]\n",
    "                    if s == 0:\n",
    "                        res.append([nums[i], nums[left], nums[right]])\n",
    "                        left += 1\n",
    "                        right -= 1\n",
    "                        while left < right and nums[left] == nums[left - 1]:\n",
    "                            left += 1\n",
    "                        while right > left and nums[right] == nums[right + 1]:\n",
    "                            right -= 1\n",
    "                    elif s < 0:\n",
    "                        left += 1\n",
    "                    else:\n",
    "                        right -= 1\n",
    "        return res"
   ]
  },
  {
   "cell_type": "code",
   "execution_count": 16,
   "metadata": {},
   "outputs": [
    {
     "data": {
      "text/plain": [
       "[[-2, 0, 2], [-2, 1, 1], [-1, -1, 2], [-1, 0, 1], [0, 0, 0]]"
      ]
     },
     "execution_count": 16,
     "metadata": {},
     "output_type": "execute_result"
    }
   ],
   "source": [
    "\n",
    "s=[-1,-1,0,2,1,1,-2,-4,0,0]\n",
    "q=Solution()\n",
    "q.threeSum(s)"
   ]
  },
  {
   "cell_type": "code",
   "execution_count": 4,
   "metadata": {},
   "outputs": [
    {
     "data": {
      "text/plain": [
       "[1, 2, 3, 4, 6]"
      ]
     },
     "execution_count": 4,
     "metadata": {},
     "output_type": "execute_result"
    }
   ],
   "source": [
    "aList = [1,4,3,6,2]\n",
    "aList.sort()\n",
    "aList"
   ]
  },
  {
   "cell_type": "code",
   "execution_count": 6,
   "metadata": {},
   "outputs": [
    {
     "data": {
      "text/plain": [
       "[6, 4, 3, 2, 1]"
      ]
     },
     "execution_count": 6,
     "metadata": {},
     "output_type": "execute_result"
    }
   ],
   "source": [
    "aList.sort(reverse=True)\n",
    "aList"
   ]
  },
  {
   "cell_type": "code",
   "execution_count": null,
   "metadata": {
    "collapsed": true
   },
   "outputs": [],
   "source": []
  },
  {
   "cell_type": "code",
   "execution_count": 12,
   "metadata": {
    "collapsed": true
   },
   "outputs": [],
   "source": []
  },
  {
   "cell_type": "code",
   "execution_count": 7,
   "metadata": {
    "collapsed": true
   },
   "outputs": [],
   "source": []
  },
  {
   "cell_type": "code",
   "execution_count": 8,
   "metadata": {
    "collapsed": true
   },
   "outputs": [],
   "source": []
  },
  {
   "cell_type": "code",
   "execution_count": null,
   "metadata": {
    "collapsed": true
   },
   "outputs": [],
   "source": []
  },
  {
   "cell_type": "code",
   "execution_count": null,
   "metadata": {
    "collapsed": true
   },
   "outputs": [],
   "source": []
  }
 ],
 "metadata": {
  "kernelspec": {
   "display_name": "Python 3",
   "language": "python",
   "name": "python3"
  },
  "language_info": {
   "codemirror_mode": {
    "name": "ipython",
    "version": 3
   },
   "file_extension": ".py",
   "mimetype": "text/x-python",
   "name": "python",
   "nbconvert_exporter": "python",
   "pygments_lexer": "ipython3",
   "version": "3.6.1"
  }
 },
 "nbformat": 4,
 "nbformat_minor": 2
}
