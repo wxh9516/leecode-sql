{
 "cells": [
  {
   "cell_type": "code",
   "execution_count": null,
   "metadata": {
    "collapsed": true
   },
   "outputs": [],
   "source": [
    "# Time:  O(m * n)\n",
    "# Space: O(m * n)\n",
    "\n",
    "# Given a matrix consists of 0 and 1, find the distance of the nearest 0 for each cell.\n",
    "# The distance between two adjacent cells is 1.\n",
    "#\n",
    "# Example 1:\n",
    "#\n",
    "# Input:\n",
    "# 0 0 0\n",
    "# 0 1 0\n",
    "# 0 0 0\n",
    "#\n",
    "# Output:\n",
    "# 0 0 0\n",
    "# 0 1 0\n",
    "# 0 0 0\n",
    "#\n",
    "# Example 2:\n",
    "#\n",
    "# Input:\n",
    "# 0 0 0\n",
    "# 0 1 0\n",
    "# 1 1 1\n",
    "#\n",
    "# Output:\n",
    "# 0 0 0\n",
    "# 0 1 0\n",
    "# 1 2 1\n",
    "#\n",
    "# Note:\n",
    "# The number of elements of the given matrix will not exceed 10,000.\n",
    "# There are at least one 0 in the given matrix.\n",
    "# The cells are adjacent in only four directions: up, down, left and right."
   ]
  },
  {
   "cell_type": "code",
   "execution_count": 1,
   "metadata": {
    "collapsed": true
   },
   "outputs": [],
   "source": [
    "import collections"
   ]
  },
  {
   "cell_type": "code",
   "execution_count": 2,
   "metadata": {
    "collapsed": true
   },
   "outputs": [],
   "source": [
    "try:\n",
    "    xrange          # Python 2\n",
    "except NameError:\n",
    "    xrange = range  # Python 3\n",
    "\n",
    "#The try block lets you test a block of code for errors.\n",
    "#The except block lets you handle the error.\n",
    "#The finally block lets you execute code, regardless of the result of the try- and except blocks."
   ]
  },
  {
   "cell_type": "code",
   "execution_count": 100,
   "metadata": {},
   "outputs": [],
   "source": [
    "class solution():\n",
    "    def distance(self,matrix):\n",
    "        dis=[[float('inf')]*len(matrix) for _ in range(len(matrix))]\n",
    "        for i in range(len(matrix)):\n",
    "            for j in range(len(matrix)):\n",
    "                if matrix[i][j]==0:\n",
    "                    dis[i][j]=0\n",
    "                else:\n",
    "                    if i>0:\n",
    "                        dis[i][j]=min(dis[i][j],dis[i-1][j]+1)\n",
    "                    if j>0:\n",
    "                        dis[i][j]=min(dis[i][j],dis[i][j-1]+1)\n",
    "        return dis"
   ]
  },
  {
   "cell_type": "code",
   "execution_count": 101,
   "metadata": {},
   "outputs": [
    {
     "data": {
      "text/plain": [
       "array([[0, 0, 0],\n",
       "       [0, 1, 0],\n",
       "       [0, 0, 0]])"
      ]
     },
     "execution_count": 101,
     "metadata": {},
     "output_type": "execute_result"
    }
   ],
   "source": [
    "ini=numpy.array([[0,0,0],\n",
    "               [0,1,0],\n",
    "               [0,0,0]])\n",
    "ini"
   ]
  },
  {
   "cell_type": "code",
   "execution_count": 103,
   "metadata": {},
   "outputs": [
    {
     "data": {
      "text/plain": [
       "[[0, 0, 0], [0, 1, 0], [0, 0, 0]]"
      ]
     },
     "execution_count": 103,
     "metadata": {},
     "output_type": "execute_result"
    }
   ],
   "source": [
    "c=solution()\n",
    "c.distance(ini)"
   ]
  },
  {
   "cell_type": "code",
   "execution_count": 104,
   "metadata": {},
   "outputs": [
    {
     "data": {
      "text/plain": [
       "[[0, 0, 0], [0, 1, 0], [1, 2, 1]]"
      ]
     },
     "execution_count": 104,
     "metadata": {},
     "output_type": "execute_result"
    }
   ],
   "source": [
    "ini2=numpy.array([[0,0,0],\n",
    "                 [0,1,0],\n",
    "                 [1,1,1]])\n",
    "c.distance(ini2)"
   ]
  },
  {
   "cell_type": "code",
   "execution_count": 94,
   "metadata": {
    "collapsed": true
   },
   "outputs": [],
   "source": []
  },
  {
   "cell_type": "code",
   "execution_count": null,
   "metadata": {},
   "outputs": [],
   "source": []
  },
  {
   "cell_type": "markdown",
   "metadata": {},
   "source": [
    "compensation:"
   ]
  },
  {
   "cell_type": "code",
   "execution_count": 3,
   "metadata": {},
   "outputs": [
    {
     "name": "stdout",
     "output_type": "stream",
     "text": [
      "Deque: deque(['a', 'b', 'c', 'd', 'e', 'f', 'g'])\n",
      "Length: 7\n",
      "Left end: a\n",
      "Right end: g\n",
      "remove(c): deque(['a', 'b', 'd', 'e', 'f', 'g'])\n"
     ]
    }
   ],
   "source": [
    "d=collections.deque('abcdefg')\n",
    "print ('Deque:',d)\n",
    "print ('Length:',len(d))\n",
    "print ('Left end:',d[0])\n",
    "print ('Right end:',d[-1])\n",
    " \n",
    "d.remove('c')\n",
    "print ('remove(c):',d)"
   ]
  },
  {
   "cell_type": "code",
   "execution_count": 4,
   "metadata": {},
   "outputs": [
    {
     "name": "stdout",
     "output_type": "stream",
     "text": [
      "extend: deque(['a', 'b', 'c', 'd', 'e', 'f', 'g'])\n",
      "append: deque(['a', 'b', 'c', 'd', 'e', 'f', 'g', 'h'])\n",
      "extendleft: deque([5, 4, 3, 2, 1, 0])\n",
      "appendleft: deque([6, 5, 4, 3, 2, 1, 0])\n"
     ]
    }
   ],
   "source": [
    "d1=collections.deque()\n",
    "d1.extend('abcdefg')\n",
    "print ('extend:',d1)\n",
    "d1.append('h')\n",
    "print ('append:',d1)\n",
    "# add to left\n",
    "d2=collections.deque()\n",
    "d2.extendleft(range(6))\n",
    "print ('extendleft:',d2)\n",
    "d2.appendleft(6)\n",
    "print ('appendleft:',d2)"
   ]
  },
  {
   "cell_type": "code",
   "execution_count": 5,
   "metadata": {},
   "outputs": [
    {
     "name": "stdout",
     "output_type": "stream",
     "text": [
      "[3, 4, 5, 6]\n",
      "4\n",
      "[3, 5, 6]\n"
     ]
    }
   ],
   "source": [
    "stack=[3,4,5]\n",
    "stack.append(6)\n",
    "print(stack)\n",
    "print(stack.pop(1))\n",
    "print(stack)"
   ]
  },
  {
   "cell_type": "code",
   "execution_count": 6,
   "metadata": {},
   "outputs": [
    {
     "name": "stdout",
     "output_type": "stream",
     "text": [
      "jean\n",
      "deque(['li', 'na', 'yang', 'chun'])\n"
     ]
    }
   ],
   "source": [
    "name=collections.deque([\"jean\",\"li\",\"na\"])\n",
    "name.append(\"yang\")\n",
    "name.append(\"chun\")\n",
    "print(name.popleft())  \n",
    "print(name)   #popleft is used in collections, while pop is used in list"
   ]
  },
  {
   "cell_type": "code",
   "execution_count": 7,
   "metadata": {},
   "outputs": [
    {
     "data": {
      "text/plain": [
       "2"
      ]
     },
     "execution_count": 7,
     "metadata": {},
     "output_type": "execute_result"
    }
   ],
   "source": [
    "#eg.\n",
    "i=[1,2,3]\n",
    "i.pop(1)"
   ]
  },
  {
   "cell_type": "code",
   "execution_count": 8,
   "metadata": {},
   "outputs": [
    {
     "data": {
      "text/plain": [
       "inf"
      ]
     },
     "execution_count": 8,
     "metadata": {},
     "output_type": "execute_result"
    }
   ],
   "source": [
    "float('inf')   #positive infinity"
   ]
  },
  {
   "cell_type": "code",
   "execution_count": 63,
   "metadata": {},
   "outputs": [
    {
     "data": {
      "text/plain": [
       "[inf]"
      ]
     },
     "execution_count": 63,
     "metadata": {},
     "output_type": "execute_result"
    }
   ],
   "source": [
    "[float(\"inf\")]*1"
   ]
  },
  {
   "cell_type": "code",
   "execution_count": 78,
   "metadata": {
    "collapsed": true
   },
   "outputs": [],
   "source": [
    "class Solution2(object):\n",
    "    def updateMatrix(self, matrix):\n",
    "        \"\"\"\n",
    "        :type matrix: List[List[int]]\n",
    "        :rtype: List[List[int]]\n",
    "        \"\"\"\n",
    "        dp = [[float(\"inf\")]*len(matrix[0]) for _ in xrange(len(matrix))]   \n",
    "        #此时“_”作为临时性的名称使用。\n",
    "        #这样，当其他人阅读你的代码时将会知道，你分配了一个特定的名称，但是并不会在后面再次用到该名称。\n",
    "        \n",
    "        for i in xrange(len(matrix)):\n",
    "            for j in xrange(len(matrix[i])):\n",
    "                if matrix[i][j] == 0:\n",
    "                    dp[i][j] = 0\n",
    "                else:\n",
    "                    if i > 0:\n",
    "                        dp[i][j] = min(dp[i][j], dp[i-1][j]+1)\n",
    "                    if j > 0:\n",
    "                        dp[i][j] = min(dp[i][j], dp[i][j-1]+1)   #calculate the distance\n",
    "        for i in reversed(xrange(len(matrix))):\n",
    "            for j in reversed(xrange(len(matrix[i]))):\n",
    "                if matrix[i][j] == 0:\n",
    "                    dp[i][j] = 0\n",
    "                else:\n",
    "                    if i < len(matrix)-1:\n",
    "                        dp[i][j] = min(dp[i][j], dp[i+1][j]+1)\n",
    "                    if j < len(matrix[i])-1:\n",
    "                        dp[i][j] = min(dp[i][j], dp[i][j+1]+1)\n",
    "        return dp"
   ]
  },
  {
   "cell_type": "code",
   "execution_count": 11,
   "metadata": {
    "collapsed": true,
    "scrolled": false
   },
   "outputs": [],
   "source": [
    "import numpy"
   ]
  },
  {
   "cell_type": "code",
   "execution_count": 12,
   "metadata": {
    "collapsed": true
   },
   "outputs": [],
   "source": [
    "a=numpy.array([[0,1,1],\n",
    "        [1,0,1],\n",
    "        [0,0,1]])"
   ]
  },
  {
   "cell_type": "code",
   "execution_count": 29,
   "metadata": {},
   "outputs": [
    {
     "data": {
      "text/plain": [
       "inf"
      ]
     },
     "execution_count": 29,
     "metadata": {},
     "output_type": "execute_result"
    }
   ],
   "source": [
    "dp = [[float(\"inf\")]*len(a[0]) for _ in range(len(a))] \n"
   ]
  },
  {
   "cell_type": "code",
   "execution_count": 40,
   "metadata": {},
   "outputs": [
    {
     "data": {
      "text/plain": [
       "range(0, 3)"
      ]
     },
     "execution_count": 40,
     "metadata": {},
     "output_type": "execute_result"
    }
   ],
   "source": [
    "range(len(a[0]))"
   ]
  },
  {
   "cell_type": "code",
   "execution_count": 13,
   "metadata": {},
   "outputs": [
    {
     "data": {
      "text/plain": [
       "array([[0, 1, 1],\n",
       "       [1, 0, 1],\n",
       "       [0, 0, 1]])"
      ]
     },
     "execution_count": 13,
     "metadata": {},
     "output_type": "execute_result"
    }
   ],
   "source": [
    "a"
   ]
  },
  {
   "cell_type": "code",
   "execution_count": 14,
   "metadata": {},
   "outputs": [
    {
     "data": {
      "text/plain": [
       "numpy.ndarray"
      ]
     },
     "execution_count": 14,
     "metadata": {},
     "output_type": "execute_result"
    }
   ],
   "source": [
    "type(a)"
   ]
  },
  {
   "cell_type": "code",
   "execution_count": 15,
   "metadata": {},
   "outputs": [
    {
     "data": {
      "text/plain": [
       "(3, 3)"
      ]
     },
     "execution_count": 15,
     "metadata": {},
     "output_type": "execute_result"
    }
   ],
   "source": [
    "a.shape"
   ]
  },
  {
   "cell_type": "code",
   "execution_count": 79,
   "metadata": {
    "collapsed": true
   },
   "outputs": [],
   "source": [
    "c=Solution2()"
   ]
  },
  {
   "cell_type": "code",
   "execution_count": 80,
   "metadata": {},
   "outputs": [
    {
     "data": {
      "text/plain": [
       "[[0, 0, 0], [0, 1, 0], [0, 0, 0]]"
      ]
     },
     "execution_count": 80,
     "metadata": {},
     "output_type": "execute_result"
    }
   ],
   "source": [
    "c.updateMatrix(ini)"
   ]
  },
  {
   "cell_type": "code",
   "execution_count": 49,
   "metadata": {},
   "outputs": [
    {
     "name": "stdout",
     "output_type": "stream",
     "text": [
      "0\n",
      "0\n",
      "1\n",
      "1 1\n",
      "2\n",
      "2 2\n",
      "-\n",
      "1\n",
      "0\n",
      "1 1\n",
      "1\n",
      "2\n",
      "1 1\n",
      "2 1\n",
      "-\n",
      "2\n",
      "0\n",
      "1\n",
      "2\n",
      "2 1\n",
      "2 1\n",
      "-\n"
     ]
    },
    {
     "data": {
      "text/plain": [
       "[[0, 1, 2], [1, 0, 1], [0, 0, 1]]"
      ]
     },
     "execution_count": 49,
     "metadata": {},
     "output_type": "execute_result"
    }
   ],
   "source": [
    "\n",
    "for i in xrange(len(a)):\n",
    "            print(i)\n",
    "            for j in xrange(len(a[i])):\n",
    "                print(j)\n",
    "                if a[i][j] == 0:\n",
    "                    dp[i][j] = 0\n",
    "                else:\n",
    "                    if i > 0:\n",
    "                        dp[i][j] = min(dp[i][j], dp[i-1][j]+1)\n",
    "                        print(i,dp[i][j])\n",
    "                    if j > 0:\n",
    "                        dp[i][j] = min(dp[i][j], dp[i][j-1]+1)\n",
    "                        print(j,dp[i][j])\n",
    "            print('-')\n",
    "dp"
   ]
  },
  {
   "cell_type": "code",
   "execution_count": 48,
   "metadata": {},
   "outputs": [
    {
     "name": "stdout",
     "output_type": "stream",
     "text": [
      "2\n",
      "2\n",
      "1\n",
      "0\n",
      "-\n",
      "1\n",
      "2\n",
      "1 1\n",
      "1\n",
      "0\n",
      "1 1\n",
      "0 1\n",
      "-\n",
      "0\n",
      "2\n",
      "0 2\n",
      "1\n",
      "0 1\n",
      "1 1\n",
      "0\n",
      "-\n"
     ]
    },
    {
     "data": {
      "text/plain": [
       "[[0, 1, 2], [1, 0, 1], [0, 0, 1]]"
      ]
     },
     "execution_count": 48,
     "metadata": {},
     "output_type": "execute_result"
    }
   ],
   "source": [
    " for i in reversed(xrange(len(a))):\n",
    "            print(i)\n",
    "            for j in reversed(xrange(len(a[i]))):\n",
    "                print(j)\n",
    "                if a[i][j] == 0:\n",
    "                    dp[i][j] = 0\n",
    "                else:\n",
    "                    if i < len(a)-1:\n",
    "                        dp[i][j] = min(dp[i][j], dp[i+1][j]+1)\n",
    "                        print(i,dp[i][j])\n",
    "                    if j < len(a[i])-1:\n",
    "                        dp[i][j] = min(dp[i][j], dp[i][j+1]+1)\n",
    "                        print(j,dp[i][j])\n",
    "            print('-')\n",
    "dp"
   ]
  },
  {
   "cell_type": "code",
   "execution_count": null,
   "metadata": {
    "collapsed": true
   },
   "outputs": [],
   "source": []
  }
 ],
 "metadata": {
  "kernelspec": {
   "display_name": "Python 3",
   "language": "python",
   "name": "python3"
  },
  "language_info": {
   "codemirror_mode": {
    "name": "ipython",
    "version": 3
   },
   "file_extension": ".py",
   "mimetype": "text/x-python",
   "name": "python",
   "nbconvert_exporter": "python",
   "pygments_lexer": "ipython3",
   "version": "3.6.1"
  }
 },
 "nbformat": 4,
 "nbformat_minor": 2
}
