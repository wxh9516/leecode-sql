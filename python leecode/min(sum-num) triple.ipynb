{
 "cells": [
  {
   "cell_type": "code",
   "execution_count": null,
   "metadata": {},
   "outputs": [],
   "source": [
    "#Given an array S of n integers, find three integers in S such that the sum is\n",
    "#closest to a given number, target. Return the sum of the three integers. You\n",
    "#may assume that each input would have exactly one solution.\n",
    "#    For example, given array S = {-1 2 1 -4}, and target = 1.\n",
    "#    The sum that is closest to the target is 2. (-1 + 2 + 1 = 2)."
   ]
  },
  {
   "cell_type": "code",
   "execution_count": 94,
   "metadata": {},
   "outputs": [],
   "source": [
    "class solution():\n",
    "    def sum(self,array,num):\n",
    "        array.sort()\n",
    "        s=[]\n",
    "        dis=[]\n",
    "        for i in range(len(array)-2):   #-2!!!\n",
    "            left=i+1\n",
    "            right=len(array)-1\n",
    "            while left<right:\n",
    "                sum=array[i]+array[left]+array[right]\n",
    "                s.append(sum)\n",
    "                while left<right and array[left+1]==array[left]:\n",
    "                    left+=1\n",
    "                while left<right and array[right-1]==array[right]:\n",
    "                    right-=1\n",
    "                if sum-num==0:\n",
    "                    return sum\n",
    "                if sum-num>=0:\n",
    "                    right-=1\n",
    "                else:\n",
    "                    left+=1\n",
    "        for i in range(len(s)):\n",
    "            dis.append(abs(s[i]-num))\n",
    "            i+=1\n",
    "        return min(dis)+num   #attention, output is the sum, not (sum-num)\n",
    "                "
   ]
  },
  {
   "cell_type": "code",
   "execution_count": 103,
   "metadata": {},
   "outputs": [
    {
     "data": {
      "text/plain": [
       "2"
      ]
     },
     "execution_count": 103,
     "metadata": {},
     "output_type": "execute_result"
    }
   ],
   "source": [
    "s=[-1,2,1,-4]\n",
    "a=solution()\n",
    "a.sum(s,1)"
   ]
  },
  {
   "cell_type": "code",
   "execution_count": 102,
   "metadata": {},
   "outputs": [
    {
     "data": {
      "text/plain": [
       "0"
      ]
     },
     "execution_count": 102,
     "metadata": {},
     "output_type": "execute_result"
    }
   ],
   "source": [
    "m=[1,2,0,-1,11]\n",
    "a=solution()\n",
    "a.sum(m,-3)"
   ]
  },
  {
   "cell_type": "markdown",
   "metadata": {},
   "source": [
    "compensation:"
   ]
  },
  {
   "cell_type": "code",
   "execution_count": 86,
   "metadata": {
    "collapsed": true
   },
   "outputs": [],
   "source": [
    "class Solution(object):\n",
    "    def threeSumClosest(self, nums, target):\n",
    "        \"\"\"\n",
    "        :type nums: List[int]\n",
    "        :type target: int\n",
    "        :rtype: int\n",
    "        \"\"\"\n",
    "        nums.sort()\n",
    "        n = len(nums)\n",
    "        res = nums[0] + nums[1] + nums[2]\n",
    "        for i in range(n - 2):\n",
    "            l = i + 1\n",
    "            r = n - 1\n",
    "            while l < r:\n",
    "                s = nums[i] + nums[l] + nums[r]\n",
    "                if abs(s - target) < abs(res - target):\n",
    "                    res = s\n",
    "                if s == target:\n",
    "                    return s\n",
    "                elif s < target:\n",
    "                    l += 1\n",
    "                else:\n",
    "                    r -= 1\n",
    "        return res"
   ]
  },
  {
   "cell_type": "code",
   "execution_count": 100,
   "metadata": {},
   "outputs": [
    {
     "data": {
      "text/plain": [
       "0"
      ]
     },
     "execution_count": 100,
     "metadata": {},
     "output_type": "execute_result"
    }
   ],
   "source": [
    "m=[1,2,0,-1,11]\n",
    "b=Solution()\n",
    "b.threeSumClosest(m,-3)\n"
   ]
  },
  {
   "cell_type": "code",
   "execution_count": null,
   "metadata": {
    "collapsed": true
   },
   "outputs": [],
   "source": []
  }
 ],
 "metadata": {
  "kernelspec": {
   "display_name": "Python 3",
   "language": "python",
   "name": "python3"
  },
  "language_info": {
   "codemirror_mode": {
    "name": "ipython",
    "version": 3
   },
   "file_extension": ".py",
   "mimetype": "text/x-python",
   "name": "python",
   "nbconvert_exporter": "python",
   "pygments_lexer": "ipython3",
   "version": "3.6.1"
  }
 },
 "nbformat": 4,
 "nbformat_minor": 2
}
