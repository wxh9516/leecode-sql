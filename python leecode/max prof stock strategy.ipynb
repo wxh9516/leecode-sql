{
 "cells": [
  {
   "cell_type": "markdown",
   "metadata": {},
   "source": [
    "\"\"\"\n",
    "Say you have an array for which the ith element is the price of a given stock\n",
    "on day i.\n",
    "If you were only permitted to complete at most one transaction (ie, buy one\n",
    "and sell one share of the stock), design an algorithm to find the maximum\n",
    "profit.\n",
    "\"\"\""
   ]
  },
  {
   "cell_type": "code",
   "execution_count": null,
   "metadata": {
    "collapsed": true
   },
   "outputs": [],
   "source": [
    "#???"
   ]
  },
  {
   "cell_type": "code",
   "execution_count": 64,
   "metadata": {
    "collapsed": true
   },
   "outputs": [],
   "source": [
    "class solution():\n",
    "    def pro(self,price):\n",
    "        prof=0\n",
    "        minp=price[0]\n",
    "        maxp=price[0]\n",
    "        for i,p in enumerate(price):\n",
    "            minp=min(p,minp)\n",
    "            maxp=max(p,maxp)\n",
    "            prof=max(maxp-minp,prof)\n",
    "            print(i,minp,maxp,prof)\n",
    "        return prof"
   ]
  },
  {
   "cell_type": "code",
   "execution_count": 66,
   "metadata": {},
   "outputs": [
    {
     "name": "stdout",
     "output_type": "stream",
     "text": [
      "0 1 1 0\n",
      "1 1 2 1\n",
      "2 1 3 2\n",
      "3 1 4 3\n",
      "4 1 6 5\n",
      "5 1 6 5\n",
      "6 1 6 5\n"
     ]
    },
    {
     "data": {
      "text/plain": [
       "5"
      ]
     },
     "execution_count": 66,
     "metadata": {},
     "output_type": "execute_result"
    }
   ],
   "source": [
    "a=solution()\n",
    "price=[1,2,3,4,6,3,1]\n",
    "a.pro(price)"
   ]
  },
  {
   "cell_type": "code",
   "execution_count": 59,
   "metadata": {
    "collapsed": true
   },
   "outputs": [],
   "source": []
  },
  {
   "cell_type": "code",
   "execution_count": null,
   "metadata": {},
   "outputs": [],
   "source": []
  },
  {
   "cell_type": "code",
   "execution_count": 13,
   "metadata": {},
   "outputs": [],
   "source": []
  },
  {
   "cell_type": "code",
   "execution_count": null,
   "metadata": {},
   "outputs": [],
   "source": []
  },
  {
   "cell_type": "code",
   "execution_count": null,
   "metadata": {
    "collapsed": true
   },
   "outputs": [],
   "source": []
  }
 ],
 "metadata": {
  "kernelspec": {
   "display_name": "Python 3",
   "language": "python",
   "name": "python3"
  },
  "language_info": {
   "codemirror_mode": {
    "name": "ipython",
    "version": 3
   },
   "file_extension": ".py",
   "mimetype": "text/x-python",
   "name": "python",
   "nbconvert_exporter": "python",
   "pygments_lexer": "ipython3",
   "version": "3.6.1"
  }
 },
 "nbformat": 4,
 "nbformat_minor": 2
}
