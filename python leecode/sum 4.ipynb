{
 "cells": [
  {
   "cell_type": "code",
   "execution_count": null,
   "metadata": {
    "collapsed": true
   },
   "outputs": [],
   "source": [
    "#Given an array S of n integers, are there elements a, b, c, and d in S such\n",
    "#that a + b + c + d = target? Find all unique quadruplets in the array which\n",
    "#gives the sum of target.\n",
    "#Note:\n",
    "#Elements in a quadruplet (a,b,c,d) must be in non-descending order. (ie, a ≤ b\n",
    "#≤ c ≤ d)\n",
    "#The solution set must not contain duplicate quadruplets.\n",
    "#    For example, given array S = {1 0 -1 0 -2 2}, and target = 0.\n",
    "#    A solution set is:\n",
    "#    (-1,  0, 0, 1)\n",
    "#    (-2, -1, 1, 2)\n",
    "#    (-2,  0, 0, 2)"
   ]
  },
  {
   "cell_type": "code",
   "execution_count": 21,
   "metadata": {
    "collapsed": true
   },
   "outputs": [],
   "source": [
    "class solution():\n",
    "    def quad(self,ary,num):\n",
    "        ary.sort()\n",
    "        s=[]\n",
    "        for i in range(len(ary)-3):\n",
    "            while ary[i+1]==ary[i]:   #!!!\n",
    "                i=+1\n",
    "            for b in range(i+1,len(ary)-2):   #!!!\n",
    "                if ary[b+1]==ary[b]:\n",
    "                    b+=1\n",
    "                mid=b+1\n",
    "                right=len(ary)-1\n",
    "                while mid<right:\n",
    "                    sum=ary[i]+ary[b]+ary[mid]+ary[right]\n",
    "                    if sum-num==0:\n",
    "                        s.append([ary[i],ary[b],ary[mid],ary[right]])\n",
    "                        mid+=1\n",
    "                        right-=1   #!!!\n",
    "                        while mid<right and ary[mid+1]==ary[mid]:\n",
    "                            mid+=1\n",
    "                        while mid<right and ary[right-1]==ary[right]:\n",
    "                            right-=1\n",
    "                    if sum-num>0:\n",
    "                        right-=1\n",
    "                    else:\n",
    "                        mid+=1\n",
    "        return s"
   ]
  },
  {
   "cell_type": "code",
   "execution_count": 61,
   "metadata": {
    "collapsed": true
   },
   "outputs": [],
   "source": [
    "class solution():\n",
    "    def quad(self,ary,num):\n",
    "        ary.sort()\n",
    "        s=[]\n",
    "        for i in range(len(ary)-3):\n",
    "            for b in range(i+1,len(ary)-2):   #!!!\n",
    "                mid=b+1\n",
    "                right=len(ary)-1\n",
    "                while mid<right:\n",
    "                    sum=ary[i]+ary[b]+ary[mid]+ary[right]\n",
    "                    if sum-num==0:\n",
    "                        s.append([ary[i],ary[b],ary[mid],ary[right]])\n",
    "                        mid+=1\n",
    "                        right-=1   #!!!\n",
    "                        while mid<right and ary[mid+1]==ary[mid]:\n",
    "                            mid+=1\n",
    "                        while mid<right and ary[right-1]==ary[right]:\n",
    "                            right-=1\n",
    "                    if sum-num>0:\n",
    "                        right-=1\n",
    "                    else:\n",
    "                        mid+=1\n",
    "        s1=[]\n",
    "        [s1.append(i) for i in s if not i in s1]    #delete duplicate array\n",
    "        #what will the code be like without this row?(add sth. into def?)\n",
    "        return s1"
   ]
  },
  {
   "cell_type": "code",
   "execution_count": 67,
   "metadata": {},
   "outputs": [
    {
     "data": {
      "text/plain": [
       "[[-2, -1, 1, 2], [-2, 0, 0, 2], [-1, 0, 0, 1]]"
      ]
     },
     "execution_count": 67,
     "metadata": {},
     "output_type": "execute_result"
    }
   ],
   "source": [
    "s=[1, 0, -1, 0, -2, 2]\n",
    "a=solution()\n",
    "a.quad(s,0)"
   ]
  },
  {
   "cell_type": "code",
   "execution_count": null,
   "metadata": {},
   "outputs": [],
   "source": []
  },
  {
   "cell_type": "code",
   "execution_count": 69,
   "metadata": {},
   "outputs": [
    {
     "name": "stdout",
     "output_type": "stream",
     "text": [
      "[-2, -1, 1, 2]\n",
      "[-2, 0, 0, 2]\n",
      "[-1, 0, 0, 1]\n"
     ]
    }
   ],
   "source": [
    "for i in a.quad(s,0):\n",
    "    print(i)"
   ]
  },
  {
   "cell_type": "markdown",
   "metadata": {},
   "source": [
    "compensation:"
   ]
  },
  {
   "cell_type": "code",
   "execution_count": 25,
   "metadata": {
    "collapsed": true
   },
   "outputs": [],
   "source": [
    "class Solution(object):\n",
    "    def fourSum(self, nums, target):\n",
    "        \"\"\"\n",
    "        :type nums: List[int]\n",
    "        :type target: int\n",
    "        :rtype: List[List[int]]\n",
    "        \"\"\"\n",
    "        n = len(nums)\n",
    "        nums.sort()\n",
    "        res = []\n",
    "        for a in range(n - 3):\n",
    "            if a > 0 and nums[a - 1] == nums[a]:\n",
    "                continue\n",
    "            for b in range(a + 1, n - 2):\n",
    "                if b > a + 1 and nums[b - 1] == nums[b]:\n",
    "                    continue\n",
    "                c = b + 1\n",
    "                d = n - 1\n",
    "                while c < d:\n",
    "                    s = nums[a] + nums[b] + nums[c] + nums[d]\n",
    "                    if s == target:\n",
    "                        res.append([nums[a], nums[b], nums[c], nums[d]])\n",
    "                        c += 1\n",
    "                        d -= 1\n",
    "                        while c < d and nums[c] == nums[c - 1]:\n",
    "                            c += 1\n",
    "                        while c < d and nums[d] == nums[d + 1]:\n",
    "                            d -= 1\n",
    "                    elif s < target:\n",
    "                        c += 1\n",
    "                    else:\n",
    "                        d -= 1\n",
    "        return res"
   ]
  },
  {
   "cell_type": "code",
   "execution_count": null,
   "metadata": {
    "collapsed": true
   },
   "outputs": [],
   "source": []
  }
 ],
 "metadata": {
  "kernelspec": {
   "display_name": "Python 3",
   "language": "python",
   "name": "python3"
  },
  "language_info": {
   "codemirror_mode": {
    "name": "ipython",
    "version": 3
   },
   "file_extension": ".py",
   "mimetype": "text/x-python",
   "name": "python",
   "nbconvert_exporter": "python",
   "pygments_lexer": "ipython3",
   "version": "3.6.1"
  }
 },
 "nbformat": 4,
 "nbformat_minor": 2
}
