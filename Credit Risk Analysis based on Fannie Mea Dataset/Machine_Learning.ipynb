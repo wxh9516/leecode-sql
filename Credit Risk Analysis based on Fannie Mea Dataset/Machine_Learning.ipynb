{
 "cells": [
  {
   "cell_type": "code",
   "execution_count": 1,
   "metadata": {},
   "outputs": [],
   "source": [
    "import pandas as pd\n",
    "import numpy as np"
   ]
  },
  {
   "cell_type": "code",
   "execution_count": 3,
   "metadata": {},
   "outputs": [],
   "source": [
    "df = pd.read_csv(\"dataset.csv\")"
   ]
  },
  {
   "cell_type": "code",
   "execution_count": 6,
   "metadata": {},
   "outputs": [
    {
     "data": {
      "text/html": [
       "<div>\n",
       "<table border=\"1\" class=\"dataframe\">\n",
       "  <thead>\n",
       "    <tr style=\"text-align: right;\">\n",
       "      <th></th>\n",
       "      <th>OrInterestRate</th>\n",
       "      <th>OrLoanTerm</th>\n",
       "      <th>DTIRat</th>\n",
       "      <th>OrLTV</th>\n",
       "      <th>CreditScore</th>\n",
       "      <th>LoanPurpose</th>\n",
       "      <th>PropertyType</th>\n",
       "      <th>OccStatus</th>\n",
       "      <th>Default</th>\n",
       "    </tr>\n",
       "  </thead>\n",
       "  <tbody>\n",
       "    <tr>\n",
       "      <th>6399224.0</th>\n",
       "      <td>4.500</td>\n",
       "      <td>360</td>\n",
       "      <td>27.0</td>\n",
       "      <td>42</td>\n",
       "      <td>798.0</td>\n",
       "      <td>P</td>\n",
       "      <td>SF</td>\n",
       "      <td>P</td>\n",
       "      <td>0</td>\n",
       "    </tr>\n",
       "    <tr>\n",
       "      <th>7956560.0</th>\n",
       "      <td>4.375</td>\n",
       "      <td>360</td>\n",
       "      <td>29.0</td>\n",
       "      <td>90</td>\n",
       "      <td>813.0</td>\n",
       "      <td>P</td>\n",
       "      <td>SF</td>\n",
       "      <td>P</td>\n",
       "      <td>0</td>\n",
       "    </tr>\n",
       "    <tr>\n",
       "      <th>9969189.0</th>\n",
       "      <td>4.000</td>\n",
       "      <td>180</td>\n",
       "      <td>43.0</td>\n",
       "      <td>43</td>\n",
       "      <td>675.0</td>\n",
       "      <td>C</td>\n",
       "      <td>SF</td>\n",
       "      <td>P</td>\n",
       "      <td>0</td>\n",
       "    </tr>\n",
       "    <tr>\n",
       "      <th>9015691.0</th>\n",
       "      <td>4.990</td>\n",
       "      <td>360</td>\n",
       "      <td>41.0</td>\n",
       "      <td>97</td>\n",
       "      <td>722.0</td>\n",
       "      <td>P</td>\n",
       "      <td>SF</td>\n",
       "      <td>P</td>\n",
       "      <td>0</td>\n",
       "    </tr>\n",
       "    <tr>\n",
       "      <th>1132402.0</th>\n",
       "      <td>4.500</td>\n",
       "      <td>360</td>\n",
       "      <td>14.0</td>\n",
       "      <td>18</td>\n",
       "      <td>778.0</td>\n",
       "      <td>P</td>\n",
       "      <td>SF</td>\n",
       "      <td>P</td>\n",
       "      <td>0</td>\n",
       "    </tr>\n",
       "  </tbody>\n",
       "</table>\n",
       "</div>"
      ],
      "text/plain": [
       "           OrInterestRate  OrLoanTerm  DTIRat  OrLTV  CreditScore LoanPurpose  \\\n",
       "6399224.0           4.500         360    27.0     42        798.0           P   \n",
       "7956560.0           4.375         360    29.0     90        813.0           P   \n",
       "9969189.0           4.000         180    43.0     43        675.0           C   \n",
       "9015691.0           4.990         360    41.0     97        722.0           P   \n",
       "1132402.0           4.500         360    14.0     18        778.0           P   \n",
       "\n",
       "          PropertyType OccStatus  Default  \n",
       "6399224.0           SF         P        0  \n",
       "7956560.0           SF         P        0  \n",
       "9969189.0           SF         P        0  \n",
       "9015691.0           SF         P        0  \n",
       "1132402.0           SF         P        0  "
      ]
     },
     "execution_count": 6,
     "metadata": {},
     "output_type": "execute_result"
    }
   ],
   "source": [
    "data.head()"
   ]
  },
  {
   "cell_type": "code",
   "execution_count": 8,
   "metadata": {},
   "outputs": [],
   "source": [
    "data = data.dropna(axis=1, how='any')"
   ]
  },
  {
   "cell_type": "code",
   "execution_count": 10,
   "metadata": {},
   "outputs": [
    {
     "data": {
      "text/html": [
       "<div>\n",
       "<table border=\"1\" class=\"dataframe\">\n",
       "  <thead>\n",
       "    <tr style=\"text-align: right;\">\n",
       "      <th></th>\n",
       "      <th>OrInterestRate</th>\n",
       "      <th>OrLoanTerm</th>\n",
       "      <th>OrLTV</th>\n",
       "      <th>LoanPurpose</th>\n",
       "      <th>PropertyType</th>\n",
       "      <th>OccStatus</th>\n",
       "      <th>Default</th>\n",
       "    </tr>\n",
       "  </thead>\n",
       "  <tbody>\n",
       "    <tr>\n",
       "      <th>6399224.0</th>\n",
       "      <td>4.500</td>\n",
       "      <td>360</td>\n",
       "      <td>42</td>\n",
       "      <td>P</td>\n",
       "      <td>SF</td>\n",
       "      <td>P</td>\n",
       "      <td>0</td>\n",
       "    </tr>\n",
       "    <tr>\n",
       "      <th>7956560.0</th>\n",
       "      <td>4.375</td>\n",
       "      <td>360</td>\n",
       "      <td>90</td>\n",
       "      <td>P</td>\n",
       "      <td>SF</td>\n",
       "      <td>P</td>\n",
       "      <td>0</td>\n",
       "    </tr>\n",
       "    <tr>\n",
       "      <th>9969189.0</th>\n",
       "      <td>4.000</td>\n",
       "      <td>180</td>\n",
       "      <td>43</td>\n",
       "      <td>C</td>\n",
       "      <td>SF</td>\n",
       "      <td>P</td>\n",
       "      <td>0</td>\n",
       "    </tr>\n",
       "    <tr>\n",
       "      <th>9015691.0</th>\n",
       "      <td>4.990</td>\n",
       "      <td>360</td>\n",
       "      <td>97</td>\n",
       "      <td>P</td>\n",
       "      <td>SF</td>\n",
       "      <td>P</td>\n",
       "      <td>0</td>\n",
       "    </tr>\n",
       "    <tr>\n",
       "      <th>1132402.0</th>\n",
       "      <td>4.500</td>\n",
       "      <td>360</td>\n",
       "      <td>18</td>\n",
       "      <td>P</td>\n",
       "      <td>SF</td>\n",
       "      <td>P</td>\n",
       "      <td>0</td>\n",
       "    </tr>\n",
       "  </tbody>\n",
       "</table>\n",
       "</div>"
      ],
      "text/plain": [
       "           OrInterestRate  OrLoanTerm  OrLTV LoanPurpose PropertyType  \\\n",
       "6399224.0           4.500         360     42           P           SF   \n",
       "7956560.0           4.375         360     90           P           SF   \n",
       "9969189.0           4.000         180     43           C           SF   \n",
       "9015691.0           4.990         360     97           P           SF   \n",
       "1132402.0           4.500         360     18           P           SF   \n",
       "\n",
       "          OccStatus  Default  \n",
       "6399224.0         P        0  \n",
       "7956560.0         P        0  \n",
       "9969189.0         P        0  \n",
       "9015691.0         P        0  \n",
       "1132402.0         P        0  "
      ]
     },
     "execution_count": 10,
     "metadata": {},
     "output_type": "execute_result"
    }
   ],
   "source": [
    "data.head()"
   ]
  },
  {
   "cell_type": "code",
   "execution_count": 11,
   "metadata": {},
   "outputs": [],
   "source": [
    "def getdummies(df):\n",
    "    columns = df.columns[df.isnull().any()]\n",
    "    nan_cols = df[columns]\n",
    "\n",
    "    df.drop(nan_cols.columns, axis=1, inplace=True)\n",
    "\n",
    "    cat = df.select_dtypes(include=['object'])\n",
    "    num = df.drop(cat.columns, axis=1)\n",
    "\n",
    "    data = pd.DataFrame()\n",
    "    for i in cat.columns:\n",
    "        tmp = pd.get_dummies(cat[i], drop_first=True)\n",
    "        data = pd.concat([data, tmp], axis=1)\n",
    "\n",
    "    df = pd.concat([num,data,nan_cols], axis=1).reset_index(drop=True)\n",
    "    return df"
   ]
  },
  {
   "cell_type": "code",
   "execution_count": 12,
   "metadata": {},
   "outputs": [],
   "source": [
    "df = getdummies(data)"
   ]
  },
  {
   "cell_type": "code",
   "execution_count": 17,
   "metadata": {},
   "outputs": [
    {
     "data": {
      "text/html": [
       "<div>\n",
       "<table border=\"1\" class=\"dataframe\">\n",
       "  <thead>\n",
       "    <tr style=\"text-align: right;\">\n",
       "      <th></th>\n",
       "      <th>OrInterestRate</th>\n",
       "      <th>OrLoanTerm</th>\n",
       "      <th>OrLTV</th>\n",
       "      <th>Default</th>\n",
       "      <th>P</th>\n",
       "      <th>R</th>\n",
       "      <th>U</th>\n",
       "      <th>CP</th>\n",
       "      <th>MH</th>\n",
       "      <th>PU</th>\n",
       "      <th>SF</th>\n",
       "      <th>P</th>\n",
       "      <th>S</th>\n",
       "    </tr>\n",
       "  </thead>\n",
       "  <tbody>\n",
       "    <tr>\n",
       "      <th>count</th>\n",
       "      <td>2.267538e+07</td>\n",
       "      <td>2.267538e+07</td>\n",
       "      <td>2.267538e+07</td>\n",
       "      <td>2.267538e+07</td>\n",
       "      <td>2.267538e+07</td>\n",
       "      <td>2.267538e+07</td>\n",
       "      <td>2.267538e+07</td>\n",
       "      <td>2.267538e+07</td>\n",
       "      <td>2.267538e+07</td>\n",
       "      <td>2.267538e+07</td>\n",
       "      <td>2.267538e+07</td>\n",
       "      <td>2.267538e+07</td>\n",
       "      <td>2.267538e+07</td>\n",
       "    </tr>\n",
       "    <tr>\n",
       "      <th>mean</th>\n",
       "      <td>4.217324e+00</td>\n",
       "      <td>3.168362e+02</td>\n",
       "      <td>7.638714e+01</td>\n",
       "      <td>5.002050e-01</td>\n",
       "      <td>3.017624e-01</td>\n",
       "      <td>4.092098e-01</td>\n",
       "      <td>2.205034e-07</td>\n",
       "      <td>3.032011e-03</td>\n",
       "      <td>4.928252e-03</td>\n",
       "      <td>2.106339e-01</td>\n",
       "      <td>7.208889e-01</td>\n",
       "      <td>9.155994e-01</td>\n",
       "      <td>2.922632e-02</td>\n",
       "    </tr>\n",
       "    <tr>\n",
       "      <th>std</th>\n",
       "      <td>5.780380e-01</td>\n",
       "      <td>7.715524e+01</td>\n",
       "      <td>1.485891e+01</td>\n",
       "      <td>5.000000e-01</td>\n",
       "      <td>4.590227e-01</td>\n",
       "      <td>4.916881e-01</td>\n",
       "      <td>4.695779e-04</td>\n",
       "      <td>5.498016e-02</td>\n",
       "      <td>7.002831e-02</td>\n",
       "      <td>4.077589e-01</td>\n",
       "      <td>4.485623e-01</td>\n",
       "      <td>2.779877e-01</td>\n",
       "      <td>1.684403e-01</td>\n",
       "    </tr>\n",
       "    <tr>\n",
       "      <th>min</th>\n",
       "      <td>1.750000e+00</td>\n",
       "      <td>6.000000e+01</td>\n",
       "      <td>1.000000e+00</td>\n",
       "      <td>0.000000e+00</td>\n",
       "      <td>0.000000e+00</td>\n",
       "      <td>0.000000e+00</td>\n",
       "      <td>0.000000e+00</td>\n",
       "      <td>0.000000e+00</td>\n",
       "      <td>0.000000e+00</td>\n",
       "      <td>0.000000e+00</td>\n",
       "      <td>0.000000e+00</td>\n",
       "      <td>0.000000e+00</td>\n",
       "      <td>0.000000e+00</td>\n",
       "    </tr>\n",
       "    <tr>\n",
       "      <th>25%</th>\n",
       "      <td>3.875000e+00</td>\n",
       "      <td>3.600000e+02</td>\n",
       "      <td>7.300000e+01</td>\n",
       "      <td>0.000000e+00</td>\n",
       "      <td>0.000000e+00</td>\n",
       "      <td>0.000000e+00</td>\n",
       "      <td>0.000000e+00</td>\n",
       "      <td>0.000000e+00</td>\n",
       "      <td>0.000000e+00</td>\n",
       "      <td>0.000000e+00</td>\n",
       "      <td>0.000000e+00</td>\n",
       "      <td>1.000000e+00</td>\n",
       "      <td>0.000000e+00</td>\n",
       "    </tr>\n",
       "    <tr>\n",
       "      <th>50%</th>\n",
       "      <td>4.320113e+00</td>\n",
       "      <td>3.600000e+02</td>\n",
       "      <td>7.900000e+01</td>\n",
       "      <td>1.000000e+00</td>\n",
       "      <td>0.000000e+00</td>\n",
       "      <td>0.000000e+00</td>\n",
       "      <td>0.000000e+00</td>\n",
       "      <td>0.000000e+00</td>\n",
       "      <td>0.000000e+00</td>\n",
       "      <td>0.000000e+00</td>\n",
       "      <td>1.000000e+00</td>\n",
       "      <td>1.000000e+00</td>\n",
       "      <td>0.000000e+00</td>\n",
       "    </tr>\n",
       "    <tr>\n",
       "      <th>75%</th>\n",
       "      <td>4.625000e+00</td>\n",
       "      <td>3.600000e+02</td>\n",
       "      <td>8.900000e+01</td>\n",
       "      <td>1.000000e+00</td>\n",
       "      <td>1.000000e+00</td>\n",
       "      <td>1.000000e+00</td>\n",
       "      <td>0.000000e+00</td>\n",
       "      <td>0.000000e+00</td>\n",
       "      <td>0.000000e+00</td>\n",
       "      <td>0.000000e+00</td>\n",
       "      <td>1.000000e+00</td>\n",
       "      <td>1.000000e+00</td>\n",
       "      <td>0.000000e+00</td>\n",
       "    </tr>\n",
       "    <tr>\n",
       "      <th>max</th>\n",
       "      <td>7.125000e+00</td>\n",
       "      <td>3.600000e+02</td>\n",
       "      <td>9.700000e+01</td>\n",
       "      <td>1.000000e+00</td>\n",
       "      <td>1.000000e+00</td>\n",
       "      <td>1.000000e+00</td>\n",
       "      <td>1.000000e+00</td>\n",
       "      <td>1.000000e+00</td>\n",
       "      <td>1.000000e+00</td>\n",
       "      <td>1.000000e+00</td>\n",
       "      <td>1.000000e+00</td>\n",
       "      <td>1.000000e+00</td>\n",
       "      <td>1.000000e+00</td>\n",
       "    </tr>\n",
       "  </tbody>\n",
       "</table>\n",
       "</div>"
      ],
      "text/plain": [
       "       OrInterestRate    OrLoanTerm         OrLTV       Default             P  \\\n",
       "count    2.267538e+07  2.267538e+07  2.267538e+07  2.267538e+07  2.267538e+07   \n",
       "mean     4.217324e+00  3.168362e+02  7.638714e+01  5.002050e-01  3.017624e-01   \n",
       "std      5.780380e-01  7.715524e+01  1.485891e+01  5.000000e-01  4.590227e-01   \n",
       "min      1.750000e+00  6.000000e+01  1.000000e+00  0.000000e+00  0.000000e+00   \n",
       "25%      3.875000e+00  3.600000e+02  7.300000e+01  0.000000e+00  0.000000e+00   \n",
       "50%      4.320113e+00  3.600000e+02  7.900000e+01  1.000000e+00  0.000000e+00   \n",
       "75%      4.625000e+00  3.600000e+02  8.900000e+01  1.000000e+00  1.000000e+00   \n",
       "max      7.125000e+00  3.600000e+02  9.700000e+01  1.000000e+00  1.000000e+00   \n",
       "\n",
       "                  R             U            CP            MH            PU  \\\n",
       "count  2.267538e+07  2.267538e+07  2.267538e+07  2.267538e+07  2.267538e+07   \n",
       "mean   4.092098e-01  2.205034e-07  3.032011e-03  4.928252e-03  2.106339e-01   \n",
       "std    4.916881e-01  4.695779e-04  5.498016e-02  7.002831e-02  4.077589e-01   \n",
       "min    0.000000e+00  0.000000e+00  0.000000e+00  0.000000e+00  0.000000e+00   \n",
       "25%    0.000000e+00  0.000000e+00  0.000000e+00  0.000000e+00  0.000000e+00   \n",
       "50%    0.000000e+00  0.000000e+00  0.000000e+00  0.000000e+00  0.000000e+00   \n",
       "75%    1.000000e+00  0.000000e+00  0.000000e+00  0.000000e+00  0.000000e+00   \n",
       "max    1.000000e+00  1.000000e+00  1.000000e+00  1.000000e+00  1.000000e+00   \n",
       "\n",
       "                 SF             P             S  \n",
       "count  2.267538e+07  2.267538e+07  2.267538e+07  \n",
       "mean   7.208889e-01  9.155994e-01  2.922632e-02  \n",
       "std    4.485623e-01  2.779877e-01  1.684403e-01  \n",
       "min    0.000000e+00  0.000000e+00  0.000000e+00  \n",
       "25%    0.000000e+00  1.000000e+00  0.000000e+00  \n",
       "50%    1.000000e+00  1.000000e+00  0.000000e+00  \n",
       "75%    1.000000e+00  1.000000e+00  0.000000e+00  \n",
       "max    1.000000e+00  1.000000e+00  1.000000e+00  "
      ]
     },
     "execution_count": 17,
     "metadata": {},
     "output_type": "execute_result"
    }
   ],
   "source": [
    "df.describe()"
   ]
  },
  {
   "cell_type": "code",
   "execution_count": 20,
   "metadata": {},
   "outputs": [],
   "source": [
    "df.to_csv(\"data_final.csv\")"
   ]
  },
  {
   "cell_type": "code",
   "execution_count": 9,
   "metadata": {},
   "outputs": [],
   "source": [
    "df.drop([df.columns[0]], axis=1, inplace=True)"
   ]
  },
  {
   "cell_type": "code",
   "execution_count": 10,
   "metadata": {},
   "outputs": [],
   "source": [
    "row1 = df"
   ]
  },
  {
   "cell_type": "code",
   "execution_count": 11,
   "metadata": {},
   "outputs": [
    {
     "data": {
      "text/html": [
       "<div>\n",
       "<table border=\"1\" class=\"dataframe\">\n",
       "  <thead>\n",
       "    <tr style=\"text-align: right;\">\n",
       "      <th></th>\n",
       "      <th>OrInterestRate</th>\n",
       "      <th>OrLoanTerm</th>\n",
       "      <th>OrLTV</th>\n",
       "      <th>Default</th>\n",
       "      <th>P</th>\n",
       "      <th>R</th>\n",
       "      <th>U</th>\n",
       "      <th>CP</th>\n",
       "      <th>MH</th>\n",
       "      <th>PU</th>\n",
       "      <th>SF</th>\n",
       "      <th>P.1</th>\n",
       "      <th>S</th>\n",
       "    </tr>\n",
       "  </thead>\n",
       "  <tbody>\n",
       "    <tr>\n",
       "      <th>18347819</th>\n",
       "      <td>4.248286</td>\n",
       "      <td>180</td>\n",
       "      <td>90</td>\n",
       "      <td>1</td>\n",
       "      <td>1.0</td>\n",
       "      <td>0.0</td>\n",
       "      <td>0.0</td>\n",
       "      <td>0.0</td>\n",
       "      <td>0.0</td>\n",
       "      <td>0.0</td>\n",
       "      <td>0.0</td>\n",
       "      <td>0.0</td>\n",
       "      <td>1.0</td>\n",
       "    </tr>\n",
       "    <tr>\n",
       "      <th>18058446</th>\n",
       "      <td>4.891540</td>\n",
       "      <td>360</td>\n",
       "      <td>75</td>\n",
       "      <td>1</td>\n",
       "      <td>0.0</td>\n",
       "      <td>1.0</td>\n",
       "      <td>0.0</td>\n",
       "      <td>0.0</td>\n",
       "      <td>0.0</td>\n",
       "      <td>0.0</td>\n",
       "      <td>1.0</td>\n",
       "      <td>1.0</td>\n",
       "      <td>0.0</td>\n",
       "    </tr>\n",
       "    <tr>\n",
       "      <th>19474084</th>\n",
       "      <td>4.952406</td>\n",
       "      <td>360</td>\n",
       "      <td>76</td>\n",
       "      <td>1</td>\n",
       "      <td>0.0</td>\n",
       "      <td>0.0</td>\n",
       "      <td>0.0</td>\n",
       "      <td>0.0</td>\n",
       "      <td>0.0</td>\n",
       "      <td>0.0</td>\n",
       "      <td>1.0</td>\n",
       "      <td>1.0</td>\n",
       "      <td>0.0</td>\n",
       "    </tr>\n",
       "    <tr>\n",
       "      <th>9007210</th>\n",
       "      <td>3.750000</td>\n",
       "      <td>360</td>\n",
       "      <td>93</td>\n",
       "      <td>0</td>\n",
       "      <td>1.0</td>\n",
       "      <td>0.0</td>\n",
       "      <td>0.0</td>\n",
       "      <td>0.0</td>\n",
       "      <td>0.0</td>\n",
       "      <td>1.0</td>\n",
       "      <td>0.0</td>\n",
       "      <td>1.0</td>\n",
       "      <td>0.0</td>\n",
       "    </tr>\n",
       "    <tr>\n",
       "      <th>19573455</th>\n",
       "      <td>4.898999</td>\n",
       "      <td>360</td>\n",
       "      <td>90</td>\n",
       "      <td>1</td>\n",
       "      <td>1.0</td>\n",
       "      <td>0.0</td>\n",
       "      <td>0.0</td>\n",
       "      <td>0.0</td>\n",
       "      <td>0.0</td>\n",
       "      <td>0.0</td>\n",
       "      <td>1.0</td>\n",
       "      <td>1.0</td>\n",
       "      <td>0.0</td>\n",
       "    </tr>\n",
       "  </tbody>\n",
       "</table>\n",
       "</div>"
      ],
      "text/plain": [
       "          OrInterestRate  OrLoanTerm  OrLTV  Default    P    R    U   CP   MH  \\\n",
       "18347819        4.248286         180     90        1  1.0  0.0  0.0  0.0  0.0   \n",
       "18058446        4.891540         360     75        1  0.0  1.0  0.0  0.0  0.0   \n",
       "19474084        4.952406         360     76        1  0.0  0.0  0.0  0.0  0.0   \n",
       "9007210         3.750000         360     93        0  1.0  0.0  0.0  0.0  0.0   \n",
       "19573455        4.898999         360     90        1  1.0  0.0  0.0  0.0  0.0   \n",
       "\n",
       "           PU   SF  P.1    S  \n",
       "18347819  0.0  0.0  0.0  1.0  \n",
       "18058446  0.0  1.0  1.0  0.0  \n",
       "19474084  0.0  1.0  1.0  0.0  \n",
       "9007210   1.0  0.0  1.0  0.0  \n",
       "19573455  0.0  1.0  1.0  0.0  "
      ]
     },
     "execution_count": 11,
     "metadata": {},
     "output_type": "execute_result"
    }
   ],
   "source": [
    "row1.head()"
   ]
  },
  {
   "cell_type": "code",
   "execution_count": 12,
   "metadata": {},
   "outputs": [],
   "source": [
    "y = row1['Default'].values\n",
    "X = row1.drop(['Default'], axis=1).values"
   ]
  },
  {
   "cell_type": "code",
   "execution_count": 13,
   "metadata": {},
   "outputs": [
    {
     "name": "stderr",
     "output_type": "stream",
     "text": [
      "C:\\Users\\Jimit\\Anaconda3\\lib\\site-packages\\sklearn\\utils\\fixes.py:313: FutureWarning: numpy not_equal will not check object identity in the future. The comparison did not return the same result as suggested by the identity (`is`)) and will change.\n",
      "  _nan_object_mask = _nan_object_array != _nan_object_array\n"
     ]
    }
   ],
   "source": [
    "from sklearn.model_selection import train_test_split\n",
    "from sklearn.ensemble import RandomForestClassifier, RandomForestRegressor"
   ]
  },
  {
   "cell_type": "code",
   "execution_count": 14,
   "metadata": {},
   "outputs": [],
   "source": [
    "X_train, X_test, y_train, y_test = train_test_split(X, y, test_size = 0.25, random_state=0)"
   ]
  },
  {
   "cell_type": "code",
   "execution_count": 15,
   "metadata": {},
   "outputs": [],
   "source": [
    "model = RandomForestClassifier(n_estimators=200)\n",
    "model = model.fit(X_train, y_train)"
   ]
  },
  {
   "cell_type": "code",
   "execution_count": 16,
   "metadata": {},
   "outputs": [],
   "source": [
    "predict = model.predict(X_test)"
   ]
  },
  {
   "cell_type": "code",
   "execution_count": 17,
   "metadata": {},
   "outputs": [],
   "source": [
    "from sklearn.metrics import classification_report"
   ]
  },
  {
   "cell_type": "code",
   "execution_count": 18,
   "metadata": {},
   "outputs": [
    {
     "name": "stdout",
     "output_type": "stream",
     "text": [
      "              precision    recall  f1-score   support\n",
      "\n",
      "           0       0.92      0.95      0.94      6266\n",
      "           1       0.95      0.92      0.94      6234\n",
      "\n",
      "   micro avg       0.94      0.94      0.94     12500\n",
      "   macro avg       0.94      0.94      0.94     12500\n",
      "weighted avg       0.94      0.94      0.94     12500\n",
      "\n"
     ]
    }
   ],
   "source": [
    "print(classification_report(y_test, predict))"
   ]
  },
  {
   "cell_type": "code",
   "execution_count": 59,
   "metadata": {},
   "outputs": [
    {
     "data": {
      "image/png": "[encoded data removed]",
      "text/plain": [
       "<Figure size 432x288 with 2 Axes>"
      ]
     },
     "metadata": {},
     "output_type": "display_data"
    }
   ],
   "source": [
    "cm = confusion_matrix(y_test, predict).T\n",
    "cm = cm.astype('float')/cm.sum(axis=0)\n",
    "\n",
    "fig, ax = plt.subplots()\n",
    "sns.heatmap(cm, annot=True, cmap='Blues');\n",
    "ax.set_xlabel('True Label')\n",
    "ax.set_ylabel('Predicted Label')\n",
    "ax.xaxis.set_label_position('top')"
   ]
  },
  {
   "cell_type": "code",
   "execution_count": 61,
   "metadata": {},
   "outputs": [
    {
     "data": {
      "image/png": "[encoded data removed]",
      "text/plain": [
       "<Figure size 432x288 with 1 Axes>"
      ]
     },
     "metadata": {},
     "output_type": "display_data"
    }
   ],
   "source": [
    "fpr, tpr, thresholds = roc_curve(y_test, model.predict_proba(X_test)[:,1])\n",
    "roc_auc = roc_auc_score(y_test, predict)\n",
    "\n",
    "plt.plot(fpr, tpr, lw=1, label='AUC = %0.2f'%(roc_auc))\n",
    "plt.plot([0, 1], [0, 1], '--k', lw=1)\n",
    "plt.xlabel('False Positive Rate')\n",
    "plt.ylabel('True Positive Rate')\n",
    "plt.title('Random Forest ROC')\n",
    "plt.legend(loc=\"lower right\", frameon = True).get_frame().set_edgecolor('black')"
   ]
  },
  {
   "cell_type": "code",
   "execution_count": 19,
   "metadata": {},
   "outputs": [],
   "source": [
    "from sklearn.linear_model import LogisticRegression"
   ]
  },
  {
   "cell_type": "code",
   "execution_count": 20,
   "metadata": {},
   "outputs": [
    {
     "name": "stderr",
     "output_type": "stream",
     "text": [
      "C:\\Users\\Jimit\\Anaconda3\\lib\\site-packages\\sklearn\\linear_model\\logistic.py:432: FutureWarning: Default solver will be changed to 'lbfgs' in 0.22. Specify a solver to silence this warning.\n",
      "  FutureWarning)\n"
     ]
    }
   ],
   "source": [
    "logisticRegr = LogisticRegression()\n",
    "\n",
    "logisticRegr = logisticRegr.fit(X_train, y_train)\n"
   ]
  },
  {
   "cell_type": "code",
   "execution_count": 21,
   "metadata": {},
   "outputs": [],
   "source": [
    "predict1 = logisticRegr.predict(X_test)"
   ]
  },
  {
   "cell_type": "code",
   "execution_count": 22,
   "metadata": {},
   "outputs": [
    {
     "name": "stdout",
     "output_type": "stream",
     "text": [
      "              precision    recall  f1-score   support\n",
      "\n",
      "           0       0.82      0.78      0.80      6266\n",
      "           1       0.79      0.83      0.81      6234\n",
      "\n",
      "   micro avg       0.81      0.81      0.81     12500\n",
      "   macro avg       0.81      0.81      0.81     12500\n",
      "weighted avg       0.81      0.81      0.81     12500\n",
      "\n"
     ]
    }
   ],
   "source": [
    "print(classification_report(y_test, predict1))"
   ]
  },
  {
   "cell_type": "code",
   "execution_count": 69,
   "metadata": {},
   "outputs": [
    {
     "data": {
      "image/png": "[encoded data removed]",
      "text/plain": [
       "<Figure size 432x288 with 2 Axes>"
      ]
     },
     "metadata": {},
     "output_type": "display_data"
    }
   ],
   "source": [
    "cm = confusion_matrix(y_test, predict1).T\n",
    "cm = cm.astype('float')/cm.sum(axis=0)\n",
    "\n",
    "fig, ax = plt.subplots()\n",
    "sns.heatmap(cm, annot=True, cmap='Blues');\n",
    "ax.set_xlabel('True Label')\n",
    "ax.set_ylabel('Predicted Label')\n",
    "ax.xaxis.set_label_position('top')"
   ]
  },
  {
   "cell_type": "code",
   "execution_count": 32,
   "metadata": {},
   "outputs": [],
   "source": [
    "from sklearn.svm import SVC"
   ]
  },
  {
   "cell_type": "code",
   "execution_count": 36,
   "metadata": {},
   "outputs": [],
   "source": [
    "clf = SVC(gamma='auto', probability=True)"
   ]
  },
  {
   "cell_type": "code",
   "execution_count": 37,
   "metadata": {},
   "outputs": [],
   "source": [
    "clf = clf.fit(X_train, y_train)"
   ]
  },
  {
   "cell_type": "code",
   "execution_count": 38,
   "metadata": {},
   "outputs": [
    {
     "name": "stdout",
     "output_type": "stream",
     "text": [
      "              precision    recall  f1-score   support\n",
      "\n",
      "           0       0.87      0.56      0.68      6266\n",
      "           1       0.67      0.92      0.78      6234\n",
      "\n",
      "   micro avg       0.74      0.74      0.74     12500\n",
      "   macro avg       0.77      0.74      0.73     12500\n",
      "weighted avg       0.77      0.74      0.73     12500\n",
      "\n"
     ]
    }
   ],
   "source": [
    "predict3 = clf.predict(X_test)\n",
    "print(classification_report(y_test, predict2))"
   ]
  },
  {
   "cell_type": "code",
   "execution_count": 23,
   "metadata": {},
   "outputs": [],
   "source": [
    "from sklearn.naive_bayes import GaussianNB\n",
    "gnb = GaussianNB()\n",
    "gnb = gnb.fit(X_train, y_train)"
   ]
  },
  {
   "cell_type": "code",
   "execution_count": 25,
   "metadata": {},
   "outputs": [
    {
     "name": "stdout",
     "output_type": "stream",
     "text": [
      "              precision    recall  f1-score   support\n",
      "\n",
      "           0       0.87      0.56      0.68      6266\n",
      "           1       0.67      0.92      0.78      6234\n",
      "\n",
      "   micro avg       0.74      0.74      0.74     12500\n",
      "   macro avg       0.77      0.74      0.73     12500\n",
      "weighted avg       0.77      0.74      0.73     12500\n",
      "\n"
     ]
    }
   ],
   "source": [
    "predict2 = gnb.predict(X_test)\n",
    "print(classification_report(y_test, predict2))"
   ]
  },
  {
   "cell_type": "code",
   "execution_count": null,
   "metadata": {},
   "outputs": [],
   "source": []
  },
  {
   "cell_type": "code",
   "execution_count": 65,
   "metadata": {},
   "outputs": [
    {
     "data": {
      "image/png": "[encoded data removed]",
      "text/plain": [
       "<Figure size 432x288 with 1 Axes>"
      ]
     },
     "metadata": {},
     "output_type": "display_data"
    }
   ],
   "source": [
    "fpr, tpr, thresholds = roc_curve(y_test, logisticRegr.predict_proba(X_test)[:,1])\n",
    "roc_auc = roc_auc_score(y_test, predict1)\n",
    "\n",
    "fpr1, tpr1, thresholds1 = roc_curve(y_test, model.predict_proba(X_test)[:,1])\n",
    "roc_auc1 = roc_auc_score(y_test, predict)\n",
    "\n",
    "fpr2, tpr2, thresholds2 = roc_curve(y_test, gnb.predict_proba(X_test)[:,1])\n",
    "roc_auc2 = roc_auc_score(y_test, predict2)\n",
    "\n",
    "fpr3, tpr3, thresholds3 = roc_curve(y_test, clf.predict_proba(X_test)[:,1])\n",
    "roc_auc3 = roc_auc_score(y_test, predict3)\n",
    "\n",
    "plt.plot(fpr, tpr, lw=1, label='Logistic Regression = %0.2f'%(roc_auc))\n",
    "plt.plot(fpr1, tpr1, lw=1, label='Random Forest = %0.2f'%(roc_auc1))\n",
    "plt.plot(fpr2, tpr2, lw=2, label='Naive Bayes = %0.2f'%(roc_auc2))\n",
    "plt.plot(fpr3, tpr3, lw=3, label='SVM = %0.2f'%(roc_auc3))\n",
    "\n",
    "\n",
    "plt.plot([0, 1], [0, 1], '--k', lw=1)\n",
    "plt.xlabel('False Positive Rate')\n",
    "plt.ylabel('True Positive Rate')\n",
    "plt.title('Random Forest ROC')\n",
    "plt.legend(loc=\"lower right\", frameon = True).get_frame().set_edgecolor('black')"
   ]
  }
 ],
 "metadata": {
  "kernelspec": {
   "display_name": "Python 3",
   "language": "python",
   "name": "python3"
  },
  "language_info": {
   "codemirror_mode": {
    "name": "ipython",
    "version": 3
   },
   "file_extension": ".py",
   "mimetype": "text/x-python",
   "name": "python",
   "nbconvert_exporter": "python",
   "pygments_lexer": "ipython3",
   "version": "3.5.5"
  }
 },
 "nbformat": 4,
 "nbformat_minor": 2
}
