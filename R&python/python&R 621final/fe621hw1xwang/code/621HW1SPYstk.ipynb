{
 "cells": [
  {
   "cell_type": "code",
   "execution_count": 27,
   "metadata": {
    "collapsed": true
   },
   "outputs": [],
   "source": [
    "from bs4 import BeautifulSoup as soup"
   ]
  },
  {
   "cell_type": "code",
   "execution_count": 28,
   "metadata": {
    "collapsed": true
   },
   "outputs": [],
   "source": [
    "from urllib.request import urlopen as uReq"
   ]
  },
  {
   "cell_type": "code",
   "execution_count": 29,
   "metadata": {
    "collapsed": true
   },
   "outputs": [],
   "source": [
    "my_url ='https://finance.yahoo.com/quote/SPY/history?p=SPY'"
   ]
  },
  {
   "cell_type": "code",
   "execution_count": 30,
   "metadata": {
    "collapsed": true
   },
   "outputs": [],
   "source": [
    "uClient = uReq(my_url)"
   ]
  },
  {
   "cell_type": "code",
   "execution_count": 31,
   "metadata": {
    "collapsed": true
   },
   "outputs": [],
   "source": [
    "page_html = uClient.read()"
   ]
  },
  {
   "cell_type": "code",
   "execution_count": 32,
   "metadata": {
    "collapsed": true
   },
   "outputs": [],
   "source": [
    "uClient.close()"
   ]
  },
  {
   "cell_type": "code",
   "execution_count": 33,
   "metadata": {
    "collapsed": true
   },
   "outputs": [],
   "source": [
    "page_soup = soup(page_html,'lxml')"
   ]
  },
  {
   "cell_type": "code",
   "execution_count": 34,
   "metadata": {},
   "outputs": [
    {
     "data": {
      "text/plain": [
       "<span data-reactid=\"7\">Summary</span>"
      ]
     },
     "execution_count": 34,
     "metadata": {},
     "output_type": "execute_result"
    }
   ],
   "source": [
    "page_soup.body.span"
   ]
  },
  {
   "cell_type": "code",
   "execution_count": 10,
   "metadata": {
    "collapsed": true
   },
   "outputs": [],
   "source": [
    "containers=page_soup.findAll('tr',{'class':'BdT Bdc($c-fuji-grey-c) Ta(end) Fz(s) Whs(nw)'})"
   ]
  },
  {
   "cell_type": "code",
   "execution_count": null,
   "metadata": {
    "collapsed": true
   },
   "outputs": [],
   "source": []
  },
  {
   "cell_type": "code",
   "execution_count": 11,
   "metadata": {
    "collapsed": true
   },
   "outputs": [],
   "source": [
    "container=containers[0]"
   ]
  },
  {
   "cell_type": "code",
   "execution_count": null,
   "metadata": {
    "collapsed": true
   },
   "outputs": [],
   "source": []
  },
  {
   "cell_type": "code",
   "execution_count": 12,
   "metadata": {},
   "outputs": [
    {
     "data": {
      "text/plain": [
       "100"
      ]
     },
     "execution_count": 12,
     "metadata": {},
     "output_type": "execute_result"
    }
   ],
   "source": [
    "len(containers)"
   ]
  },
  {
   "cell_type": "code",
   "execution_count": 17,
   "metadata": {
    "collapsed": true
   },
   "outputs": [],
   "source": [
    "filename='SPYstock.csv'\n",
    "f=open(filename,'w')"
   ]
  },
  {
   "cell_type": "code",
   "execution_count": 18,
   "metadata": {
    "collapsed": true
   },
   "outputs": [],
   "source": [
    "headers='Date,Open,High,Low,Close,Adjust Close\\n'"
   ]
  },
  {
   "cell_type": "code",
   "execution_count": 19,
   "metadata": {},
   "outputs": [
    {
     "data": {
      "text/plain": [
       "38"
      ]
     },
     "execution_count": 19,
     "metadata": {},
     "output_type": "execute_result"
    }
   ],
   "source": [
    "f.write(headers)"
   ]
  },
  {
   "cell_type": "code",
   "execution_count": null,
   "metadata": {
    "collapsed": true
   },
   "outputs": [],
   "source": []
  },
  {
   "cell_type": "code",
   "execution_count": null,
   "metadata": {
    "collapsed": true
   },
   "outputs": [],
   "source": []
  },
  {
   "cell_type": "code",
   "execution_count": null,
   "metadata": {
    "collapsed": true
   },
   "outputs": [],
   "source": []
  },
  {
   "cell_type": "code",
   "execution_count": 69,
   "metadata": {
    "collapsed": true
   },
   "outputs": [],
   "source": []
  },
  {
   "cell_type": "code",
   "execution_count": null,
   "metadata": {
    "collapsed": true
   },
   "outputs": [],
   "source": []
  },
  {
   "cell_type": "code",
   "execution_count": null,
   "metadata": {
    "collapsed": true
   },
   "outputs": [],
   "source": []
  },
  {
   "cell_type": "code",
   "execution_count": null,
   "metadata": {
    "collapsed": true
   },
   "outputs": [],
   "source": []
  },
  {
   "cell_type": "code",
   "execution_count": null,
   "metadata": {
    "collapsed": true
   },
   "outputs": [],
   "source": []
  },
  {
   "cell_type": "code",
   "execution_count": 20,
   "metadata": {},
   "outputs": [
    {
     "name": "stdout",
     "output_type": "stream",
     "text": [
      "Date:Feb 02, 2018\n",
      "Open:280.08\n",
      "High:280.23\n",
      "Low:278.12\n",
      "Close:278.90\n",
      "Adjust Close:278.90\n",
      "Date:Feb 01, 2018\n",
      "Open:281.07\n",
      "High:283.06\n",
      "Low:280.68\n",
      "Close:281.58\n",
      "Adjust Close:281.58\n",
      "Date:Jan 31, 2018\n",
      "Open:282.73\n",
      "High:283.30\n",
      "Low:280.68\n",
      "Close:281.90\n",
      "Adjust Close:281.90\n",
      "Date:Jan 30, 2018\n",
      "Open:282.60\n",
      "High:284.74\n",
      "Low:281.22\n",
      "Close:281.76\n",
      "Adjust Close:281.76\n",
      "Date:Jan 29, 2018\n",
      "Open:285.93\n",
      "High:286.43\n",
      "Low:284.50\n",
      "Close:284.68\n",
      "Adjust Close:284.68\n",
      "Date:Jan 26, 2018\n",
      "Open:284.25\n",
      "High:286.58\n",
      "Low:283.96\n",
      "Close:286.58\n",
      "Adjust Close:286.58\n",
      "Date:Jan 25, 2018\n",
      "Open:284.16\n",
      "High:284.27\n",
      "Low:282.40\n",
      "Close:283.30\n",
      "Adjust Close:283.30\n",
      "Date:Jan 24, 2018\n",
      "Open:284.02\n",
      "High:284.70\n",
      "Low:281.84\n",
      "Close:283.18\n",
      "Adjust Close:283.18\n",
      "Date:Jan 23, 2018\n",
      "Open:282.74\n",
      "High:283.62\n",
      "Low:282.37\n",
      "Close:283.29\n",
      "Adjust Close:283.29\n",
      "Date:Jan 22, 2018\n",
      "Open:280.17\n",
      "High:282.69\n",
      "Low:280.11\n",
      "Close:282.69\n",
      "Adjust Close:282.69\n",
      "Date:Jan 19, 2018\n",
      "Open:279.80\n",
      "High:280.41\n",
      "Low:279.14\n",
      "Close:280.41\n",
      "Adjust Close:280.41\n",
      "Date:Jan 18, 2018\n",
      "Open:279.48\n",
      "High:279.96\n",
      "Low:278.58\n",
      "Close:279.14\n",
      "Adjust Close:279.14\n",
      "Date:Jan 17, 2018\n",
      "Open:278.03\n",
      "High:280.05\n",
      "Low:276.97\n",
      "Close:279.61\n",
      "Adjust Close:279.61\n",
      "Date:Jan 16, 2018\n",
      "Open:279.35\n",
      "High:280.09\n",
      "Low:276.18\n",
      "Close:276.97\n",
      "Adjust Close:276.97\n",
      "Date:Jan 12, 2018\n",
      "Open:276.42\n",
      "High:278.11\n",
      "Low:276.08\n",
      "Close:277.92\n",
      "Adjust Close:277.92\n",
      "Date:Jan 11, 2018\n",
      "Open:274.75\n",
      "High:276.12\n",
      "Low:274.56\n",
      "Close:276.12\n",
      "Adjust Close:276.12\n",
      "Date:Jan 10, 2018\n",
      "Open:273.68\n",
      "High:274.42\n",
      "Low:272.92\n",
      "Close:274.12\n",
      "Adjust Close:274.12\n",
      "Date:Jan 09, 2018\n",
      "Open:274.40\n",
      "High:275.25\n",
      "Low:274.08\n",
      "Close:274.54\n",
      "Adjust Close:274.54\n",
      "Date:Jan 08, 2018\n",
      "Open:273.31\n",
      "High:274.10\n",
      "Low:272.98\n",
      "Close:273.92\n",
      "Adjust Close:273.92\n",
      "Date:Jan 05, 2018\n",
      "Open:272.51\n",
      "High:273.56\n",
      "Low:271.95\n",
      "Close:273.42\n",
      "Adjust Close:273.42\n",
      "Date:Jan 04, 2018\n",
      "Open:271.20\n",
      "High:272.16\n",
      "Low:270.54\n",
      "Close:271.61\n",
      "Adjust Close:271.61\n",
      "Date:Jan 03, 2018\n",
      "Open:268.96\n",
      "High:270.64\n",
      "Low:268.96\n",
      "Close:270.47\n",
      "Adjust Close:270.47\n",
      "Date:Jan 02, 2018\n",
      "Open:267.84\n",
      "High:268.81\n",
      "Low:267.40\n",
      "Close:268.77\n",
      "Adjust Close:268.77\n",
      "Date:Dec 29, 2017\n",
      "Open:268.53\n",
      "High:268.55\n",
      "Low:266.64\n",
      "Close:266.86\n",
      "Adjust Close:266.86\n",
      "Date:Dec 28, 2017\n",
      "Open:267.89\n",
      "High:267.92\n",
      "Low:267.45\n",
      "Close:267.87\n",
      "Adjust Close:267.87\n",
      "Date:Dec 27, 2017\n",
      "Open:267.38\n",
      "High:267.73\n",
      "Low:267.01\n",
      "Close:267.32\n",
      "Adjust Close:267.32\n",
      "Date:Dec 26, 2017\n",
      "Open:267.05\n",
      "High:267.44\n",
      "Low:266.89\n",
      "Close:267.19\n",
      "Adjust Close:267.19\n",
      "Date:Dec 22, 2017\n",
      "Open:267.60\n",
      "High:267.64\n",
      "Low:266.90\n",
      "Close:267.51\n",
      "Adjust Close:267.51\n",
      "Date:Dec 21, 2017\n",
      "Open:267.74\n",
      "High:268.39\n",
      "Low:267.30\n",
      "Close:267.58\n",
      "Adjust Close:267.58\n",
      "Date:Dec 20, 2017\n",
      "Open:268.27\n",
      "High:268.33\n",
      "Low:266.69\n",
      "Close:267.03\n",
      "Adjust Close:267.03\n",
      "Date:Dec 19, 2017\n",
      "Open:268.48\n",
      "High:268.53\n",
      "Low:267.09\n",
      "Close:267.17\n",
      "Adjust Close:267.17\n",
      "Date:Dec 18, 2017\n",
      "Open:268.10\n",
      "High:268.60\n",
      "Low:267.98\n",
      "Close:268.20\n",
      "Adjust Close:268.20\n",
      "Date:Dec 15, 2017\n",
      "Open:265.45\n",
      "High:267.04\n",
      "Low:265.39\n",
      "Close:266.51\n",
      "Adjust Close:266.51\n"
     ]
    },
    {
     "ename": "IndexError",
     "evalue": "list index out of range",
     "output_type": "error",
     "traceback": [
      "\u001b[1;31m---------------------------------------------------------------------------\u001b[0m",
      "\u001b[1;31mIndexError\u001b[0m                                Traceback (most recent call last)",
      "\u001b[1;32m<ipython-input-20-13fa607c627a>\u001b[0m in \u001b[0;36m<module>\u001b[1;34m()\u001b[0m\n\u001b[0;32m      3\u001b[0m     \u001b[0mone0\u001b[0m\u001b[1;33m=\u001b[0m\u001b[0mone\u001b[0m\u001b[1;33m[\u001b[0m\u001b[1;36m0\u001b[0m\u001b[1;33m]\u001b[0m\u001b[1;33m.\u001b[0m\u001b[0mtext\u001b[0m\u001b[1;33m\u001b[0m\u001b[0m\n\u001b[0;32m      4\u001b[0m     \u001b[0mone1\u001b[0m\u001b[1;33m=\u001b[0m\u001b[0mone\u001b[0m\u001b[1;33m[\u001b[0m\u001b[1;36m1\u001b[0m\u001b[1;33m]\u001b[0m\u001b[1;33m.\u001b[0m\u001b[0mtext\u001b[0m\u001b[1;33m\u001b[0m\u001b[0m\n\u001b[1;32m----> 5\u001b[1;33m     \u001b[0mone2\u001b[0m\u001b[1;33m=\u001b[0m\u001b[0mone\u001b[0m\u001b[1;33m[\u001b[0m\u001b[1;36m2\u001b[0m\u001b[1;33m]\u001b[0m\u001b[1;33m.\u001b[0m\u001b[0mtext\u001b[0m\u001b[1;33m\u001b[0m\u001b[0m\n\u001b[0m\u001b[0;32m      6\u001b[0m     \u001b[0mone3\u001b[0m\u001b[1;33m=\u001b[0m\u001b[0mone\u001b[0m\u001b[1;33m[\u001b[0m\u001b[1;36m3\u001b[0m\u001b[1;33m]\u001b[0m\u001b[1;33m.\u001b[0m\u001b[0mtext\u001b[0m\u001b[1;33m\u001b[0m\u001b[0m\n\u001b[0;32m      7\u001b[0m     \u001b[0mone4\u001b[0m\u001b[1;33m=\u001b[0m\u001b[0mone\u001b[0m\u001b[1;33m[\u001b[0m\u001b[1;36m4\u001b[0m\u001b[1;33m]\u001b[0m\u001b[1;33m.\u001b[0m\u001b[0mtext\u001b[0m\u001b[1;33m\u001b[0m\u001b[0m\n",
      "\u001b[1;31mIndexError\u001b[0m: list index out of range"
     ]
    }
   ],
   "source": [
    "for container in containers:\n",
    "    one=container.findAll('td')\n",
    "    one0=one[0].text\n",
    "    one1=one[1].text\n",
    "    one2=one[2].text\n",
    "    one3=one[3].text\n",
    "    one4=one[4].text\n",
    "    one5=one[5].text\n",
    "    \n",
    "    print('Date:'+one0)\n",
    "    print('Open:'+one1)\n",
    "    print('High:'+one2)\n",
    "    print('Low:'+one3)\n",
    "    print('Close:'+one4)\n",
    "    print('Adjust Close:'+one5)\n",
    "    \n",
    "    f.write(one0.replace(',','/')+','+one1.replace(',','')+','+one2.replace(',','')+','+one3.replace(',','')+','+one4.replace(',','')+','+one5.replace(',','')+'\\n')\n",
    "\n",
    "f.close()"
   ]
  },
  {
   "cell_type": "code",
   "execution_count": 54,
   "metadata": {},
   "outputs": [
    {
     "data": {
      "text/plain": [
       "[]"
      ]
     },
     "execution_count": 54,
     "metadata": {},
     "output_type": "execute_result"
    }
   ],
   "source": [
    "page_soup.findAll('span',{'class':'Trsdu(0.3s) Fw(b) Fz(36px) Mb(-4px) D(ib)'})"
   ]
  },
  {
   "cell_type": "code",
   "execution_count": 42,
   "metadata": {},
   "outputs": [],
   "source": []
  },
  {
   "cell_type": "code",
   "execution_count": 43,
   "metadata": {},
   "outputs": [],
   "source": []
  },
  {
   "cell_type": "code",
   "execution_count": 48,
   "metadata": {
    "collapsed": true
   },
   "outputs": [],
   "source": []
  },
  {
   "cell_type": "code",
   "execution_count": 49,
   "metadata": {
    "collapsed": true
   },
   "outputs": [],
   "source": []
  },
  {
   "cell_type": "code",
   "execution_count": 50,
   "metadata": {
    "collapsed": true
   },
   "outputs": [],
   "source": []
  },
  {
   "cell_type": "code",
   "execution_count": 51,
   "metadata": {},
   "outputs": [],
   "source": []
  },
  {
   "cell_type": "code",
   "execution_count": 52,
   "metadata": {},
   "outputs": [
    {
     "name": "stdout",
     "output_type": "stream",
     "text": [
      "[]\n"
     ]
    }
   ],
   "source": []
  },
  {
   "cell_type": "code",
   "execution_count": 53,
   "metadata": {},
   "outputs": [
    {
     "ename": "ModuleNotFoundError",
     "evalue": "No module named 'googlefinance'",
     "output_type": "error",
     "traceback": [
      "\u001b[1;31m---------------------------------------------------------------------------\u001b[0m",
      "\u001b[1;31mModuleNotFoundError\u001b[0m                       Traceback (most recent call last)",
      "\u001b[1;32m<ipython-input-53-35ba805bdf29>\u001b[0m in \u001b[0;36m<module>\u001b[1;34m()\u001b[0m\n\u001b[1;32m----> 1\u001b[1;33m \u001b[1;32mimport\u001b[0m \u001b[0mgooglefinance\u001b[0m\u001b[1;33m\u001b[0m\u001b[0m\n\u001b[0m",
      "\u001b[1;31mModuleNotFoundError\u001b[0m: No module named 'googlefinance'"
     ]
    }
   ],
   "source": []
  },
  {
   "cell_type": "code",
   "execution_count": 123,
   "metadata": {},
   "outputs": [
    {
     "data": {
      "text/plain": [
       "'519.25'"
      ]
     },
     "execution_count": 123,
     "metadata": {},
     "output_type": "execute_result"
    }
   ],
   "source": []
  },
  {
   "cell_type": "code",
   "execution_count": 124,
   "metadata": {
    "collapsed": true
   },
   "outputs": [],
   "source": []
  },
  {
   "cell_type": "code",
   "execution_count": 125,
   "metadata": {
    "collapsed": true
   },
   "outputs": [],
   "source": []
  },
  {
   "cell_type": "code",
   "execution_count": 126,
   "metadata": {
    "collapsed": true
   },
   "outputs": [],
   "source": []
  },
  {
   "cell_type": "code",
   "execution_count": 127,
   "metadata": {
    "collapsed": true
   },
   "outputs": [],
   "source": []
  },
  {
   "cell_type": "code",
   "execution_count": null,
   "metadata": {
    "collapsed": true
   },
   "outputs": [],
   "source": []
  }
 ],
 "metadata": {
  "kernelspec": {
   "display_name": "Python 3",
   "language": "python",
   "name": "python3"
  },
  "language_info": {
   "codemirror_mode": {
    "name": "ipython",
    "version": 3
   },
   "file_extension": ".py",
   "mimetype": "text/x-python",
   "name": "python",
   "nbconvert_exporter": "python",
   "pygments_lexer": "ipython3",
   "version": "3.6.1"
  }
 },
 "nbformat": 4,
 "nbformat_minor": 2
}
