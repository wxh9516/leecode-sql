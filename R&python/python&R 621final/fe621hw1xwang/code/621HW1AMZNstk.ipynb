{
 "cells": [
  {
   "cell_type": "code",
   "execution_count": 1,
   "metadata": {
    "collapsed": true
   },
   "outputs": [],
   "source": [
    "from bs4 import BeautifulSoup as soup"
   ]
  },
  {
   "cell_type": "code",
   "execution_count": 2,
   "metadata": {
    "collapsed": true
   },
   "outputs": [],
   "source": [
    "from urllib.request import urlopen as uReq"
   ]
  },
  {
   "cell_type": "code",
   "execution_count": 3,
   "metadata": {
    "collapsed": true
   },
   "outputs": [],
   "source": [
    "my_url ='https://finance.yahoo.com/quote/AMZN/history?p=AMZN'"
   ]
  },
  {
   "cell_type": "code",
   "execution_count": 4,
   "metadata": {
    "collapsed": true
   },
   "outputs": [],
   "source": [
    "uClient = uReq(my_url)"
   ]
  },
  {
   "cell_type": "code",
   "execution_count": 5,
   "metadata": {
    "collapsed": true
   },
   "outputs": [],
   "source": [
    "page_html = uClient.read()"
   ]
  },
  {
   "cell_type": "code",
   "execution_count": 6,
   "metadata": {
    "collapsed": true
   },
   "outputs": [],
   "source": [
    "uClient.close()"
   ]
  },
  {
   "cell_type": "code",
   "execution_count": 7,
   "metadata": {
    "collapsed": true
   },
   "outputs": [],
   "source": [
    "page_soup = soup(page_html,'lxml')"
   ]
  },
  {
   "cell_type": "code",
   "execution_count": 8,
   "metadata": {},
   "outputs": [
    {
     "data": {
      "text/plain": [
       "<span data-reactid=\"7\">Summary</span>"
      ]
     },
     "execution_count": 8,
     "metadata": {},
     "output_type": "execute_result"
    }
   ],
   "source": [
    "page_soup.body.span"
   ]
  },
  {
   "cell_type": "code",
   "execution_count": 9,
   "metadata": {
    "collapsed": true
   },
   "outputs": [],
   "source": [
    "containers=page_soup.findAll('tr',{'class':'BdT Bdc($c-fuji-grey-c) Ta(end) Fz(s) Whs(nw)'})"
   ]
  },
  {
   "cell_type": "code",
   "execution_count": null,
   "metadata": {
    "collapsed": true
   },
   "outputs": [],
   "source": []
  },
  {
   "cell_type": "code",
   "execution_count": 10,
   "metadata": {
    "collapsed": true
   },
   "outputs": [],
   "source": [
    "container=containers[0]"
   ]
  },
  {
   "cell_type": "code",
   "execution_count": null,
   "metadata": {
    "collapsed": true
   },
   "outputs": [],
   "source": []
  },
  {
   "cell_type": "code",
   "execution_count": 11,
   "metadata": {},
   "outputs": [
    {
     "data": {
      "text/plain": [
       "100"
      ]
     },
     "execution_count": 11,
     "metadata": {},
     "output_type": "execute_result"
    }
   ],
   "source": [
    "len(containers)"
   ]
  },
  {
   "cell_type": "code",
   "execution_count": 25,
   "metadata": {
    "collapsed": true
   },
   "outputs": [],
   "source": [
    "filename='AMZNstock.csv'\n",
    "f=open(filename,'w')"
   ]
  },
  {
   "cell_type": "code",
   "execution_count": 26,
   "metadata": {
    "collapsed": true
   },
   "outputs": [],
   "source": [
    "headers='Date,Open,High,Low,Close,Adjust Close\\n'"
   ]
  },
  {
   "cell_type": "code",
   "execution_count": 27,
   "metadata": {},
   "outputs": [
    {
     "data": {
      "text/plain": [
       "38"
      ]
     },
     "execution_count": 27,
     "metadata": {},
     "output_type": "execute_result"
    }
   ],
   "source": [
    "f.write(headers)"
   ]
  },
  {
   "cell_type": "code",
   "execution_count": null,
   "metadata": {
    "collapsed": true
   },
   "outputs": [],
   "source": []
  },
  {
   "cell_type": "code",
   "execution_count": null,
   "metadata": {
    "collapsed": true
   },
   "outputs": [],
   "source": []
  },
  {
   "cell_type": "code",
   "execution_count": null,
   "metadata": {
    "collapsed": true
   },
   "outputs": [],
   "source": []
  },
  {
   "cell_type": "code",
   "execution_count": 69,
   "metadata": {
    "collapsed": true
   },
   "outputs": [],
   "source": []
  },
  {
   "cell_type": "code",
   "execution_count": null,
   "metadata": {
    "collapsed": true
   },
   "outputs": [],
   "source": []
  },
  {
   "cell_type": "code",
   "execution_count": null,
   "metadata": {
    "collapsed": true
   },
   "outputs": [],
   "source": []
  },
  {
   "cell_type": "code",
   "execution_count": null,
   "metadata": {
    "collapsed": true
   },
   "outputs": [],
   "source": []
  },
  {
   "cell_type": "code",
   "execution_count": null,
   "metadata": {
    "collapsed": true
   },
   "outputs": [],
   "source": []
  },
  {
   "cell_type": "code",
   "execution_count": 28,
   "metadata": {},
   "outputs": [
    {
     "name": "stdout",
     "output_type": "stream",
     "text": [
      "Date:Feb 02, 2018\n",
      "Open:1,477.39\n",
      "High:1,498.00\n",
      "Low:1,434.33\n",
      "Close:1,465.61\n",
      "Adjust Close:1,465.61\n",
      "Date:Feb 01, 2018\n",
      "Open:1,445.00\n",
      "High:1,459.88\n",
      "Low:1,385.14\n",
      "Close:1,390.00\n",
      "Adjust Close:1,390.00\n",
      "Date:Jan 31, 2018\n",
      "Open:1,451.30\n",
      "High:1,472.58\n",
      "Low:1,450.04\n",
      "Close:1,450.89\n",
      "Adjust Close:1,450.89\n",
      "Date:Jan 30, 2018\n",
      "Open:1,403.17\n",
      "High:1,439.25\n",
      "Low:1,392.00\n",
      "Close:1,437.82\n",
      "Adjust Close:1,437.82\n",
      "Date:Jan 29, 2018\n",
      "Open:1,409.18\n",
      "High:1,431.39\n",
      "Low:1,400.44\n",
      "Close:1,417.68\n",
      "Adjust Close:1,417.68\n",
      "Date:Jan 26, 2018\n",
      "Open:1,392.01\n",
      "High:1,402.53\n",
      "Low:1,380.91\n",
      "Close:1,402.05\n",
      "Adjust Close:1,402.05\n",
      "Date:Jan 25, 2018\n",
      "Open:1,368.00\n",
      "High:1,378.34\n",
      "Low:1,357.62\n",
      "Close:1,377.95\n",
      "Adjust Close:1,377.95\n",
      "Date:Jan 24, 2018\n",
      "Open:1,374.82\n",
      "High:1,388.16\n",
      "Low:1,338.00\n",
      "Close:1,357.51\n",
      "Adjust Close:1,357.51\n",
      "Date:Jan 23, 2018\n",
      "Open:1,338.09\n",
      "High:1,364.90\n",
      "Low:1,337.34\n",
      "Close:1,362.54\n",
      "Adjust Close:1,362.54\n",
      "Date:Jan 22, 2018\n",
      "Open:1,297.17\n",
      "High:1,327.45\n",
      "Low:1,296.66\n",
      "Close:1,327.31\n",
      "Adjust Close:1,327.31\n",
      "Date:Jan 19, 2018\n",
      "Open:1,312.00\n",
      "High:1,313.00\n",
      "Low:1,292.99\n",
      "Close:1,294.58\n",
      "Adjust Close:1,294.58\n",
      "Date:Jan 18, 2018\n",
      "Open:1,293.95\n",
      "High:1,304.60\n",
      "Low:1,284.02\n",
      "Close:1,293.32\n",
      "Adjust Close:1,293.32\n",
      "Date:Jan 17, 2018\n",
      "Open:1,312.24\n",
      "High:1,314.00\n",
      "Low:1,280.88\n",
      "Close:1,295.00\n",
      "Adjust Close:1,295.00\n",
      "Date:Jan 16, 2018\n",
      "Open:1,323.00\n",
      "High:1,339.94\n",
      "Low:1,292.30\n",
      "Close:1,304.86\n",
      "Adjust Close:1,304.86\n",
      "Date:Jan 12, 2018\n",
      "Open:1,273.39\n",
      "High:1,305.76\n",
      "Low:1,273.39\n",
      "Close:1,305.20\n",
      "Adjust Close:1,305.20\n",
      "Date:Jan 11, 2018\n",
      "Open:1,259.74\n",
      "High:1,276.77\n",
      "Low:1,256.46\n",
      "Close:1,276.68\n",
      "Adjust Close:1,276.68\n",
      "Date:Jan 10, 2018\n",
      "Open:1,245.15\n",
      "High:1,254.33\n",
      "Low:1,237.23\n",
      "Close:1,254.33\n",
      "Adjust Close:1,254.33\n",
      "Date:Jan 09, 2018\n",
      "Open:1,256.90\n",
      "High:1,259.33\n",
      "Low:1,241.76\n",
      "Close:1,252.70\n",
      "Adjust Close:1,252.70\n",
      "Date:Jan 08, 2018\n",
      "Open:1,236.00\n",
      "High:1,253.08\n",
      "Low:1,232.03\n",
      "Close:1,246.87\n",
      "Adjust Close:1,246.87\n",
      "Date:Jan 05, 2018\n",
      "Open:1,217.51\n",
      "High:1,229.14\n",
      "Low:1,210.00\n",
      "Close:1,229.14\n",
      "Adjust Close:1,229.14\n",
      "Date:Jan 04, 2018\n",
      "Open:1,205.00\n",
      "High:1,215.87\n",
      "Low:1,204.66\n",
      "Close:1,209.59\n",
      "Adjust Close:1,209.59\n",
      "Date:Jan 03, 2018\n",
      "Open:1,188.30\n",
      "High:1,205.49\n",
      "Low:1,188.30\n",
      "Close:1,204.20\n",
      "Adjust Close:1,204.20\n",
      "Date:Jan 02, 2018\n",
      "Open:1,172.00\n",
      "High:1,190.00\n",
      "Low:1,170.51\n",
      "Close:1,189.01\n",
      "Adjust Close:1,189.01\n",
      "Date:Dec 29, 2017\n",
      "Open:1,182.35\n",
      "High:1,184.00\n",
      "Low:1,167.50\n",
      "Close:1,169.47\n",
      "Adjust Close:1,169.47\n",
      "Date:Dec 28, 2017\n",
      "Open:1,189.00\n",
      "High:1,190.10\n",
      "Low:1,184.38\n",
      "Close:1,186.10\n",
      "Adjust Close:1,186.10\n",
      "Date:Dec 27, 2017\n",
      "Open:1,179.91\n",
      "High:1,187.29\n",
      "Low:1,175.61\n",
      "Close:1,182.26\n",
      "Adjust Close:1,182.26\n",
      "Date:Dec 26, 2017\n",
      "Open:1,168.36\n",
      "High:1,178.32\n",
      "Low:1,160.55\n",
      "Close:1,176.76\n",
      "Adjust Close:1,176.76\n",
      "Date:Dec 22, 2017\n",
      "Open:1,172.08\n",
      "High:1,174.62\n",
      "Low:1,167.83\n",
      "Close:1,168.36\n",
      "Adjust Close:1,168.36\n",
      "Date:Dec 21, 2017\n",
      "Open:1,175.90\n",
      "High:1,179.17\n",
      "Low:1,167.64\n",
      "Close:1,174.76\n",
      "Adjust Close:1,174.76\n",
      "Date:Dec 20, 2017\n",
      "Open:1,190.50\n",
      "High:1,191.00\n",
      "Low:1,176.00\n",
      "Close:1,177.62\n",
      "Adjust Close:1,177.62\n",
      "Date:Dec 19, 2017\n",
      "Open:1,189.15\n",
      "High:1,192.97\n",
      "Low:1,179.14\n",
      "Close:1,187.38\n",
      "Adjust Close:1,187.38\n",
      "Date:Dec 18, 2017\n",
      "Open:1,187.37\n",
      "High:1,194.78\n",
      "Low:1,180.91\n",
      "Close:1,190.58\n",
      "Adjust Close:1,190.58\n",
      "Date:Dec 15, 2017\n",
      "Open:1,179.03\n",
      "High:1,182.75\n",
      "Low:1,169.33\n",
      "Close:1,179.14\n",
      "Adjust Close:1,179.14\n",
      "Date:Dec 14, 2017\n",
      "Open:1,163.71\n",
      "High:1,177.93\n",
      "Low:1,162.45\n",
      "Close:1,174.26\n",
      "Adjust Close:1,174.26\n",
      "Date:Dec 13, 2017\n",
      "Open:1,170.00\n",
      "High:1,170.87\n",
      "Low:1,160.27\n",
      "Close:1,164.13\n",
      "Adjust Close:1,164.13\n",
      "Date:Dec 12, 2017\n",
      "Open:1,166.51\n",
      "High:1,173.60\n",
      "Low:1,161.61\n",
      "Close:1,165.08\n",
      "Adjust Close:1,165.08\n",
      "Date:Dec 11, 2017\n",
      "Open:1,164.60\n",
      "High:1,169.90\n",
      "Low:1,157.00\n",
      "Close:1,168.92\n",
      "Adjust Close:1,168.92\n",
      "Date:Dec 08, 2017\n",
      "Open:1,170.40\n",
      "High:1,172.79\n",
      "Low:1,157.10\n",
      "Close:1,162.00\n",
      "Adjust Close:1,162.00\n",
      "Date:Dec 07, 2017\n",
      "Open:1,156.59\n",
      "High:1,163.19\n",
      "Low:1,151.00\n",
      "Close:1,159.79\n",
      "Adjust Close:1,159.79\n",
      "Date:Dec 06, 2017\n",
      "Open:1,137.99\n",
      "High:1,155.89\n",
      "Low:1,136.08\n",
      "Close:1,152.35\n",
      "Adjust Close:1,152.35\n",
      "Date:Dec 05, 2017\n",
      "Open:1,128.26\n",
      "High:1,159.27\n",
      "Low:1,124.74\n",
      "Close:1,141.57\n",
      "Adjust Close:1,141.57\n",
      "Date:Dec 04, 2017\n",
      "Open:1,173.85\n",
      "High:1,175.20\n",
      "Low:1,128.00\n",
      "Close:1,133.95\n",
      "Adjust Close:1,133.95\n",
      "Date:Dec 01, 2017\n",
      "Open:1,172.05\n",
      "High:1,179.65\n",
      "Low:1,152.00\n",
      "Close:1,162.35\n",
      "Adjust Close:1,162.35\n",
      "Date:Nov 30, 2017\n",
      "Open:1,167.10\n",
      "High:1,178.57\n",
      "Low:1,160.00\n",
      "Close:1,176.75\n",
      "Adjust Close:1,176.75\n",
      "Date:Nov 29, 2017\n",
      "Open:1,194.80\n",
      "High:1,194.80\n",
      "Low:1,145.19\n",
      "Close:1,161.27\n",
      "Adjust Close:1,161.27\n",
      "Date:Nov 28, 2017\n",
      "Open:1,204.88\n",
      "High:1,205.34\n",
      "Low:1,188.52\n",
      "Close:1,193.60\n",
      "Adjust Close:1,193.60\n",
      "Date:Nov 27, 2017\n",
      "Open:1,202.66\n",
      "High:1,213.41\n",
      "Low:1,191.15\n",
      "Close:1,195.83\n",
      "Adjust Close:1,195.83\n",
      "Date:Nov 24, 2017\n",
      "Open:1,160.70\n",
      "High:1,186.84\n",
      "Low:1,160.70\n",
      "Close:1,186.00\n",
      "Adjust Close:1,186.00\n",
      "Date:Nov 22, 2017\n",
      "Open:1,141.00\n",
      "High:1,160.27\n",
      "Low:1,141.00\n",
      "Close:1,156.16\n",
      "Adjust Close:1,156.16\n",
      "Date:Nov 21, 2017\n",
      "Open:1,132.86\n",
      "High:1,140.00\n",
      "Low:1,128.20\n",
      "Close:1,139.49\n",
      "Adjust Close:1,139.49\n",
      "Date:Nov 20, 2017\n",
      "Open:1,129.77\n",
      "High:1,133.42\n",
      "Low:1,122.55\n",
      "Close:1,126.31\n",
      "Adjust Close:1,126.31\n",
      "Date:Nov 17, 2017\n",
      "Open:1,138.28\n",
      "High:1,138.80\n",
      "Low:1,125.81\n",
      "Close:1,129.88\n",
      "Adjust Close:1,129.88\n",
      "Date:Nov 16, 2017\n",
      "Open:1,130.16\n",
      "High:1,138.16\n",
      "Low:1,130.05\n",
      "Close:1,137.29\n",
      "Adjust Close:1,137.29\n",
      "Date:Nov 15, 2017\n",
      "Open:1,127.01\n",
      "High:1,131.75\n",
      "Low:1,121.63\n",
      "Close:1,126.69\n",
      "Adjust Close:1,126.69\n",
      "Date:Nov 14, 2017\n",
      "Open:1,130.11\n",
      "High:1,138.00\n",
      "Low:1,123.89\n",
      "Close:1,136.84\n",
      "Adjust Close:1,136.84\n",
      "Date:Nov 13, 2017\n",
      "Open:1,123.00\n",
      "High:1,139.90\n",
      "Low:1,122.34\n",
      "Close:1,129.17\n",
      "Adjust Close:1,129.17\n",
      "Date:Nov 10, 2017\n",
      "Open:1,126.10\n",
      "High:1,131.75\n",
      "Low:1,124.06\n",
      "Close:1,125.35\n",
      "Adjust Close:1,125.35\n",
      "Date:Nov 09, 2017\n",
      "Open:1,125.96\n",
      "High:1,129.62\n",
      "Low:1,115.77\n",
      "Close:1,129.13\n",
      "Adjust Close:1,129.13\n",
      "Date:Nov 08, 2017\n",
      "Open:1,122.82\n",
      "High:1,135.54\n",
      "Low:1,119.11\n",
      "Close:1,132.88\n",
      "Adjust Close:1,132.88\n",
      "Date:Nov 07, 2017\n",
      "Open:1,124.74\n",
      "High:1,130.60\n",
      "Low:1,117.50\n",
      "Close:1,123.17\n",
      "Adjust Close:1,123.17\n",
      "Date:Nov 06, 2017\n",
      "Open:1,109.15\n",
      "High:1,125.41\n",
      "Low:1,108.77\n",
      "Close:1,120.66\n",
      "Adjust Close:1,120.66\n",
      "Date:Nov 03, 2017\n",
      "Open:1,091.15\n",
      "High:1,112.68\n",
      "Low:1,088.52\n",
      "Close:1,111.60\n",
      "Adjust Close:1,111.60\n",
      "Date:Nov 02, 2017\n",
      "Open:1,097.81\n",
      "High:1,101.94\n",
      "Low:1,086.87\n",
      "Close:1,094.22\n",
      "Adjust Close:1,094.22\n",
      "Date:Nov 01, 2017\n",
      "Open:1,105.40\n",
      "High:1,108.97\n",
      "Low:1,096.74\n",
      "Close:1,103.68\n",
      "Adjust Close:1,103.68\n",
      "Date:Oct 31, 2017\n",
      "Open:1,109.00\n",
      "High:1,110.54\n",
      "Low:1,101.12\n",
      "Close:1,105.28\n",
      "Adjust Close:1,105.28\n",
      "Date:Oct 30, 2017\n",
      "Open:1,095.01\n",
      "High:1,122.79\n",
      "Low:1,093.56\n",
      "Close:1,110.85\n",
      "Adjust Close:1,110.85\n",
      "Date:Oct 27, 2017\n",
      "Open:1,058.14\n",
      "High:1,105.58\n",
      "Low:1,050.55\n",
      "Close:1,100.95\n",
      "Adjust Close:1,100.95\n",
      "Date:Oct 26, 2017\n",
      "Open:980.33\n",
      "High:982.90\n",
      "Low:968.55\n",
      "Close:972.43\n",
      "Adjust Close:972.43\n",
      "Date:Oct 25, 2017\n",
      "Open:978.00\n",
      "High:984.44\n",
      "Low:966.24\n",
      "Close:972.91\n",
      "Adjust Close:972.91\n",
      "Date:Oct 24, 2017\n",
      "Open:969.00\n",
      "High:979.85\n",
      "Low:965.00\n",
      "Close:975.90\n",
      "Adjust Close:975.90\n",
      "Date:Oct 23, 2017\n",
      "Open:986.73\n",
      "High:986.78\n",
      "Low:962.50\n",
      "Close:966.30\n",
      "Adjust Close:966.30\n",
      "Date:Oct 20, 2017\n",
      "Open:993.53\n",
      "High:994.62\n",
      "Low:982.00\n",
      "Close:982.91\n",
      "Adjust Close:982.91\n",
      "Date:Oct 19, 2017\n",
      "Open:990.00\n",
      "High:991.05\n",
      "Low:980.24\n",
      "Close:986.61\n",
      "Adjust Close:986.61\n",
      "Date:Oct 18, 2017\n",
      "Open:1,009.27\n",
      "High:1,022.31\n",
      "Low:996.55\n",
      "Close:997.00\n",
      "Adjust Close:997.00\n",
      "Date:Oct 17, 2017\n",
      "Open:1,005.59\n",
      "High:1,011.47\n",
      "Low:1,004.38\n",
      "Close:1,009.13\n",
      "Adjust Close:1,009.13\n",
      "Date:Oct 16, 2017\n",
      "Open:1,008.44\n",
      "High:1,009.57\n",
      "Low:1,001.04\n",
      "Close:1,006.34\n",
      "Adjust Close:1,006.34\n",
      "Date:Oct 13, 2017\n",
      "Open:1,007.00\n",
      "High:1,007.77\n",
      "Low:1,001.03\n",
      "Close:1,002.94\n",
      "Adjust Close:1,002.94\n",
      "Date:Oct 12, 2017\n",
      "Open:996.81\n",
      "High:1,008.44\n",
      "Low:992.40\n",
      "Close:1,000.93\n",
      "Adjust Close:1,000.93\n",
      "Date:Oct 11, 2017\n",
      "Open:991.27\n",
      "High:995.50\n",
      "Low:986.70\n",
      "Close:995.00\n",
      "Adjust Close:995.00\n",
      "Date:Oct 10, 2017\n",
      "Open:996.67\n",
      "High:997.95\n",
      "Low:980.10\n",
      "Close:987.20\n",
      "Adjust Close:987.20\n",
      "Date:Oct 09, 2017\n",
      "Open:993.24\n",
      "High:998.50\n",
      "Low:987.50\n",
      "Close:990.99\n",
      "Adjust Close:990.99\n",
      "Date:Oct 06, 2017\n",
      "Open:975.64\n",
      "High:995.75\n",
      "Low:975.64\n",
      "Close:989.58\n",
      "Adjust Close:989.58\n",
      "Date:Oct 05, 2017\n",
      "Open:970.00\n",
      "High:981.51\n",
      "Low:969.64\n",
      "Close:980.85\n",
      "Adjust Close:980.85\n",
      "Date:Oct 04, 2017\n",
      "Open:954.21\n",
      "High:967.79\n",
      "Low:954.05\n",
      "Close:965.45\n",
      "Adjust Close:965.45\n",
      "Date:Oct 03, 2017\n",
      "Open:958.00\n",
      "High:963.69\n",
      "Low:950.37\n",
      "Close:957.10\n",
      "Adjust Close:957.10\n",
      "Date:Oct 02, 2017\n",
      "Open:964.00\n",
      "High:967.31\n",
      "Low:952.12\n",
      "Close:959.19\n",
      "Adjust Close:959.19\n",
      "Date:Sep 29, 2017\n",
      "Open:960.11\n",
      "High:964.83\n",
      "Low:958.38\n",
      "Close:961.35\n",
      "Adjust Close:961.35\n",
      "Date:Sep 28, 2017\n",
      "Open:951.86\n",
      "High:959.70\n",
      "Low:950.10\n",
      "Close:956.40\n",
      "Adjust Close:956.40\n",
      "Date:Sep 27, 2017\n",
      "Open:948.00\n",
      "High:955.30\n",
      "Low:943.30\n",
      "Close:950.87\n",
      "Adjust Close:950.87\n",
      "Date:Sep 26, 2017\n",
      "Open:945.49\n",
      "High:948.63\n",
      "Low:931.75\n",
      "Close:938.60\n",
      "Adjust Close:938.60\n",
      "Date:Sep 25, 2017\n",
      "Open:949.31\n",
      "High:949.42\n",
      "Low:932.89\n",
      "Close:939.79\n",
      "Adjust Close:939.79\n",
      "Date:Sep 22, 2017\n",
      "Open:961.01\n",
      "High:965.61\n",
      "Low:954.42\n",
      "Close:955.10\n",
      "Adjust Close:955.10\n",
      "Date:Sep 21, 2017\n",
      "Open:971.31\n",
      "High:971.70\n",
      "Low:962.02\n",
      "Close:964.65\n",
      "Adjust Close:964.65\n",
      "Date:Sep 20, 2017\n",
      "Open:971.79\n",
      "High:974.81\n",
      "Low:962.16\n",
      "Close:973.21\n",
      "Adjust Close:973.21\n",
      "Date:Sep 19, 2017\n",
      "Open:977.25\n",
      "High:978.24\n",
      "Low:967.46\n",
      "Close:969.86\n",
      "Adjust Close:969.86\n",
      "Date:Sep 18, 2017\n",
      "Open:990.40\n",
      "High:992.79\n",
      "Low:968.17\n",
      "Close:974.19\n",
      "Adjust Close:974.19\n",
      "Date:Sep 15, 2017\n",
      "Open:993.01\n",
      "High:996.25\n",
      "Low:984.03\n",
      "Close:986.79\n",
      "Adjust Close:986.79\n",
      "Date:Sep 14, 2017\n",
      "Open:996.80\n",
      "High:998.56\n",
      "Low:987.74\n",
      "Close:992.21\n",
      "Adjust Close:992.21\n",
      "Date:Sep 13, 2017\n",
      "Open:983.97\n",
      "High:1,000.00\n",
      "Low:979.42\n",
      "Close:999.60\n",
      "Adjust Close:999.60\n",
      "Date:Sep 12, 2017\n",
      "Open:983.27\n",
      "High:984.67\n",
      "Low:975.52\n",
      "Close:982.58\n",
      "Adjust Close:982.58\n"
     ]
    }
   ],
   "source": [
    "for container in containers:\n",
    "    one=container.findAll('td')\n",
    "    one0=one[0].text\n",
    "    one1=one[1].text\n",
    "    one2=one[2].text\n",
    "    one3=one[3].text\n",
    "    one4=one[4].text\n",
    "    one5=one[5].text\n",
    "    \n",
    "    print('Date:'+one0)\n",
    "    print('Open:'+one1)\n",
    "    print('High:'+one2)\n",
    "    print('Low:'+one3)\n",
    "    print('Close:'+one4)\n",
    "    print('Adjust Close:'+one5)\n",
    "    \n",
    "    f.write(one0.replace(',','/')+','+one1.replace(',','')+','+one2.replace(',','')+','+one3.replace(',','')+','+one4.replace(',','')+','+one5.replace(',','')+'\\n')\n",
    "\n",
    "f.close()"
   ]
  },
  {
   "cell_type": "code",
   "execution_count": 28,
   "metadata": {},
   "outputs": [
    {
     "data": {
      "text/plain": [
       "[]"
      ]
     },
     "execution_count": 28,
     "metadata": {},
     "output_type": "execute_result"
    }
   ],
   "source": []
  },
  {
   "cell_type": "code",
   "execution_count": 25,
   "metadata": {},
   "outputs": [
    {
     "data": {
      "text/plain": [
       "'1,451.30'"
      ]
     },
     "execution_count": 25,
     "metadata": {},
     "output_type": "execute_result"
    }
   ],
   "source": []
  },
  {
   "cell_type": "code",
   "execution_count": 115,
   "metadata": {},
   "outputs": [
    {
     "data": {
      "text/plain": [
       "'2018-01-29 9:44AM EST'"
      ]
     },
     "execution_count": 115,
     "metadata": {},
     "output_type": "execute_result"
    }
   ],
   "source": []
  },
  {
   "cell_type": "code",
   "execution_count": 116,
   "metadata": {
    "collapsed": true
   },
   "outputs": [],
   "source": []
  },
  {
   "cell_type": "code",
   "execution_count": 117,
   "metadata": {
    "collapsed": true
   },
   "outputs": [],
   "source": []
  },
  {
   "cell_type": "code",
   "execution_count": 118,
   "metadata": {},
   "outputs": [
    {
     "data": {
      "text/plain": [
       "'900.00'"
      ]
     },
     "execution_count": 118,
     "metadata": {},
     "output_type": "execute_result"
    }
   ],
   "source": []
  },
  {
   "cell_type": "code",
   "execution_count": 119,
   "metadata": {
    "collapsed": true
   },
   "outputs": [],
   "source": []
  },
  {
   "cell_type": "code",
   "execution_count": 122,
   "metadata": {
    "collapsed": true
   },
   "outputs": [],
   "source": []
  },
  {
   "cell_type": "code",
   "execution_count": 123,
   "metadata": {},
   "outputs": [
    {
     "data": {
      "text/plain": [
       "'519.25'"
      ]
     },
     "execution_count": 123,
     "metadata": {},
     "output_type": "execute_result"
    }
   ],
   "source": []
  },
  {
   "cell_type": "code",
   "execution_count": 124,
   "metadata": {
    "collapsed": true
   },
   "outputs": [],
   "source": []
  },
  {
   "cell_type": "code",
   "execution_count": 125,
   "metadata": {
    "collapsed": true
   },
   "outputs": [],
   "source": []
  },
  {
   "cell_type": "code",
   "execution_count": 126,
   "metadata": {
    "collapsed": true
   },
   "outputs": [],
   "source": []
  },
  {
   "cell_type": "code",
   "execution_count": 127,
   "metadata": {
    "collapsed": true
   },
   "outputs": [],
   "source": []
  },
  {
   "cell_type": "code",
   "execution_count": null,
   "metadata": {
    "collapsed": true
   },
   "outputs": [],
   "source": []
  }
 ],
 "metadata": {
  "kernelspec": {
   "display_name": "Python 3",
   "language": "python",
   "name": "python3"
  },
  "language_info": {
   "codemirror_mode": {
    "name": "ipython",
    "version": 3
   },
   "file_extension": ".py",
   "mimetype": "text/x-python",
   "name": "python",
   "nbconvert_exporter": "python",
   "pygments_lexer": "ipython3",
   "version": "3.6.2"
  }
 },
 "nbformat": 4,
 "nbformat_minor": 2
}
