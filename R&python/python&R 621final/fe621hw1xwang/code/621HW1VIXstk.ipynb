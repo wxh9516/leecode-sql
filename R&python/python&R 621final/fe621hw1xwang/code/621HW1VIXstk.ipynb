{
 "cells": [
  {
   "cell_type": "code",
   "execution_count": 107,
   "metadata": {
    "collapsed": true
   },
   "outputs": [],
   "source": [
    "from bs4 import BeautifulSoup as soup"
   ]
  },
  {
   "cell_type": "code",
   "execution_count": 108,
   "metadata": {
    "collapsed": true
   },
   "outputs": [],
   "source": [
    "from urllib.request import urlopen as uReq"
   ]
  },
  {
   "cell_type": "code",
   "execution_count": 140,
   "metadata": {
    "collapsed": true
   },
   "outputs": [],
   "source": [
    "my_url ='https://finance.yahoo.com/quote/%5EVIX/history?period1=1265086800&period2=1517547600&interval=1d&filter=history&frequency=1d'"
   ]
  },
  {
   "cell_type": "code",
   "execution_count": 141,
   "metadata": {
    "collapsed": true
   },
   "outputs": [],
   "source": [
    "uClient = uReq(my_url)"
   ]
  },
  {
   "cell_type": "code",
   "execution_count": 142,
   "metadata": {
    "collapsed": true
   },
   "outputs": [],
   "source": [
    "page_html = uClient.read()"
   ]
  },
  {
   "cell_type": "code",
   "execution_count": 143,
   "metadata": {
    "collapsed": true
   },
   "outputs": [],
   "source": [
    "uClient.close()"
   ]
  },
  {
   "cell_type": "code",
   "execution_count": 144,
   "metadata": {
    "collapsed": true
   },
   "outputs": [],
   "source": [
    "page_soup = soup(page_html,'lxml')"
   ]
  },
  {
   "cell_type": "code",
   "execution_count": 145,
   "metadata": {},
   "outputs": [
    {
     "data": {
      "text/plain": [
       "<span data-reactid=\"7\">Summary</span>"
      ]
     },
     "execution_count": 145,
     "metadata": {},
     "output_type": "execute_result"
    }
   ],
   "source": [
    "page_soup.body.span"
   ]
  },
  {
   "cell_type": "code",
   "execution_count": 146,
   "metadata": {
    "collapsed": true
   },
   "outputs": [],
   "source": [
    "containers=page_soup.findAll('tr',{'class':'BdT Bdc($c-fuji-grey-c) Ta(end) Fz(s) Whs(nw)'})"
   ]
  },
  {
   "cell_type": "code",
   "execution_count": null,
   "metadata": {
    "collapsed": true
   },
   "outputs": [],
   "source": []
  },
  {
   "cell_type": "code",
   "execution_count": 147,
   "metadata": {
    "collapsed": true
   },
   "outputs": [],
   "source": [
    "container=containers[0]"
   ]
  },
  {
   "cell_type": "code",
   "execution_count": null,
   "metadata": {
    "collapsed": true
   },
   "outputs": [],
   "source": []
  },
  {
   "cell_type": "code",
   "execution_count": 148,
   "metadata": {},
   "outputs": [
    {
     "data": {
      "text/plain": [
       "100"
      ]
     },
     "execution_count": 148,
     "metadata": {},
     "output_type": "execute_result"
    }
   ],
   "source": [
    "len(containers)"
   ]
  },
  {
   "cell_type": "code",
   "execution_count": 153,
   "metadata": {
    "collapsed": true
   },
   "outputs": [],
   "source": [
    "filename='VIXstock.csv'\n",
    "f=open(filename,'w')"
   ]
  },
  {
   "cell_type": "code",
   "execution_count": 154,
   "metadata": {
    "collapsed": true
   },
   "outputs": [],
   "source": [
    "headers='Date,Open,High,Low,Close,Adjust Close\\n'"
   ]
  },
  {
   "cell_type": "code",
   "execution_count": 155,
   "metadata": {},
   "outputs": [
    {
     "data": {
      "text/plain": [
       "38"
      ]
     },
     "execution_count": 155,
     "metadata": {},
     "output_type": "execute_result"
    }
   ],
   "source": [
    "f.write(headers)"
   ]
  },
  {
   "cell_type": "code",
   "execution_count": null,
   "metadata": {
    "collapsed": true
   },
   "outputs": [],
   "source": []
  },
  {
   "cell_type": "code",
   "execution_count": null,
   "metadata": {
    "collapsed": true
   },
   "outputs": [],
   "source": []
  },
  {
   "cell_type": "code",
   "execution_count": null,
   "metadata": {
    "collapsed": true
   },
   "outputs": [],
   "source": []
  },
  {
   "cell_type": "code",
   "execution_count": 69,
   "metadata": {
    "collapsed": true
   },
   "outputs": [],
   "source": []
  },
  {
   "cell_type": "code",
   "execution_count": null,
   "metadata": {
    "collapsed": true
   },
   "outputs": [],
   "source": []
  },
  {
   "cell_type": "code",
   "execution_count": null,
   "metadata": {
    "collapsed": true
   },
   "outputs": [],
   "source": []
  },
  {
   "cell_type": "code",
   "execution_count": null,
   "metadata": {
    "collapsed": true
   },
   "outputs": [],
   "source": []
  },
  {
   "cell_type": "code",
   "execution_count": null,
   "metadata": {
    "collapsed": true
   },
   "outputs": [],
   "source": []
  },
  {
   "cell_type": "code",
   "execution_count": 156,
   "metadata": {},
   "outputs": [
    {
     "name": "stdout",
     "output_type": "stream",
     "text": [
      "Date:Feb 01, 2018\n",
      "Open:13.05\n",
      "High:14.30\n",
      "Low:12.50\n",
      "Close:13.47\n",
      "Adjust Close:13.47\n",
      "Date:Jan 31, 2018\n",
      "Open:14.23\n",
      "High:14.44\n",
      "Low:13.41\n",
      "Close:13.54\n",
      "Adjust Close:13.54\n",
      "Date:Jan 30, 2018\n",
      "Open:13.93\n",
      "High:15.42\n",
      "Low:13.88\n",
      "Close:14.79\n",
      "Adjust Close:14.79\n",
      "Date:Jan 29, 2018\n",
      "Open:11.71\n",
      "High:13.84\n",
      "Low:11.68\n",
      "Close:13.84\n",
      "Adjust Close:13.84\n",
      "Date:Jan 26, 2018\n",
      "Open:11.40\n",
      "High:11.60\n",
      "Low:11.08\n",
      "Close:11.08\n",
      "Adjust Close:11.08\n",
      "Date:Jan 25, 2018\n",
      "Open:11.27\n",
      "High:12.01\n",
      "Low:11.20\n",
      "Close:11.58\n",
      "Adjust Close:11.58\n",
      "Date:Jan 24, 2018\n",
      "Open:11.00\n",
      "High:12.19\n",
      "Low:10.89\n",
      "Close:11.47\n",
      "Adjust Close:11.47\n",
      "Date:Jan 23, 2018\n",
      "Open:10.77\n",
      "High:11.57\n",
      "Low:10.76\n",
      "Close:11.10\n",
      "Adjust Close:11.10\n",
      "Date:Jan 22, 2018\n",
      "Open:11.59\n",
      "High:11.62\n",
      "Low:10.84\n",
      "Close:11.03\n",
      "Adjust Close:11.03\n",
      "Date:Jan 19, 2018\n",
      "Open:12.30\n",
      "High:12.33\n",
      "Low:11.18\n",
      "Close:11.27\n",
      "Adjust Close:11.27\n",
      "Date:Jan 18, 2018\n",
      "Open:12.01\n",
      "High:12.40\n",
      "Low:11.62\n",
      "Close:12.22\n",
      "Adjust Close:12.22\n",
      "Date:Jan 17, 2018\n",
      "Open:11.35\n",
      "High:12.81\n",
      "Low:11.18\n",
      "Close:11.91\n",
      "Adjust Close:11.91\n",
      "Date:Jan 16, 2018\n",
      "Open:10.42\n",
      "High:12.41\n",
      "Low:10.40\n",
      "Close:11.66\n",
      "Adjust Close:11.66\n",
      "Date:Jan 12, 2018\n",
      "Open:9.74\n",
      "High:10.31\n",
      "Low:9.54\n",
      "Close:10.16\n",
      "Adjust Close:10.16\n",
      "Date:Jan 11, 2018\n",
      "Open:9.69\n",
      "High:10.02\n",
      "Low:9.62\n",
      "Close:9.88\n",
      "Adjust Close:9.88\n",
      "Date:Jan 10, 2018\n",
      "Open:10.11\n",
      "High:10.85\n",
      "Low:9.82\n",
      "Close:9.82\n",
      "Adjust Close:9.82\n",
      "Date:Jan 09, 2018\n",
      "Open:9.41\n",
      "High:10.09\n",
      "Low:9.37\n",
      "Close:10.08\n",
      "Adjust Close:10.08\n",
      "Date:Jan 08, 2018\n",
      "Open:9.61\n",
      "High:9.89\n",
      "Low:9.32\n",
      "Close:9.52\n",
      "Adjust Close:9.52\n",
      "Date:Jan 05, 2018\n",
      "Open:9.10\n",
      "High:9.54\n",
      "Low:9.00\n",
      "Close:9.22\n",
      "Adjust Close:9.22\n",
      "Date:Jan 04, 2018\n",
      "Open:9.01\n",
      "High:9.31\n",
      "Low:8.92\n",
      "Close:9.22\n",
      "Adjust Close:9.22\n",
      "Date:Jan 03, 2018\n",
      "Open:9.56\n",
      "High:9.65\n",
      "Low:8.94\n",
      "Close:9.15\n",
      "Adjust Close:9.15\n",
      "Date:Jan 02, 2018\n",
      "Open:10.95\n",
      "High:11.07\n",
      "Low:9.52\n",
      "Close:9.77\n",
      "Adjust Close:9.77\n",
      "Date:Dec 29, 2017\n",
      "Open:10.03\n",
      "High:11.06\n",
      "Low:9.95\n",
      "Close:11.04\n",
      "Adjust Close:11.04\n",
      "Date:Dec 28, 2017\n",
      "Open:10.29\n",
      "High:10.44\n",
      "Low:10.07\n",
      "Close:10.18\n",
      "Adjust Close:10.18\n",
      "Date:Dec 27, 2017\n",
      "Open:10.04\n",
      "High:10.79\n",
      "Low:9.71\n",
      "Close:10.47\n",
      "Adjust Close:10.47\n",
      "Date:Dec 26, 2017\n",
      "Open:10.19\n",
      "High:10.46\n",
      "Low:10.13\n",
      "Close:10.25\n",
      "Adjust Close:10.25\n",
      "Date:Dec 22, 2017\n",
      "Open:9.37\n",
      "High:10.18\n",
      "Low:9.35\n",
      "Close:9.90\n",
      "Adjust Close:9.90\n",
      "Date:Dec 21, 2017\n",
      "Open:9.59\n",
      "High:9.86\n",
      "Low:9.20\n",
      "Close:9.62\n",
      "Adjust Close:9.62\n",
      "Date:Dec 20, 2017\n",
      "Open:9.69\n",
      "High:9.85\n",
      "Low:8.90\n",
      "Close:9.72\n",
      "Adjust Close:9.72\n",
      "Date:Dec 19, 2017\n",
      "Open:9.40\n",
      "High:10.15\n",
      "Low:9.18\n",
      "Close:10.03\n",
      "Adjust Close:10.03\n",
      "Date:Dec 18, 2017\n",
      "Open:9.46\n",
      "High:9.89\n",
      "Low:9.24\n",
      "Close:9.53\n",
      "Adjust Close:9.53\n",
      "Date:Dec 15, 2017\n",
      "Open:10.12\n",
      "High:10.20\n",
      "Low:9.22\n",
      "Close:9.42\n",
      "Adjust Close:9.42\n",
      "Date:Dec 14, 2017\n",
      "Open:9.98\n",
      "High:10.54\n",
      "Low:9.78\n",
      "Close:10.49\n",
      "Adjust Close:10.49\n",
      "Date:Dec 13, 2017\n",
      "Open:9.78\n",
      "High:10.21\n",
      "Low:9.65\n",
      "Close:10.18\n",
      "Adjust Close:10.18\n",
      "Date:Dec 12, 2017\n",
      "Open:9.36\n",
      "High:9.92\n",
      "Low:9.21\n",
      "Close:9.92\n",
      "Adjust Close:9.92\n",
      "Date:Dec 11, 2017\n",
      "Open:9.74\n",
      "High:10.08\n",
      "Low:9.28\n",
      "Close:9.34\n",
      "Adjust Close:9.34\n",
      "Date:Dec 08, 2017\n",
      "Open:10.00\n",
      "High:10.06\n",
      "Low:9.43\n",
      "Close:9.58\n",
      "Adjust Close:9.58\n",
      "Date:Dec 07, 2017\n",
      "Open:10.90\n",
      "High:11.32\n",
      "Low:10.12\n",
      "Close:10.16\n",
      "Adjust Close:10.16\n",
      "Date:Dec 06, 2017\n",
      "Open:11.63\n",
      "High:11.68\n",
      "Low:10.86\n",
      "Close:11.02\n",
      "Adjust Close:11.02\n",
      "Date:Dec 05, 2017\n",
      "Open:11.38\n",
      "High:11.67\n",
      "Low:10.65\n",
      "Close:11.33\n",
      "Adjust Close:11.33\n",
      "Date:Dec 04, 2017\n",
      "Open:11.05\n",
      "High:11.86\n",
      "Low:10.26\n",
      "Close:11.68\n",
      "Adjust Close:11.68\n",
      "Date:Dec 01, 2017\n",
      "Open:11.19\n",
      "High:14.58\n",
      "Low:10.54\n",
      "Close:11.43\n",
      "Adjust Close:11.43\n",
      "Date:Nov 30, 2017\n",
      "Open:10.49\n",
      "High:12.05\n",
      "Low:10.25\n",
      "Close:11.28\n",
      "Adjust Close:11.28\n",
      "Date:Nov 29, 2017\n",
      "Open:9.91\n",
      "High:10.93\n",
      "Low:9.81\n",
      "Close:10.70\n",
      "Adjust Close:10.70\n",
      "Date:Nov 28, 2017\n",
      "Open:9.72\n",
      "High:10.31\n",
      "Low:9.53\n",
      "Close:10.03\n",
      "Adjust Close:10.03\n",
      "Date:Nov 27, 2017\n",
      "Open:10.07\n",
      "High:10.26\n",
      "Low:9.79\n",
      "Close:9.87\n",
      "Adjust Close:9.87\n",
      "Date:Nov 24, 2017\n",
      "Open:9.82\n",
      "High:9.96\n",
      "Low:8.56\n",
      "Close:9.67\n",
      "Adjust Close:9.67\n",
      "Date:Nov 22, 2017\n",
      "Open:9.60\n",
      "High:9.88\n",
      "Low:9.32\n",
      "Close:9.88\n",
      "Adjust Close:9.88\n",
      "Date:Nov 21, 2017\n",
      "Open:10.74\n",
      "High:10.78\n",
      "Low:9.67\n",
      "Close:9.73\n",
      "Adjust Close:9.73\n",
      "Date:Nov 20, 2017\n",
      "Open:11.96\n",
      "High:12.08\n",
      "Low:10.44\n",
      "Close:10.65\n",
      "Adjust Close:10.65\n",
      "Date:Nov 17, 2017\n",
      "Open:11.75\n",
      "High:12.01\n",
      "Low:11.16\n",
      "Close:11.43\n",
      "Adjust Close:11.43\n",
      "Date:Nov 16, 2017\n",
      "Open:12.47\n",
      "High:12.52\n",
      "Low:11.38\n",
      "Close:11.76\n",
      "Adjust Close:11.76\n",
      "Date:Nov 15, 2017\n",
      "Open:12.52\n",
      "High:14.51\n",
      "Low:12.33\n",
      "Close:13.13\n",
      "Adjust Close:13.13\n",
      "Date:Nov 14, 2017\n",
      "Open:11.53\n",
      "High:12.61\n",
      "Low:11.45\n",
      "Close:11.59\n",
      "Adjust Close:11.59\n",
      "Date:Nov 13, 2017\n",
      "Open:11.43\n",
      "High:12.18\n",
      "Low:11.00\n",
      "Close:11.50\n",
      "Adjust Close:11.50\n",
      "Date:Nov 10, 2017\n",
      "Open:10.78\n",
      "High:11.58\n",
      "Low:10.50\n",
      "Close:11.29\n",
      "Adjust Close:11.29\n",
      "Date:Nov 09, 2017\n",
      "Open:9.94\n",
      "High:12.19\n",
      "Low:9.79\n",
      "Close:10.50\n",
      "Adjust Close:10.50\n",
      "Date:Nov 08, 2017\n",
      "Open:9.79\n",
      "High:10.27\n",
      "Low:9.50\n",
      "Close:9.78\n",
      "Adjust Close:9.78\n",
      "Date:Nov 07, 2017\n",
      "Open:9.31\n",
      "High:10.31\n",
      "Low:9.29\n",
      "Close:9.89\n",
      "Adjust Close:9.89\n",
      "Date:Nov 06, 2017\n",
      "Open:9.63\n",
      "High:9.74\n",
      "Low:9.38\n",
      "Close:9.40\n",
      "Adjust Close:9.40\n",
      "Date:Nov 03, 2017\n",
      "Open:9.83\n",
      "High:9.91\n",
      "Low:8.99\n",
      "Close:9.14\n",
      "Adjust Close:9.14\n",
      "Date:Nov 02, 2017\n",
      "Open:10.44\n",
      "High:10.89\n",
      "Low:9.67\n",
      "Close:9.93\n",
      "Adjust Close:9.93\n",
      "Date:Nov 01, 2017\n",
      "Open:9.79\n",
      "High:10.49\n",
      "Low:9.74\n",
      "Close:10.20\n",
      "Adjust Close:10.20\n",
      "Date:Oct 31, 2017\n",
      "Open:10.34\n",
      "High:10.37\n",
      "Low:9.90\n",
      "Close:10.18\n",
      "Adjust Close:10.18\n",
      "Date:Oct 30, 2017\n",
      "Open:10.28\n",
      "High:10.89\n",
      "Low:10.10\n",
      "Close:10.50\n",
      "Adjust Close:10.50\n",
      "Date:Oct 27, 2017\n",
      "Open:11.12\n",
      "High:11.12\n",
      "Low:9.74\n",
      "Close:9.80\n",
      "Adjust Close:9.80\n",
      "Date:Oct 26, 2017\n",
      "Open:11.17\n",
      "High:11.81\n",
      "Low:10.60\n",
      "Close:11.30\n",
      "Adjust Close:11.30\n",
      "Date:Oct 25, 2017\n",
      "Open:11.34\n",
      "High:13.20\n",
      "Low:10.99\n",
      "Close:11.23\n",
      "Adjust Close:11.23\n",
      "Date:Oct 24, 2017\n",
      "Open:10.89\n",
      "High:11.16\n",
      "Low:10.39\n",
      "Close:11.16\n",
      "Adjust Close:11.16\n",
      "Date:Oct 23, 2017\n",
      "Open:10.25\n",
      "High:11.08\n",
      "Low:9.94\n",
      "Close:11.07\n",
      "Adjust Close:11.07\n",
      "Date:Oct 20, 2017\n",
      "Open:9.92\n",
      "High:10.04\n",
      "Low:9.29\n",
      "Close:9.97\n",
      "Adjust Close:9.97\n",
      "Date:Oct 19, 2017\n",
      "Open:10.22\n",
      "High:11.77\n",
      "Low:9.99\n",
      "Close:10.05\n",
      "Adjust Close:10.05\n",
      "Date:Oct 18, 2017\n",
      "Open:10.34\n",
      "High:10.41\n",
      "Low:9.87\n",
      "Close:10.07\n",
      "Adjust Close:10.07\n",
      "Date:Oct 17, 2017\n",
      "Open:9.85\n",
      "High:10.46\n",
      "Low:9.78\n",
      "Close:10.31\n",
      "Adjust Close:10.31\n",
      "Date:Oct 16, 2017\n",
      "Open:9.95\n",
      "High:10.02\n",
      "Low:9.75\n",
      "Close:9.91\n",
      "Adjust Close:9.91\n",
      "Date:Oct 13, 2017\n",
      "Open:9.95\n",
      "High:9.98\n",
      "Low:9.44\n",
      "Close:9.61\n",
      "Adjust Close:9.61\n",
      "Date:Oct 12, 2017\n",
      "Open:9.94\n",
      "High:10.33\n",
      "Low:9.65\n",
      "Close:9.91\n",
      "Adjust Close:9.91\n",
      "Date:Oct 11, 2017\n",
      "Open:9.95\n",
      "High:10.38\n",
      "Low:9.72\n",
      "Close:9.85\n",
      "Adjust Close:9.85\n",
      "Date:Oct 10, 2017\n",
      "Open:10.15\n",
      "High:10.66\n",
      "Low:9.94\n",
      "Close:10.08\n",
      "Adjust Close:10.08\n",
      "Date:Oct 09, 2017\n",
      "Open:9.92\n",
      "High:10.53\n",
      "Low:9.88\n",
      "Close:10.33\n",
      "Adjust Close:10.33\n",
      "Date:Oct 06, 2017\n",
      "Open:9.23\n",
      "High:10.27\n",
      "Low:9.11\n",
      "Close:9.65\n",
      "Adjust Close:9.65\n",
      "Date:Oct 05, 2017\n",
      "Open:9.48\n",
      "High:9.62\n",
      "Low:9.13\n",
      "Close:9.19\n",
      "Adjust Close:9.19\n",
      "Date:Oct 04, 2017\n",
      "Open:9.53\n",
      "High:9.88\n",
      "Low:9.53\n",
      "Close:9.63\n",
      "Adjust Close:9.63\n",
      "Date:Oct 03, 2017\n",
      "Open:9.30\n",
      "High:9.75\n",
      "Low:9.30\n",
      "Close:9.51\n",
      "Adjust Close:9.51\n",
      "Date:Oct 02, 2017\n",
      "Open:9.59\n",
      "High:10.04\n",
      "Low:9.37\n",
      "Close:9.45\n",
      "Adjust Close:9.45\n",
      "Date:Sep 29, 2017\n",
      "Open:9.59\n",
      "High:9.83\n",
      "Low:9.36\n",
      "Close:9.51\n",
      "Adjust Close:9.51\n",
      "Date:Sep 28, 2017\n",
      "Open:9.74\n",
      "High:10.13\n",
      "Low:9.55\n",
      "Close:9.55\n",
      "Adjust Close:9.55\n",
      "Date:Sep 27, 2017\n",
      "Open:9.90\n",
      "High:10.42\n",
      "Low:9.63\n",
      "Close:9.87\n",
      "Adjust Close:9.87\n",
      "Date:Sep 26, 2017\n",
      "Open:10.42\n",
      "High:10.68\n",
      "Low:9.94\n",
      "Close:10.17\n",
      "Adjust Close:10.17\n",
      "Date:Sep 25, 2017\n",
      "Open:10.08\n",
      "High:11.21\n",
      "Low:9.79\n",
      "Close:10.21\n",
      "Adjust Close:10.21\n",
      "Date:Sep 22, 2017\n",
      "Open:9.90\n",
      "High:10.20\n",
      "Low:9.50\n",
      "Close:9.59\n",
      "Adjust Close:9.59\n",
      "Date:Sep 21, 2017\n",
      "Open:9.74\n",
      "High:10.21\n",
      "Low:9.54\n",
      "Close:9.67\n",
      "Adjust Close:9.67\n",
      "Date:Sep 20, 2017\n",
      "Open:10.04\n",
      "High:10.67\n",
      "Low:9.67\n",
      "Close:9.78\n",
      "Adjust Close:9.78\n",
      "Date:Sep 19, 2017\n",
      "Open:10.16\n",
      "High:10.30\n",
      "Low:9.85\n",
      "Close:10.18\n",
      "Adjust Close:10.18\n",
      "Date:Sep 18, 2017\n",
      "Open:10.18\n",
      "High:10.42\n",
      "Low:9.88\n",
      "Close:10.15\n",
      "Adjust Close:10.15\n",
      "Date:Sep 15, 2017\n",
      "Open:10.51\n",
      "High:10.74\n",
      "Low:10.00\n",
      "Close:10.17\n",
      "Adjust Close:10.17\n",
      "Date:Sep 14, 2017\n",
      "Open:10.57\n",
      "High:11.04\n",
      "Low:10.28\n",
      "Close:10.44\n",
      "Adjust Close:10.44\n",
      "Date:Sep 13, 2017\n",
      "Open:10.72\n",
      "High:10.86\n",
      "Low:10.33\n",
      "Close:10.50\n",
      "Adjust Close:10.50\n",
      "Date:Sep 12, 2017\n",
      "Open:10.66\n",
      "High:10.95\n",
      "Low:10.29\n",
      "Close:10.58\n",
      "Adjust Close:10.58\n",
      "Date:Sep 11, 2017\n",
      "Open:11.38\n",
      "High:11.39\n",
      "Low:10.51\n",
      "Close:10.73\n",
      "Adjust Close:10.73\n"
     ]
    }
   ],
   "source": [
    "for container in containers:\n",
    "    one=container.findAll('td')\n",
    "    one0=one[0].text\n",
    "    one1=one[1].text\n",
    "    one2=one[2].text\n",
    "    one3=one[3].text\n",
    "    one4=one[4].text\n",
    "    one5=one[5].text\n",
    "    \n",
    "    print('Date:'+one0)\n",
    "    print('Open:'+one1)\n",
    "    print('High:'+one2)\n",
    "    print('Low:'+one3)\n",
    "    print('Close:'+one4)\n",
    "    print('Adjust Close:'+one5)\n",
    "    \n",
    "    f.write(one0.replace(',','/')+','+one1.replace(',','')+','+one2.replace(',','')+','+one3.replace(',','')+','+one4.replace(',','')+','+one5.replace(',','')+'\\n')\n",
    "\n",
    "f.close()"
   ]
  },
  {
   "cell_type": "code",
   "execution_count": 28,
   "metadata": {},
   "outputs": [
    {
     "data": {
      "text/plain": [
       "[]"
      ]
     },
     "execution_count": 28,
     "metadata": {},
     "output_type": "execute_result"
    }
   ],
   "source": []
  },
  {
   "cell_type": "code",
   "execution_count": 25,
   "metadata": {},
   "outputs": [
    {
     "data": {
      "text/plain": [
       "'1,451.30'"
      ]
     },
     "execution_count": 25,
     "metadata": {},
     "output_type": "execute_result"
    }
   ],
   "source": []
  },
  {
   "cell_type": "code",
   "execution_count": 115,
   "metadata": {},
   "outputs": [
    {
     "data": {
      "text/plain": [
       "'2018-01-29 9:44AM EST'"
      ]
     },
     "execution_count": 115,
     "metadata": {},
     "output_type": "execute_result"
    }
   ],
   "source": []
  },
  {
   "cell_type": "code",
   "execution_count": 116,
   "metadata": {
    "collapsed": true
   },
   "outputs": [],
   "source": []
  },
  {
   "cell_type": "code",
   "execution_count": 117,
   "metadata": {
    "collapsed": true
   },
   "outputs": [],
   "source": []
  },
  {
   "cell_type": "code",
   "execution_count": 118,
   "metadata": {},
   "outputs": [
    {
     "data": {
      "text/plain": [
       "'900.00'"
      ]
     },
     "execution_count": 118,
     "metadata": {},
     "output_type": "execute_result"
    }
   ],
   "source": []
  },
  {
   "cell_type": "code",
   "execution_count": 119,
   "metadata": {
    "collapsed": true
   },
   "outputs": [],
   "source": []
  },
  {
   "cell_type": "code",
   "execution_count": 122,
   "metadata": {
    "collapsed": true
   },
   "outputs": [],
   "source": []
  },
  {
   "cell_type": "code",
   "execution_count": 123,
   "metadata": {},
   "outputs": [
    {
     "data": {
      "text/plain": [
       "'519.25'"
      ]
     },
     "execution_count": 123,
     "metadata": {},
     "output_type": "execute_result"
    }
   ],
   "source": []
  },
  {
   "cell_type": "code",
   "execution_count": 124,
   "metadata": {
    "collapsed": true
   },
   "outputs": [],
   "source": []
  },
  {
   "cell_type": "code",
   "execution_count": 125,
   "metadata": {
    "collapsed": true
   },
   "outputs": [],
   "source": []
  },
  {
   "cell_type": "code",
   "execution_count": 126,
   "metadata": {
    "collapsed": true
   },
   "outputs": [],
   "source": []
  },
  {
   "cell_type": "code",
   "execution_count": 127,
   "metadata": {
    "collapsed": true
   },
   "outputs": [],
   "source": []
  },
  {
   "cell_type": "code",
   "execution_count": null,
   "metadata": {
    "collapsed": true
   },
   "outputs": [],
   "source": []
  }
 ],
 "metadata": {
  "kernelspec": {
   "display_name": "Python 3",
   "language": "python",
   "name": "python3"
  },
  "language_info": {
   "codemirror_mode": {
    "name": "ipython",
    "version": 3
   },
   "file_extension": ".py",
   "mimetype": "text/x-python",
   "name": "python",
   "nbconvert_exporter": "python",
   "pygments_lexer": "ipython3",
   "version": "3.6.1"
  }
 },
 "nbformat": 4,
 "nbformat_minor": 2
}
