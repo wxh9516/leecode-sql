{
 "cells": [
  {
   "cell_type": "code",
   "execution_count": 43,
   "metadata": {},
   "outputs": [],
   "source": [
    "import numpy as np\n",
    "\n",
    "from math import sqrt\n",
    "from pandas.core.frame import DataFrame"
   ]
  },
  {
   "cell_type": "code",
   "execution_count": 2,
   "metadata": {},
   "outputs": [],
   "source": [
    "def binom_tree_call(N,T,S0,sigma,r,K,array_out=False):\n",
    "    dt=T/N\n",
    "    u=np.exp((sigma*np.sqrt(dt)))\n",
    "    d=1/u\n",
    "    p=(np.exp(r*dt)-d)/(u-d)\n",
    "    \n",
    "    price_tree=np.zeros([N+1,N+1])\n",
    "    \n",
    "    for i in range(N+1):\n",
    "        for j in range(i+1):\n",
    "            price_tree[j,i]=S0*(d**j)*(u**(i-j))\n",
    "            \n",
    "    option=np.zeros([N+1,N+1])\n",
    "    option[:,N]=np.maximum(np.zeros(N+1),price_tree[:,N]-K)\n",
    "    \n",
    "    for i in np.arange(N-1,-1,-1):\n",
    "        for j in np.arange(0,i+1):\n",
    "            option[j,i]=np.exp(-r*dt)*(p*option[j,i+1]+(1-p)*option[j+1,i+1])\n",
    "            \n",
    "    if array_out:\n",
    "        return [option[0,0],price_tree,option]\n",
    "    else:\n",
    "        return option[0,0]"
   ]
  },
  {
   "cell_type": "code",
   "execution_count": 49,
   "metadata": {},
   "outputs": [
    {
     "data": {
      "text/plain": [
       "[0, 1, 2, 3, 4, 5, 6, 7, 8, 9, 10, 11]"
      ]
     },
     "execution_count": 49,
     "metadata": {},
     "output_type": "execute_result"
    }
   ],
   "source": [
    "i=[0,1,2,3,4,5,6,7,8,9,10,11]\n",
    "i"
   ]
  },
  {
   "cell_type": "code",
   "execution_count": 21,
   "metadata": {},
   "outputs": [
    {
     "name": "stdout",
     "output_type": "stream",
     "text": [
      "0.05\n",
      "0.0505\n",
      "0.051000000000000004\n",
      "0.051500000000000004\n",
      "0.052000000000000005\n",
      "0.052500000000000005\n",
      "0.053000000000000005\n",
      "0.053500000000000006\n",
      "0.054000000000000006\n",
      "0.05450000000000001\n",
      "0.05500000000000001\n",
      "0.05550000000000001\n"
     ]
    }
   ],
   "source": [
    "filename='part3_r.csv'\n",
    "f=open(filename,'w')\n",
    "\n",
    "headers='r\\n'\n",
    "f.write(headers)\n",
    "\n",
    "for a in i:\n",
    "    r=0.05*(1+0.01*a)\n",
    "    print(r)\n",
    "    \n",
    "    f.write(str(r)+'\\n')\n",
    "\n",
    "f.close()"
   ]
  },
  {
   "cell_type": "code",
   "execution_count": null,
   "metadata": {
    "collapsed": true
   },
   "outputs": [],
   "source": [
    "avrgr=0.053"
   ]
  },
  {
   "cell_type": "code",
   "execution_count": 22,
   "metadata": {},
   "outputs": [
    {
     "name": "stdout",
     "output_type": "stream",
     "text": [
      "0.2\n",
      "0.20099999999999998\n",
      "0.202\n",
      "0.20299999999999999\n",
      "0.20400000000000001\n",
      "0.205\n",
      "0.20600000000000002\n",
      "0.207\n",
      "0.20800000000000002\n",
      "0.209\n",
      "0.21000000000000002\n",
      "0.211\n"
     ]
    }
   ],
   "source": [
    "filename='part3_sigma.csv'\n",
    "f=open(filename,'w')\n",
    "\n",
    "headers='sigma\\n'\n",
    "f.write(headers)\n",
    "\n",
    "\n",
    "for a in i:\n",
    "    sigma=0.2*(1+0.005*a)\n",
    "    print(sigma)\n",
    "    \n",
    "    f.write(str(sigma)+'\\n')\n",
    "\n",
    "f.close()"
   ]
  },
  {
   "cell_type": "code",
   "execution_count": null,
   "metadata": {
    "collapsed": true
   },
   "outputs": [],
   "source": [
    "avrgsig=0.2055\n"
   ]
  },
  {
   "cell_type": "code",
   "execution_count": 25,
   "metadata": {},
   "outputs": [],
   "source": [
    "import pandas as pd\n",
    "file1='part3_r.csv'\n",
    "r=pd.read_csv(file1)\n",
    "file2='part3_sigma.csv'\n",
    "sigma=pd.read_csv(file2)\n",
    "rli=np.array(r['r'])\n",
    "rli=rli.tolist()\n",
    "sigli=np.array(sigma['sigma'])\n",
    "sigli=sigli.tolist()"
   ]
  },
  {
   "cell_type": "code",
   "execution_count": 28,
   "metadata": {},
   "outputs": [
    {
     "name": "stdout",
     "output_type": "stream",
     "text": [
      "0.03\n",
      "0.0302995\n",
      "0.030598\n",
      "0.030895499999999996\n",
      "0.031192000000000008\n",
      "0.03148750000000001\n",
      "0.031782000000000005\n",
      "0.03207550000000001\n",
      "0.03236800000000001\n",
      "0.032659500000000015\n",
      "0.03295000000000002\n",
      "0.033239500000000005\n"
     ]
    }
   ],
   "source": [
    "filename='part3_v.csv'\n",
    "f=open(filename,'w')\n",
    "\n",
    "headers='v\\n'\n",
    "f.write(headers)\n",
    "\n",
    "for i,j in zip(rli,sigli):\n",
    "    v=i-0.5*(j**2)\n",
    "    print(v)\n",
    "    \n",
    "    f.write(str(v)+'\\n')\n",
    "\n",
    "f.close()"
   ]
  },
  {
   "cell_type": "code",
   "execution_count": null,
   "metadata": {
    "collapsed": true
   },
   "outputs": [],
   "source": [
    "avrgv=0.031628917\n"
   ]
  },
  {
   "cell_type": "code",
   "execution_count": 29,
   "metadata": {
    "collapsed": true
   },
   "outputs": [],
   "source": [
    "dx=0.05"
   ]
  },
  {
   "cell_type": "code",
   "execution_count": 30,
   "metadata": {
    "collapsed": true
   },
   "outputs": [],
   "source": [
    "file3='part3_v.csv'\n",
    "v=pd.read_csv(file3)\n",
    "vli=np.array(v['v'])\n",
    "vli=vli.tolist()"
   ]
  },
  {
   "cell_type": "code",
   "execution_count": 36,
   "metadata": {},
   "outputs": [
    {
     "name": "stdout",
     "output_type": "stream",
     "text": [
      "0.06241235570175058\n",
      "0.061792889198338544\n",
      "0.061182613722538165\n",
      "0.060581348070892445\n",
      "0.059988915487293314\n",
      "0.059405143532683134\n",
      "0.05882986395922304\n",
      "0.05826291258865967\n",
      "0.05770412919484416\n",
      "0.05715335739011093\n",
      "0.05661044451550702\n",
      "0.05607524153460086\n"
     ]
    }
   ],
   "source": [
    "filename='part3_t.csv'\n",
    "f=open(filename,'w')\n",
    "\n",
    "headers='t\\n'\n",
    "f.write(headers)\n",
    "\n",
    "for i,j in zip(sigli,vli):\n",
    "    t=1/(2*j**2)*((-i**2)+sqrt(i**4+4*(j**2)*dx**2))\n",
    "    print(t)\n",
    "    \n",
    "    f.write(str(t)+'\\n')\n",
    "\n",
    "f.close()"
   ]
  },
  {
   "cell_type": "code",
   "execution_count": 37,
   "metadata": {},
   "outputs": [],
   "source": [
    "file4='part3_t.csv'\n",
    "t=pd.read_csv(file4)\n",
    "tli=np.array(t['t'])\n",
    "tli=tli.tolist()"
   ]
  },
  {
   "cell_type": "code",
   "execution_count": 39,
   "metadata": {},
   "outputs": [
    {
     "name": "stdout",
     "output_type": "stream",
     "text": [
      "0.5187237067105251\n",
      "0.5187229364626506\n",
      "0.5187206561468223\n",
      "0.5187169103932425\n",
      "0.5187117425187965\n",
      "0.5187051945698536\n",
      "0.5186973073635203\n",
      "0.5186881205273756\n",
      "0.5186776725377872\n",
      "0.5186660007568233\n",
      "0.5186531414678596\n",
      "0.5186391299098937\n"
     ]
    }
   ],
   "source": [
    "filename='part3_p.csv'\n",
    "f=open(filename,'w')\n",
    "\n",
    "headers='p\\n'\n",
    "f.write(headers)\n",
    "\n",
    "for i,j in zip(tli,vli):\n",
    "    p=0.5+j*i/(2.*dx)\n",
    "    print(p)\n",
    "    \n",
    "    f.write(str(p)+'\\n')\n",
    "\n",
    "f.close()"
   ]
  },
  {
   "cell_type": "code",
   "execution_count": 40,
   "metadata": {
    "collapsed": true
   },
   "outputs": [],
   "source": [
    "file4='part3_p.csv'\n",
    "p=pd.read_csv(file4)\n"
   ]
  },
  {
   "cell_type": "code",
   "execution_count": 57,
   "metadata": {},
   "outputs": [],
   "source": [
    "i=[0,1,2,3,4,5,6,7,8,9,10,11]\n",
    "i={'i':i}\n",
    "data=DataFrame(i)\n",
    "data['r']=r\n",
    "data['sigma']=sigma\n",
    "data['v']=v\n",
    "data['t']=t\n",
    "data['p']=p"
   ]
  },
  {
   "cell_type": "code",
   "execution_count": 58,
   "metadata": {
    "scrolled": true
   },
   "outputs": [
    {
     "data": {
      "text/html": [
       "<div>\n",
       "<style>\n",
       "    .dataframe thead tr:only-child th {\n",
       "        text-align: right;\n",
       "    }\n",
       "\n",
       "    .dataframe thead th {\n",
       "        text-align: left;\n",
       "    }\n",
       "\n",
       "    .dataframe tbody tr th {\n",
       "        vertical-align: top;\n",
       "    }\n",
       "</style>\n",
       "<table border=\"1\" class=\"dataframe\">\n",
       "  <thead>\n",
       "    <tr style=\"text-align: right;\">\n",
       "      <th></th>\n",
       "      <th>i</th>\n",
       "      <th>r</th>\n",
       "      <th>sigma</th>\n",
       "      <th>v</th>\n",
       "      <th>t</th>\n",
       "      <th>p</th>\n",
       "    </tr>\n",
       "  </thead>\n",
       "  <tbody>\n",
       "    <tr>\n",
       "      <th>0</th>\n",
       "      <td>0</td>\n",
       "      <td>0.0500</td>\n",
       "      <td>0.200</td>\n",
       "      <td>0.030000</td>\n",
       "      <td>0.062412</td>\n",
       "      <td>0.518724</td>\n",
       "    </tr>\n",
       "    <tr>\n",
       "      <th>1</th>\n",
       "      <td>1</td>\n",
       "      <td>0.0505</td>\n",
       "      <td>0.201</td>\n",
       "      <td>0.030300</td>\n",
       "      <td>0.061793</td>\n",
       "      <td>0.518723</td>\n",
       "    </tr>\n",
       "    <tr>\n",
       "      <th>2</th>\n",
       "      <td>2</td>\n",
       "      <td>0.0510</td>\n",
       "      <td>0.202</td>\n",
       "      <td>0.030598</td>\n",
       "      <td>0.061183</td>\n",
       "      <td>0.518721</td>\n",
       "    </tr>\n",
       "    <tr>\n",
       "      <th>3</th>\n",
       "      <td>3</td>\n",
       "      <td>0.0515</td>\n",
       "      <td>0.203</td>\n",
       "      <td>0.030895</td>\n",
       "      <td>0.060581</td>\n",
       "      <td>0.518717</td>\n",
       "    </tr>\n",
       "    <tr>\n",
       "      <th>4</th>\n",
       "      <td>4</td>\n",
       "      <td>0.0520</td>\n",
       "      <td>0.204</td>\n",
       "      <td>0.031192</td>\n",
       "      <td>0.059989</td>\n",
       "      <td>0.518712</td>\n",
       "    </tr>\n",
       "    <tr>\n",
       "      <th>5</th>\n",
       "      <td>5</td>\n",
       "      <td>0.0525</td>\n",
       "      <td>0.205</td>\n",
       "      <td>0.031488</td>\n",
       "      <td>0.059405</td>\n",
       "      <td>0.518705</td>\n",
       "    </tr>\n",
       "    <tr>\n",
       "      <th>6</th>\n",
       "      <td>6</td>\n",
       "      <td>0.0530</td>\n",
       "      <td>0.206</td>\n",
       "      <td>0.031782</td>\n",
       "      <td>0.058830</td>\n",
       "      <td>0.518697</td>\n",
       "    </tr>\n",
       "    <tr>\n",
       "      <th>7</th>\n",
       "      <td>7</td>\n",
       "      <td>0.0535</td>\n",
       "      <td>0.207</td>\n",
       "      <td>0.032076</td>\n",
       "      <td>0.058263</td>\n",
       "      <td>0.518688</td>\n",
       "    </tr>\n",
       "    <tr>\n",
       "      <th>8</th>\n",
       "      <td>8</td>\n",
       "      <td>0.0540</td>\n",
       "      <td>0.208</td>\n",
       "      <td>0.032368</td>\n",
       "      <td>0.057704</td>\n",
       "      <td>0.518678</td>\n",
       "    </tr>\n",
       "    <tr>\n",
       "      <th>9</th>\n",
       "      <td>9</td>\n",
       "      <td>0.0545</td>\n",
       "      <td>0.209</td>\n",
       "      <td>0.032660</td>\n",
       "      <td>0.057153</td>\n",
       "      <td>0.518666</td>\n",
       "    </tr>\n",
       "    <tr>\n",
       "      <th>10</th>\n",
       "      <td>10</td>\n",
       "      <td>0.0550</td>\n",
       "      <td>0.210</td>\n",
       "      <td>0.032950</td>\n",
       "      <td>0.056610</td>\n",
       "      <td>0.518653</td>\n",
       "    </tr>\n",
       "    <tr>\n",
       "      <th>11</th>\n",
       "      <td>11</td>\n",
       "      <td>0.0555</td>\n",
       "      <td>0.211</td>\n",
       "      <td>0.033240</td>\n",
       "      <td>0.056075</td>\n",
       "      <td>0.518639</td>\n",
       "    </tr>\n",
       "  </tbody>\n",
       "</table>\n",
       "</div>"
      ],
      "text/plain": [
       "     i       r  sigma         v         t         p\n",
       "0    0  0.0500  0.200  0.030000  0.062412  0.518724\n",
       "1    1  0.0505  0.201  0.030300  0.061793  0.518723\n",
       "2    2  0.0510  0.202  0.030598  0.061183  0.518721\n",
       "3    3  0.0515  0.203  0.030895  0.060581  0.518717\n",
       "4    4  0.0520  0.204  0.031192  0.059989  0.518712\n",
       "5    5  0.0525  0.205  0.031488  0.059405  0.518705\n",
       "6    6  0.0530  0.206  0.031782  0.058830  0.518697\n",
       "7    7  0.0535  0.207  0.032076  0.058263  0.518688\n",
       "8    8  0.0540  0.208  0.032368  0.057704  0.518678\n",
       "9    9  0.0545  0.209  0.032660  0.057153  0.518666\n",
       "10  10  0.0550  0.210  0.032950  0.056610  0.518653\n",
       "11  11  0.0555  0.211  0.033240  0.056075  0.518639"
      ]
     },
     "execution_count": 58,
     "metadata": {},
     "output_type": "execute_result"
    }
   ],
   "source": [
    "data"
   ]
  },
  {
   "cell_type": "code",
   "execution_count": 128,
   "metadata": {
    "collapsed": true
   },
   "outputs": [],
   "source": [
    "import math\n",
    "\n",
    "def t(x):\n",
    "    t=0\n",
    "\n",
    "        \n",
    "    for i,j in zip(sigli,vli):\n",
    "        sig=i\n",
    "        v=j\n",
    "        \n",
    "        t=(1/(2*j**2))*(-i**2+sqrt(i**4+4*j**2*x**2))+t\n",
    "\n",
    "    return t-1"
   ]
  },
  {
   "cell_type": "code",
   "execution_count": 132,
   "metadata": {},
   "outputs": [
    {
     "data": {
      "text/plain": [
       "-1.0710174288774965e-05"
      ]
     },
     "execution_count": 132,
     "metadata": {},
     "output_type": "execute_result"
    }
   ],
   "source": [
    "t(0.059355735778808594)"
   ]
  },
  {
   "cell_type": "code",
   "execution_count": 130,
   "metadata": {
    "collapsed": true
   },
   "outputs": [],
   "source": [
    "\n",
    "def bisect(a,b):\n",
    "    while b - a >= 0.000001:\n",
    "        mid= (a + b) / 2.\n",
    "        if t(a)*t(mid) <=0 :\n",
    "            b = mid\n",
    "        else:\n",
    "            a = mid\n",
    "\n",
    "    return (mid)"
   ]
  },
  {
   "cell_type": "code",
   "execution_count": 131,
   "metadata": {},
   "outputs": [
    {
     "data": {
      "text/plain": [
       "0.059355735778808594"
      ]
     },
     "execution_count": 131,
     "metadata": {},
     "output_type": "execute_result"
    }
   ],
   "source": [
    "bisect(0,1)"
   ]
  },
  {
   "cell_type": "code",
   "execution_count": null,
   "metadata": {
    "collapsed": true
   },
   "outputs": [],
   "source": []
  }
 ],
 "metadata": {
  "kernelspec": {
   "display_name": "Python 3",
   "language": "python",
   "name": "python3"
  },
  "language_info": {
   "codemirror_mode": {
    "name": "ipython",
    "version": 3
   },
   "file_extension": ".py",
   "mimetype": "text/x-python",
   "name": "python",
   "nbconvert_exporter": "python",
   "pygments_lexer": "ipython3",
   "version": "3.6.2"
  }
 },
 "nbformat": 4,
 "nbformat_minor": 2
}
