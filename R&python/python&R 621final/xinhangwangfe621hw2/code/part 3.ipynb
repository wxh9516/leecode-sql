{
 "cells": [
  {
   "cell_type": "code",
   "execution_count": 1,
   "metadata": {
    "collapsed": true
   },
   "outputs": [],
   "source": [
    "import math\n",
    "from math import exp"
   ]
  },
  {
   "cell_type": "code",
   "execution_count": 2,
   "metadata": {
    "collapsed": true
   },
   "outputs": [],
   "source": [
    "def f(x):\n",
    "    if x==0:\n",
    "        return 1\n",
    "    else:\n",
    "        return math.sin(x)/x\n"
   ]
  },
  {
   "cell_type": "code",
   "execution_count": 58,
   "metadata": {
    "collapsed": true
   },
   "outputs": [],
   "source": [
    "a=10000\n",
    "N=99999"
   ]
  },
  {
   "cell_type": "code",
   "execution_count": 49,
   "metadata": {
    "collapsed": true
   },
   "outputs": [],
   "source": [
    "h=2*a/N\n",
    "\n",
    "i=1"
   ]
  },
  {
   "cell_type": "code",
   "execution_count": 50,
   "metadata": {},
   "outputs": [
    {
     "name": "stdout",
     "output_type": "stream",
     "text": [
      "15.611985683220253\n"
     ]
    }
   ],
   "source": [
    "I=0\n",
    "while i<N:\n",
    "    I=f(-a+i*h)+I\n",
    "    i=i+1\n",
    "else:\n",
    "    print(I)"
   ]
  },
  {
   "cell_type": "code",
   "execution_count": 51,
   "metadata": {},
   "outputs": [
    {
     "data": {
      "text/plain": [
       "3.1245089142761073"
      ]
     },
     "execution_count": 51,
     "metadata": {},
     "output_type": "execute_result"
    }
   ],
   "source": [
    "I1=h*(f(-a)+f(a))/2.0+I*h\n",
    "I1"
   ]
  },
  {
   "cell_type": "code",
   "execution_count": 52,
   "metadata": {
    "collapsed": true
   },
   "outputs": [],
   "source": [
    "def erro(I):\n",
    "    erro=I-math.pi\n",
    "    return erro"
   ]
  },
  {
   "cell_type": "code",
   "execution_count": 53,
   "metadata": {},
   "outputs": [
    {
     "data": {
      "text/plain": [
       "-0.017083739313685786"
      ]
     },
     "execution_count": 53,
     "metadata": {},
     "output_type": "execute_result"
    }
   ],
   "source": [
    "error1=erro(I1)\n",
    "error1"
   ]
  },
  {
   "cell_type": "code",
   "execution_count": null,
   "metadata": {
    "collapsed": true
   },
   "outputs": [],
   "source": []
  },
  {
   "cell_type": "code",
   "execution_count": 54,
   "metadata": {},
   "outputs": [
    {
     "data": {
      "text/plain": [
       "0.0001"
      ]
     },
     "execution_count": 54,
     "metadata": {},
     "output_type": "execute_result"
    }
   ],
   "source": [
    "p=0.0001\n",
    "p"
   ]
  },
  {
   "cell_type": "code",
   "execution_count": 59,
   "metadata": {},
   "outputs": [
    {
     "name": "stdout",
     "output_type": "stream",
     "text": [
      "-4.16192185382745e-06\n",
      "1\n"
     ]
    }
   ],
   "source": [
    "k=1\n",
    "I=0\n",
    "def func(k):\n",
    "    func=(f(-a+k*h)+f(-a+(k-1)*h))*h/2.0\n",
    "    return func\n",
    "\n",
    "while abs(func(k))>p:\n",
    "    k=k+1\n",
    "else:\n",
    "    print(func(k))\n",
    "    print(k)\n",
    "    "
   ]
  },
  {
   "cell_type": "code",
   "execution_count": 201,
   "metadata": {},
   "outputs": [
    {
     "data": {
      "text/plain": [
       "-8.791145650958046e-08"
      ]
     },
     "execution_count": 201,
     "metadata": {},
     "output_type": "execute_result"
    }
   ],
   "source": []
  },
  {
   "cell_type": "code",
   "execution_count": 202,
   "metadata": {},
   "outputs": [
    {
     "data": {
      "text/plain": [
       "-2.09538978928743e-07"
      ]
     },
     "execution_count": 202,
     "metadata": {},
     "output_type": "execute_result"
    }
   ],
   "source": []
  },
  {
   "cell_type": "code",
   "execution_count": 45,
   "metadata": {},
   "outputs": [],
   "source": [
    "while i<N:\n",
    "    I1=abs(f(-a+i*h)+f(-a+(i-1)*h))\n",
    "    i=i+1\n",
    "\n",
    "\n"
   ]
  },
  {
   "cell_type": "code",
   "execution_count": 46,
   "metadata": {},
   "outputs": [
    {
     "name": "stdout",
     "output_type": "stream",
     "text": [
      "94.2396066688257\n"
     ]
    }
   ],
   "source": [
    "m=1\n",
    "I2=0\n",
    "I3=0\n",
    "I4=0\n",
    "while m<N+1:\n",
    "    I2=f(-a+(2*m-1)*h/2.0)+I2\n",
    "    I3=I3+f(-a+(m-1)*h)\n",
    "    I4=I4+f(-a+(m+1)*h)\n",
    "    m=m+1\n",
    "else:\n",
    "    print(4*I2+I3+I4)"
   ]
  },
  {
   "cell_type": "code",
   "execution_count": 47,
   "metadata": {},
   "outputs": [
    {
     "data": {
      "text/plain": [
       "3.141634385732763"
      ]
     },
     "execution_count": 47,
     "metadata": {},
     "output_type": "execute_result"
    }
   ],
   "source": [
    "I5=4*I2+I3+I4\n",
    "I6=h*I5/6.0\n",
    "I6"
   ]
  },
  {
   "cell_type": "code",
   "execution_count": null,
   "metadata": {
    "collapsed": true
   },
   "outputs": [],
   "source": []
  },
  {
   "cell_type": "code",
   "execution_count": 43,
   "metadata": {},
   "outputs": [
    {
     "data": {
      "text/plain": [
       "4.1732142969763686e-05"
      ]
     },
     "execution_count": 43,
     "metadata": {},
     "output_type": "execute_result"
    }
   ],
   "source": [
    "error2=erro(I6)\n",
    "error2"
   ]
  },
  {
   "cell_type": "code",
   "execution_count": 39,
   "metadata": {},
   "outputs": [
    {
     "name": "stdout",
     "output_type": "stream",
     "text": [
      "-3.5082361742580057e-06\n",
      "1\n"
     ]
    }
   ],
   "source": [
    "k=1\n",
    "I=0\n",
    "def func(k):\n",
    "    func=(f(-a+(k-1)*h)+4*f((-a+(k-1)*h-a+k*h)/2.0)+f(-a+(k+1)*h))*h/6.0\n",
    "    return func\n",
    "\n",
    "while abs(func(k))>p:\n",
    "    k=k+1\n",
    "else:\n",
    "    print(func(k))\n",
    "    print(k)"
   ]
  },
  {
   "cell_type": "code",
   "execution_count": null,
   "metadata": {
    "collapsed": true
   },
   "outputs": [],
   "source": []
  },
  {
   "cell_type": "code",
   "execution_count": 217,
   "metadata": {
    "collapsed": true
   },
   "outputs": [],
   "source": [
    "def g(x):\n",
    "    g=1+exp(-x**2)*math.cos(8*x**(2./3.0))\n",
    "    return g"
   ]
  },
  {
   "cell_type": "code",
   "execution_count": null,
   "metadata": {
    "collapsed": true
   },
   "outputs": [],
   "source": []
  },
  {
   "cell_type": "code",
   "execution_count": 250,
   "metadata": {},
   "outputs": [
    {
     "name": "stdout",
     "output_type": "stream",
     "text": [
      "979397.4788014069\n"
     ]
    }
   ],
   "source": [
    "N=1000000\n",
    "a=2/N\n",
    "i=1\n",
    "I=0\n",
    "\n",
    "while i<N:\n",
    "    I=g(i*a)+I\n",
    "    i=i+1\n",
    "else:\n",
    "    print(I)"
   ]
  },
  {
   "cell_type": "code",
   "execution_count": 251,
   "metadata": {},
   "outputs": [
    {
     "data": {
      "text/plain": [
       "1.9587979757570924"
      ]
     },
     "execution_count": 251,
     "metadata": {},
     "output_type": "execute_result"
    }
   ],
   "source": [
    "I1=a*(g(0)+g(2))/2.+a*I\n",
    "I1"
   ]
  },
  {
   "cell_type": "code",
   "execution_count": 256,
   "metadata": {},
   "outputs": [
    {
     "name": "stdout",
     "output_type": "stream",
     "text": [
      "3.9999991936466366e-06\n",
      "1\n"
     ]
    }
   ],
   "source": [
    "k=1\n",
    "I=0\n",
    "def func(k):\n",
    "    func=(g(k*a)+g((k-1)*a))*a/2.0\n",
    "    return func\n",
    "\n",
    "while abs(func(k))>p:\n",
    "    k=k+1\n",
    "else:\n",
    "    print(func(k))\n",
    "    print(k)"
   ]
  },
  {
   "cell_type": "code",
   "execution_count": null,
   "metadata": {
    "collapsed": true
   },
   "outputs": [],
   "source": []
  },
  {
   "cell_type": "code",
   "execution_count": 245,
   "metadata": {},
   "outputs": [
    {
     "name": "stdout",
     "output_type": "stream",
     "text": [
      "5876392.945425974\n"
     ]
    }
   ],
   "source": [
    "N=1000000\n",
    "a=2/N\n",
    "m=1\n",
    "I2=0\n",
    "I3=0\n",
    "I4=0\n",
    "while m<N+1:\n",
    "    I2=g((2*m-1)*a/2.0)+I2\n",
    "    I3=I3+g((m-1)*a)\n",
    "    I4=I4+g((m+1)*a)\n",
    "    m=m+1\n",
    "else:\n",
    "    print(4*I2+I3+I4)\n"
   ]
  },
  {
   "cell_type": "code",
   "execution_count": 244,
   "metadata": {},
   "outputs": [
    {
     "data": {
      "text/plain": [
       "1.9587976484753247"
      ]
     },
     "execution_count": 244,
     "metadata": {},
     "output_type": "execute_result"
    }
   ],
   "source": [
    "I5=4*I2+I3+I4\n",
    "I6=a*I5/6.0\n",
    "I6"
   ]
  },
  {
   "cell_type": "code",
   "execution_count": null,
   "metadata": {
    "collapsed": true
   },
   "outputs": [],
   "source": []
  }
 ],
 "metadata": {
  "kernelspec": {
   "display_name": "Python 3",
   "language": "python",
   "name": "python3"
  },
  "language_info": {
   "codemirror_mode": {
    "name": "ipython",
    "version": 3
   },
   "file_extension": ".py",
   "mimetype": "text/x-python",
   "name": "python",
   "nbconvert_exporter": "python",
   "pygments_lexer": "ipython3",
   "version": "3.6.2"
  }
 },
 "nbformat": 4,
 "nbformat_minor": 2
}
