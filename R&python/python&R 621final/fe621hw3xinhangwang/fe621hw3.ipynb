{
 "cells": [
  {
   "cell_type": "code",
   "execution_count": 1,
   "metadata": {
    "collapsed": true
   },
   "outputs": [],
   "source": [
    "#1.a)\n",
    "from time import time\n",
    "from math import exp, sqrt, log\n",
    "from random import gauss, seed"
   ]
  },
  {
   "cell_type": "code",
   "execution_count": 15,
   "metadata": {
    "collapsed": true
   },
   "outputs": [],
   "source": [
    "seed(2000)\n",
    "# 计算的一些初始值\n",
    "S_0 = 100.0    # 股票或指数初始的价格;\n",
    "K = 100       #  行权价格\n",
    "T = 1.0        #  期权的到期年限(距离到期日时间间隔)\n",
    "r = 0.06       #   无风险利率\n",
    "sigma = 0.5    # 波动率(收益标准差)\n",
    "M = 300         # number of time steps\n",
    "dt = T/M       # time enterval\n",
    "I = 1000"
   ]
  },
  {
   "cell_type": "code",
   "execution_count": 16,
   "metadata": {},
   "outputs": [
    {
     "name": "stdout",
     "output_type": "stream",
     "text": [
      "European Option value 23.240737\n",
      "total time is 2.676153 seconds\n"
     ]
    }
   ],
   "source": [
    "#euro call\n",
    "start = time()\n",
    "S = []     # \n",
    "for i in range(I):\n",
    "    path = []    # 时间间隔上的模拟路径\n",
    "    for t in range(M+1):\n",
    "        if t==0:\n",
    "            path.append(S_0)\n",
    "        else:\n",
    "            z = gauss(0.0, 1.0)\n",
    "            S_t = path[t-1] * exp((r-0.5*sigma**2) * dt + sigma * sqrt(dt) * z)\n",
    "            path.append(S_t)\n",
    "    S.append(path)\n",
    "# 计算期权现值\n",
    "C_0 = exp(-r * T) *sum([max(path[-1] -K, 0) for path in S])/I\n",
    "total_time = time() - start\n",
    "print ('European Option value %.6f'% C_0)\n",
    "print ('total time is %.6f seconds'% total_time)"
   ]
  },
  {
   "cell_type": "code",
   "execution_count": 53,
   "metadata": {},
   "outputs": [
    {
     "name": "stdout",
     "output_type": "stream",
     "text": [
      "European Option value 15.589640\n",
      "total time is 2.260129 seconds\n"
     ]
    }
   ],
   "source": [
    "#euro put\n",
    "start = time()\n",
    "S = []     # \n",
    "for i in range(I):\n",
    "    path = []    # 时间间隔上的模拟路径\n",
    "    for t in range(M+1):\n",
    "        if t==0:\n",
    "            path.append(S_0)\n",
    "        else:\n",
    "            z = gauss(0.0, 1.0)\n",
    "            S_t = path[t-1] * exp((r-0.5*sigma**2) * dt + sigma * sqrt(dt) * z)\n",
    "            path.append(S_t)\n",
    "    S.append(path)\n",
    "# 计算期权现值\n",
    "C_0 = exp(-r * T) *sum([max(K-path[-1] , 0) for path in S])/I\n",
    "total_time = time() - start\n",
    "print ('European Option value %.6f'% C_0)\n",
    "print ('total time is %.6f seconds'% total_time)"
   ]
  },
  {
   "cell_type": "code",
   "execution_count": 17,
   "metadata": {
    "collapsed": true
   },
   "outputs": [],
   "source": [
    "#1.a)&b)\n",
    "T=1.\n",
    "N=300\n",
    "r=0.06\n",
    "div=0.03\n",
    "sig=0.5\n",
    "S=100\n",
    "\n",
    "\n",
    "dt=T/N\n",
    "nudt=(r-div-0.5*sig**2)*dt\n",
    "sigsdt=sig*sqrt(dt)\n",
    "lnS=math.log(S)\n",
    "M=1000\n",
    "\n",
    "sum_CT=0\n",
    "sum_CT2=0\n",
    "\n"
   ]
  },
  {
   "cell_type": "code",
   "execution_count": 18,
   "metadata": {
    "scrolled": true
   },
   "outputs": [
    {
     "name": "stdout",
     "output_type": "stream",
     "text": [
      "total time is 1.365078 seconds\n"
     ]
    }
   ],
   "source": [
    "from time import time\n",
    "start = time()\n",
    "for j in range(M):\n",
    "    lnSt=math.log(S)\n",
    "\n",
    "    for i in range(N):\n",
    "        e=gauss(0.,1.)\n",
    "        lnSt=lnSt+nudt+sigsdt*e\n",
    "        i=i+1\n",
    "    ST=math.exp(lnSt)\n",
    "  \n",
    "    CT=max(0,ST-K)\n",
    "\n",
    "    sum_CT=sum_CT+CT\n",
    "\n",
    "    sum_CT2=sum_CT2+CT*CT\n",
    "    j=j+1\n",
    "total_time = time() - start\n",
    "print ('total time is %.6f seconds'% total_time)"
   ]
  },
  {
   "cell_type": "code",
   "execution_count": 153,
   "metadata": {
    "collapsed": true
   },
   "outputs": [],
   "source": [
    "call_value=sum_CT/M*math.exp(-r*T)\n",
    "SD=sqrt((sum_CT2-sum_CT*sum_CT/M)*math.exp(-2*r*T)/(M-1))\n",
    "SE=SD/sqrt(M)\n"
   ]
  },
  {
   "cell_type": "code",
   "execution_count": 154,
   "metadata": {},
   "outputs": [
    {
     "data": {
      "text/plain": [
       "20.702370502618884"
      ]
     },
     "execution_count": 154,
     "metadata": {},
     "output_type": "execute_result"
    }
   ],
   "source": [
    "call_value"
   ]
  },
  {
   "cell_type": "code",
   "execution_count": 105,
   "metadata": {},
   "outputs": [
    {
     "data": {
      "text/plain": [
       "37.76123155592238"
      ]
     },
     "execution_count": 105,
     "metadata": {},
     "output_type": "execute_result"
    }
   ],
   "source": [
    "SD"
   ]
  },
  {
   "cell_type": "code",
   "execution_count": 106,
   "metadata": {},
   "outputs": [
    {
     "data": {
      "text/plain": [
       "1.194114989697386"
      ]
     },
     "execution_count": 106,
     "metadata": {},
     "output_type": "execute_result"
    }
   ],
   "source": [
    "SE"
   ]
  },
  {
   "cell_type": "code",
   "execution_count": 108,
   "metadata": {},
   "outputs": [
    {
     "name": "stdout",
     "output_type": "stream",
     "text": [
      "total time is 1.336815 seconds\n"
     ]
    }
   ],
   "source": [
    "#put\n",
    "start = time()\n",
    "for j in range(M):\n",
    "    lnSt=math.log(S)\n",
    "    for i in range(N):\n",
    "        e=gauss(0.,1.)\n",
    "        lnSt=lnSt+nudt+sigsdt*e\n",
    "        i=i+1\n",
    "    ST=math.exp(lnSt)\n",
    "  \n",
    "    CT=max(0,K-ST)\n",
    "\n",
    "    sum_CT=sum_CT+CT\n",
    "\n",
    "    sum_CT2=sum_CT2+CT*CT\n",
    "    j=j+1\n",
    "total_time = time() - start\n",
    "print ('total time is %.6f seconds'% total_time)"
   ]
  },
  {
   "cell_type": "code",
   "execution_count": 109,
   "metadata": {
    "collapsed": true
   },
   "outputs": [],
   "source": [
    "put_value=sum_CT/M*math.exp(-r*T)\n",
    "SD=sqrt((sum_CT2-sum_CT*sum_CT/M)*math.exp(-2*r*T)/(M-1))\n",
    "SE=SD/sqrt(M)"
   ]
  },
  {
   "cell_type": "code",
   "execution_count": 111,
   "metadata": {},
   "outputs": [
    {
     "data": {
      "text/plain": [
       "17.668274726698233"
      ]
     },
     "execution_count": 111,
     "metadata": {},
     "output_type": "execute_result"
    }
   ],
   "source": [
    "put_value"
   ]
  },
  {
   "cell_type": "code",
   "execution_count": 112,
   "metadata": {},
   "outputs": [
    {
     "data": {
      "text/plain": [
       "19.823784021988473"
      ]
     },
     "execution_count": 112,
     "metadata": {},
     "output_type": "execute_result"
    }
   ],
   "source": [
    "SD"
   ]
  },
  {
   "cell_type": "code",
   "execution_count": 113,
   "metadata": {},
   "outputs": [
    {
     "data": {
      "text/plain": [
       "0.6268830935273701"
      ]
     },
     "execution_count": 113,
     "metadata": {},
     "output_type": "execute_result"
    }
   ],
   "source": [
    "SE"
   ]
  },
  {
   "cell_type": "code",
   "execution_count": 114,
   "metadata": {
    "collapsed": true
   },
   "outputs": [],
   "source": [
    "#1.b)method :the antithetic variates method\n",
    "\n",
    "import numpy as np  \n",
    "import pandas as pd  \n",
    "import matplotlib.pyplot as plt  \n",
    "import scipy.stats as scs  \n",
    "import math\n",
    "from math import sqrt,exp\n",
    "from random import gauss, seed\n"
   ]
  },
  {
   "cell_type": "code",
   "execution_count": 122,
   "metadata": {
    "collapsed": true
   },
   "outputs": [],
   "source": [
    "T=1.\n",
    "N=300\n",
    "r=0.06\n",
    "div=0.03\n",
    "sig=0.5\n",
    "S=100\n",
    "\n",
    "dt=T/N\n",
    "nudt=(r-div-0.5*sig**2)*dt\n",
    "sigsdt=sig*sqrt(dt)\n",
    "lnS=math.log(S)\n",
    "\n",
    "sum_CT=0\n",
    "sum_CT2=0"
   ]
  },
  {
   "cell_type": "code",
   "execution_count": 123,
   "metadata": {
    "collapsed": true
   },
   "outputs": [],
   "source": [
    "M=1000\n",
    "K=100"
   ]
  },
  {
   "cell_type": "code",
   "execution_count": 117,
   "metadata": {},
   "outputs": [
    {
     "name": "stdout",
     "output_type": "stream",
     "text": [
      "total time is 1.446811 seconds\n"
     ]
    }
   ],
   "source": [
    "from time import time\n",
    "start = time()\n",
    "for j in range(M):\n",
    "    lnSt1=lnS\n",
    "    lnSt2=lnS\n",
    "\n",
    "    for i in range(N):\n",
    "        e= gauss(0.0, 1.0)\n",
    "        lnSt1=lnSt1+nudt+sigsdt*e\n",
    "        lnSt2=lnSt2+nudt+sigsdt*(-e)\n",
    "        i=i+1\n",
    "    St1=math.exp(lnSt1)\n",
    "    St2=math.exp(lnSt2)\n",
    "    CT=0.5*(max(0,St1-K)+max(0,St2-K))\n",
    "    sum_CT=sum_CT+CT\n",
    "    sum_CT2=sum_CT2+CT*CT\n",
    "    j=j+1\n",
    "total_time = time() - start\n",
    "print ('total time is %.6f seconds'% total_time)"
   ]
  },
  {
   "cell_type": "code",
   "execution_count": 118,
   "metadata": {
    "collapsed": true
   },
   "outputs": [],
   "source": [
    "call_value=sum_CT/M*math.exp(-r*T)\n",
    "SD=sqrt((sum_CT2-sum_CT*sum_CT/M)*math.exp(-2*r*T)/(M-1))\n",
    "SE=SD/sqrt(M)"
   ]
  },
  {
   "cell_type": "code",
   "execution_count": 119,
   "metadata": {},
   "outputs": [
    {
     "data": {
      "text/plain": [
       "19.55990484391641"
      ]
     },
     "execution_count": 119,
     "metadata": {},
     "output_type": "execute_result"
    }
   ],
   "source": [
    "call_value"
   ]
  },
  {
   "cell_type": "code",
   "execution_count": 120,
   "metadata": {},
   "outputs": [
    {
     "data": {
      "text/plain": [
       "22.845574426317782"
      ]
     },
     "execution_count": 120,
     "metadata": {},
     "output_type": "execute_result"
    }
   ],
   "source": [
    "SD"
   ]
  },
  {
   "cell_type": "code",
   "execution_count": 121,
   "metadata": {},
   "outputs": [
    {
     "data": {
      "text/plain": [
       "0.7224404964205876"
      ]
     },
     "execution_count": 121,
     "metadata": {},
     "output_type": "execute_result"
    }
   ],
   "source": [
    "SE"
   ]
  },
  {
   "cell_type": "code",
   "execution_count": 124,
   "metadata": {},
   "outputs": [
    {
     "name": "stdout",
     "output_type": "stream",
     "text": [
      "total time is 1.588114 seconds\n"
     ]
    }
   ],
   "source": [
    "from time import time\n",
    "start = time()\n",
    "for j in range(M):\n",
    "    lnSt1=lnS\n",
    "    lnSt2=lnS\n",
    "\n",
    "    for i in range(N):\n",
    "        e= gauss(0.0, 1.0)\n",
    "        lnSt1=lnSt1+nudt+sigsdt*e\n",
    "        lnSt2=lnSt2+nudt+sigsdt*(-e)\n",
    "        i=i+1\n",
    "    St1=math.exp(lnSt1)\n",
    "    St2=math.exp(lnSt2)\n",
    "    CT=0.5*(max(0,K-St1)+max(0,K-St2))\n",
    "    sum_CT=sum_CT+CT\n",
    "    sum_CT2=sum_CT2+CT*CT\n",
    "    j=j+1\n",
    "total_time = time() - start\n",
    "print ('total time is %.6f seconds'% total_time)"
   ]
  },
  {
   "cell_type": "code",
   "execution_count": 125,
   "metadata": {},
   "outputs": [
    {
     "data": {
      "text/plain": [
       "17.53073692686001"
      ]
     },
     "execution_count": 125,
     "metadata": {},
     "output_type": "execute_result"
    }
   ],
   "source": [
    "put_value=sum_CT/M*math.exp(-r*T)\n",
    "SD=sqrt((sum_CT2-sum_CT*sum_CT/M)*math.exp(-2*r*T)/(M-1))\n",
    "SE=SD/sqrt(M)\n",
    "put_value"
   ]
  },
  {
   "cell_type": "code",
   "execution_count": 126,
   "metadata": {},
   "outputs": [
    {
     "data": {
      "text/plain": [
       "7.410359905421033"
      ]
     },
     "execution_count": 126,
     "metadata": {},
     "output_type": "execute_result"
    }
   ],
   "source": [
    "SD"
   ]
  },
  {
   "cell_type": "code",
   "execution_count": 127,
   "metadata": {},
   "outputs": [
    {
     "data": {
      "text/plain": [
       "0.23433615582720396"
      ]
     },
     "execution_count": 127,
     "metadata": {},
     "output_type": "execute_result"
    }
   ],
   "source": [
    "SE"
   ]
  },
  {
   "cell_type": "code",
   "execution_count": 19,
   "metadata": {
    "collapsed": true
   },
   "outputs": [],
   "source": [
    "#1.b) delta–based control variate\n",
    "N=300\n",
    "dt=T/N\n",
    "nudt=(r-div-0.5*sig**2)*dt\n",
    "sigsdt=sig*sqrt(dt)\n",
    "erddt=math.exp((r-div)*dt)\n",
    "beta1=-1\n",
    "sum_CT=0\n",
    "sum_CT2=0\n",
    "\n",
    "S=100\n"
   ]
  },
  {
   "cell_type": "code",
   "execution_count": 20,
   "metadata": {},
   "outputs": [
    {
     "data": {
      "text/plain": [
       "0.62171952182201928"
      ]
     },
     "execution_count": 20,
     "metadata": {},
     "output_type": "execute_result"
    }
   ],
   "source": [
    "import numpy as np\n",
    "#BSM\n",
    "St=100\n",
    "K=100\n",
    "r=0.06\n",
    "div=0.03\n",
    "sigma=0.5\n",
    "t=0\n",
    "T=1\n",
    "\n",
    "from scipy.stats import norm\n",
    "\n",
    "def BSM_delta(S0,t):\n",
    "    '''the sensitivity of the value of the option to a change in the underlying stock price''' \n",
    "    d1 = (np.log(S0/K)+(r-div+sigma**2/2)*(T))/(sigma*np.sqrt(T))\n",
    "    delta = norm.cdf(d1)\n",
    "    return delta\n",
    "\n",
    "\n",
    "BSM_delta(St,t)"
   ]
  },
  {
   "cell_type": "code",
   "execution_count": 21,
   "metadata": {
    "scrolled": true
   },
   "outputs": [
    {
     "name": "stdout",
     "output_type": "stream",
     "text": [
      "total time is 35.415025 seconds\n"
     ]
    }
   ],
   "source": [
    "\n",
    "start = time()\n",
    "M=1000\n",
    "N=300\n",
    "for j in range(M):\n",
    "    St=S\n",
    "    cv=0\n",
    "    for i in range(N):\n",
    "        t=(i-1)*dt\n",
    "        delta=BSM_delta(St,t)\n",
    "        e= gauss(0.0, 1.0)\n",
    "        Stn=St*math.exp(nudt+sigsdt*e)\n",
    "        cv=cv+delta*(Stn-St*erddt)\n",
    "\n",
    "        St=Stn\n",
    "\n",
    "        i=i+1\n",
    "    CT=max(0,St-K)+beta1*cv\n",
    "\n",
    "    sum_CT=sum_CT+CT\n",
    "\n",
    "    sum_CT2=sum_CT2+CT*CT\n",
    "    j=j+1\n",
    "total_time = time() - start\n",
    "print ('total time is %.6f seconds'% total_time)"
   ]
  },
  {
   "cell_type": "code",
   "execution_count": 22,
   "metadata": {
    "collapsed": true
   },
   "outputs": [],
   "source": [
    "call_value=sum_CT/M*math.exp(-r*T)\n",
    "SD=sqrt((sum_CT2-sum_CT*sum_CT/M)*math.exp(-2*r*T)/(M-1))\n",
    "SE=SD/sqrt(M)"
   ]
  },
  {
   "cell_type": "code",
   "execution_count": 23,
   "metadata": {},
   "outputs": [
    {
     "data": {
      "text/plain": [
       "20.093259075633839"
      ]
     },
     "execution_count": 23,
     "metadata": {},
     "output_type": "execute_result"
    }
   ],
   "source": [
    "call_value"
   ]
  },
  {
   "cell_type": "code",
   "execution_count": 24,
   "metadata": {},
   "outputs": [
    {
     "data": {
      "text/plain": [
       "4.933394811206326"
      ]
     },
     "execution_count": 24,
     "metadata": {},
     "output_type": "execute_result"
    }
   ],
   "source": [
    "SD"
   ]
  },
  {
   "cell_type": "code",
   "execution_count": 134,
   "metadata": {},
   "outputs": [
    {
     "data": {
      "text/plain": [
       "0.6189931723765062"
      ]
     },
     "execution_count": 134,
     "metadata": {},
     "output_type": "execute_result"
    }
   ],
   "source": [
    "SE"
   ]
  },
  {
   "cell_type": "code",
   "execution_count": 7,
   "metadata": {
    "collapsed": true
   },
   "outputs": [],
   "source": [
    "import math"
   ]
  },
  {
   "cell_type": "code",
   "execution_count": 25,
   "metadata": {
    "scrolled": true
   },
   "outputs": [
    {
     "name": "stdout",
     "output_type": "stream",
     "text": [
      "total time is 39.569263 seconds\n"
     ]
    }
   ],
   "source": [
    "#put\n",
    "S=100\n",
    "\n",
    "St=100\n",
    "K=100\n",
    "r=0.06\n",
    "div=0.03\n",
    "sig=0.5\n",
    "t=0\n",
    "T=1\n",
    "N=300\n",
    "T=1.\n",
    "dt=T/N\n",
    "r=.06\n",
    "nudt=(r-div-0.5*sig**2)*dt\n",
    "sigsdt=sig*sqrt(dt)\n",
    "erddt=math.exp((r-div)*dt)\n",
    "beta1=-1\n",
    "sum_CT=0\n",
    "sum_CT2=0\n",
    "\n",
    "S=100\n",
    "\n",
    "\n",
    "\n",
    "start = time()\n",
    "M=1000\n",
    "N=300\n",
    "for j in range(M):\n",
    "    St=S\n",
    "    cv=0\n",
    "    for i in range(N):\n",
    "        t=(i-1)*dt\n",
    "        delta=BSM_delta(St,t)\n",
    "        e= gauss(0.0, 1.0)\n",
    "        Stn=St*math.exp(nudt+sigsdt*e)\n",
    "\n",
    "        St=Stn\n",
    "\n",
    "        i=i+1\n",
    "    CT=max(0,K-St)+beta1*cv\n",
    "\n",
    "    sum_CT=sum_CT+CT\n",
    "\n",
    "    sum_CT2=sum_CT2+CT*CT\n",
    "    j=j+1\n",
    "total_time = time() - start\n",
    "print ('total time is %.6f seconds'% total_time)"
   ]
  },
  {
   "cell_type": "code",
   "execution_count": 26,
   "metadata": {},
   "outputs": [
    {
     "data": {
      "text/plain": [
       "17.913896817771853"
      ]
     },
     "execution_count": 26,
     "metadata": {},
     "output_type": "execute_result"
    }
   ],
   "source": [
    "put_value=sum_CT/M*math.exp(-r*T)\n",
    "SD=sqrt((sum_CT2-sum_CT*sum_CT/M)*math.exp(-2*r*T)/(M-1))\n",
    "SE=SD/sqrt(M)\n",
    "put_value"
   ]
  },
  {
   "cell_type": "code",
   "execution_count": 27,
   "metadata": {},
   "outputs": [
    {
     "data": {
      "text/plain": [
       "20.3228532169927"
      ]
     },
     "execution_count": 27,
     "metadata": {},
     "output_type": "execute_result"
    }
   ],
   "source": [
    "SD"
   ]
  },
  {
   "cell_type": "code",
   "execution_count": 138,
   "metadata": {},
   "outputs": [
    {
     "data": {
      "text/plain": [
       "0.6352231577257003"
      ]
     },
     "execution_count": 138,
     "metadata": {},
     "output_type": "execute_result"
    }
   ],
   "source": [
    "SE"
   ]
  },
  {
   "cell_type": "code",
   "execution_count": null,
   "metadata": {
    "collapsed": true
   },
   "outputs": [],
   "source": []
  },
  {
   "cell_type": "code",
   "execution_count": 145,
   "metadata": {
    "collapsed": true
   },
   "outputs": [],
   "source": [
    "#1.b) combine\n",
    "T=1.\n",
    "N=300\n",
    "r=0.06\n",
    "div=0.03\n",
    "sig=0.5\n",
    "S=100\n",
    "K=100\n",
    "M=1000\n",
    "\n",
    "dt=T/N\n",
    "nudt=(r-div-0.5*sig**2)*dt\n",
    "sigsdt=sig*sqrt(dt)\n",
    "erddt=math.exp((r-div)*dt)\n",
    "beta1=-1\n",
    "\n",
    "sum_CT=0\n",
    "sum_CT2=0"
   ]
  },
  {
   "cell_type": "code",
   "execution_count": 140,
   "metadata": {},
   "outputs": [
    {
     "name": "stdout",
     "output_type": "stream",
     "text": [
      "total time is 82.921453 seconds\n"
     ]
    }
   ],
   "source": [
    "M=1000\n",
    "N=300\n",
    "start = time()\n",
    "for j in range(M):\n",
    "    St1=S\n",
    "    St2=S\n",
    "    cv1=0\n",
    "    cv2=0\n",
    "    for i in range(N):\n",
    "        t=(i-1)*dt\n",
    "        delta1=BSM_delta(St1,t)\n",
    "        delta2=BSM_delta(St2,t)\n",
    "        e=gauss(0.0,1.)\n",
    "        Stn1=St1*math.exp(nudt+sigsdt*e)\n",
    "        Stn2=St2*math.exp(nudt+sigsdt*(-e))\n",
    "        cv1=cv2+delta1*(Stn1-St1*erddt)\n",
    "        cv2=cv2+delta2*(Stn2-St2*erddt)\n",
    "        St1=Stn1\n",
    "        St2=Stn2\n",
    "        i=i+1\n",
    "    CT=0.5*(max(0,St1-K)+beta1*cv1+max(0,St2-K)+beta1*cv2)\n",
    "    sum_CT=sum_CT+CT\n",
    "    sum_CT2=sum_CT2+CT*CT\n",
    "    j=j+1\n",
    "total_time = time() - start\n",
    "print ('total time is %.6f seconds'% total_time)"
   ]
  },
  {
   "cell_type": "code",
   "execution_count": 141,
   "metadata": {
    "collapsed": true
   },
   "outputs": [],
   "source": [
    "call_value=sum_CT/M*math.exp(-r*T)\n",
    "SD=sqrt((sum_CT2-sum_CT*sum_CT/M)*exp(-2*r*T)/(M-1))\n",
    "SE=SD/sqrt(M)"
   ]
  },
  {
   "cell_type": "code",
   "execution_count": 142,
   "metadata": {},
   "outputs": [
    {
     "data": {
      "text/plain": [
       "20.765614740831939"
      ]
     },
     "execution_count": 142,
     "metadata": {},
     "output_type": "execute_result"
    }
   ],
   "source": [
    "call_value"
   ]
  },
  {
   "cell_type": "code",
   "execution_count": 143,
   "metadata": {},
   "outputs": [
    {
     "data": {
      "text/plain": [
       "32.76441082273965"
      ]
     },
     "execution_count": 143,
     "metadata": {},
     "output_type": "execute_result"
    }
   ],
   "source": [
    "SD"
   ]
  },
  {
   "cell_type": "code",
   "execution_count": 144,
   "metadata": {},
   "outputs": [
    {
     "data": {
      "text/plain": [
       "1.0361016439332866"
      ]
     },
     "execution_count": 144,
     "metadata": {},
     "output_type": "execute_result"
    }
   ],
   "source": [
    "SE"
   ]
  },
  {
   "cell_type": "code",
   "execution_count": 146,
   "metadata": {},
   "outputs": [
    {
     "name": "stdout",
     "output_type": "stream",
     "text": [
      "total time is 107.538744 seconds\n"
     ]
    }
   ],
   "source": [
    "#put\n",
    "M=1000\n",
    "N=300\n",
    "start = time()\n",
    "for j in range(M):\n",
    "    St1=S\n",
    "    St2=S\n",
    "    cv1=0\n",
    "    cv2=0\n",
    "    for i in range(N):\n",
    "        t=(i-1)*dt\n",
    "        delta1=BSM_delta(St1,t)\n",
    "        delta2=BSM_delta(St2,t)\n",
    "        e=gauss(0.0,1.)\n",
    "        Stn1=St1*math.exp(nudt+sigsdt*e)\n",
    "        Stn2=St2*math.exp(nudt+sigsdt*(-e))\n",
    "        cv1=cv2+delta1*(Stn1-St1*erddt)\n",
    "        cv2=cv2+delta2*(Stn2-St2*erddt)\n",
    "        St1=Stn1\n",
    "        St2=Stn2\n",
    "        i=i+1\n",
    "    CT=0.5*(max(0,K-St1)+beta1*cv1+max(0,K-St2)+beta1*cv2)\n",
    "    sum_CT=sum_CT+CT\n",
    "    sum_CT2=sum_CT2+CT*CT\n",
    "    j=j+1\n",
    "total_time = time() - start\n",
    "print ('total time is %.6f seconds'% total_time)"
   ]
  },
  {
   "cell_type": "code",
   "execution_count": 147,
   "metadata": {},
   "outputs": [
    {
     "data": {
      "text/plain": [
       "18.718725236489274"
      ]
     },
     "execution_count": 147,
     "metadata": {},
     "output_type": "execute_result"
    }
   ],
   "source": [
    "\n",
    "put_value=sum_CT/M*math.exp(-r*T)\n",
    "SD=sqrt((sum_CT2-sum_CT*sum_CT/M)*exp(-2*r*T)/(M-1))\n",
    "SE=SD/sqrt(M)\n",
    "put_value"
   ]
  },
  {
   "cell_type": "code",
   "execution_count": 148,
   "metadata": {},
   "outputs": [
    {
     "data": {
      "text/plain": [
       "32.71440994187593"
      ]
     },
     "execution_count": 148,
     "metadata": {},
     "output_type": "execute_result"
    }
   ],
   "source": [
    "SD"
   ]
  },
  {
   "cell_type": "code",
   "execution_count": 149,
   "metadata": {},
   "outputs": [
    {
     "data": {
      "text/plain": [
       "1.0345204772478458"
      ]
     },
     "execution_count": 149,
     "metadata": {},
     "output_type": "execute_result"
    }
   ],
   "source": [
    "SE"
   ]
  },
  {
   "cell_type": "code",
   "execution_count": null,
   "metadata": {
    "collapsed": true
   },
   "outputs": [],
   "source": []
  },
  {
   "cell_type": "code",
   "execution_count": null,
   "metadata": {
    "collapsed": true
   },
   "outputs": [],
   "source": []
  },
  {
   "cell_type": "code",
   "execution_count": null,
   "metadata": {
    "collapsed": true
   },
   "outputs": [],
   "source": []
  },
  {
   "cell_type": "code",
   "execution_count": null,
   "metadata": {
    "collapsed": true
   },
   "outputs": [],
   "source": []
  }
 ],
 "metadata": {
  "kernelspec": {
   "display_name": "Python 3",
   "language": "python",
   "name": "python3"
  },
  "language_info": {
   "codemirror_mode": {
    "name": "ipython",
    "version": 3
   },
   "file_extension": ".py",
   "mimetype": "text/x-python",
   "name": "python",
   "nbconvert_exporter": "python",
   "pygments_lexer": "ipython3",
   "version": "3.6.2"
  }
 },
 "nbformat": 4,
 "nbformat_minor": 2
}
