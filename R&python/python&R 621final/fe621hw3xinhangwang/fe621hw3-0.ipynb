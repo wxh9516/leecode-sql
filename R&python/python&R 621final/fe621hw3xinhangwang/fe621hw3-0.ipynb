{
 "cells": [
  {
   "cell_type": "code",
   "execution_count": 6,
   "metadata": {
    "collapsed": true
   },
   "outputs": [],
   "source": [
    "from math import sqrt\n",
    "import math\n",
    "from random import gauss"
   ]
  },
  {
   "cell_type": "code",
   "execution_count": 47,
   "metadata": {
    "collapsed": true
   },
   "outputs": [],
   "source": [
    "T=1.\n",
    "N=300\n",
    "r=0.06\n",
    "div=0.03\n",
    "sig=0.5\n",
    "St=100\n",
    "K=100\n",
    "\n",
    "dt=T/N\n",
    "nudt=(r-div-0.5*sig**2)*dt\n",
    "sigsdt=sig*sqrt(dt)\n",
    "\n",
    "M=1000000\n",
    "\n",
    "sum_CT=0\n",
    "sum_CT2=0"
   ]
  },
  {
   "cell_type": "code",
   "execution_count": null,
   "metadata": {
    "collapsed": true
   },
   "outputs": [],
   "source": []
  },
  {
   "cell_type": "code",
   "execution_count": 48,
   "metadata": {},
   "outputs": [
    {
     "name": "stdout",
     "output_type": "stream",
     "text": [
      "total time is 336.219000 seconds\n"
     ]
    }
   ],
   "source": [
    "from time import time\n",
    "start=time()\n",
    "for j in range(M):\n",
    "    lnSt=math.log(St)\n",
    "    for i in range(N):\n",
    "        e=gauss(0.,1.)\n",
    "        lnSt=lnSt+nudt+sigsdt*e\n",
    "        i=i+1\n",
    "\n",
    "    ST=math.exp(lnSt)\n",
    "    CT=max(0,ST-K)\n",
    "    sum_CT=sum_CT+CT\n",
    "    sum_CT2=sum_CT2+CT*CT\n",
    "    j=j+1\n",
    "total_time=time()-start\n",
    "print('total time is %.6f seconds'% total_time)"
   ]
  },
  {
   "cell_type": "code",
   "execution_count": 49,
   "metadata": {},
   "outputs": [
    {
     "data": {
      "text/plain": [
       "20.283091961236785"
      ]
     },
     "execution_count": 49,
     "metadata": {},
     "output_type": "execute_result"
    }
   ],
   "source": [
    "call_value=sum_CT/M*math.exp(-r*T)\n",
    "call_value"
   ]
  },
  {
   "cell_type": "code",
   "execution_count": 50,
   "metadata": {},
   "outputs": [
    {
     "data": {
      "text/plain": [
       "39.24242327491381"
      ]
     },
     "execution_count": 50,
     "metadata": {},
     "output_type": "execute_result"
    }
   ],
   "source": [
    "SD=sqrt((sum_CT2-sum_CT*sum_CT/M)*math.exp(-2*r*T)/(M-1))\n",
    "SD"
   ]
  },
  {
   "cell_type": "code",
   "execution_count": 51,
   "metadata": {},
   "outputs": [
    {
     "data": {
      "text/plain": [
       "0.03924242327491381"
      ]
     },
     "execution_count": 51,
     "metadata": {},
     "output_type": "execute_result"
    }
   ],
   "source": [
    "SE=SD/sqrt(M)\n",
    "SE"
   ]
  },
  {
   "cell_type": "code",
   "execution_count": null,
   "metadata": {
    "collapsed": true
   },
   "outputs": [],
   "source": []
  }
 ],
 "metadata": {
  "kernelspec": {
   "display_name": "Python 3",
   "language": "python",
   "name": "python3"
  },
  "language_info": {
   "codemirror_mode": {
    "name": "ipython",
    "version": 3
   },
   "file_extension": ".py",
   "mimetype": "text/x-python",
   "name": "python",
   "nbconvert_exporter": "python",
   "pygments_lexer": "ipython3",
   "version": "3.6.2"
  }
 },
 "nbformat": 4,
 "nbformat_minor": 2
}
