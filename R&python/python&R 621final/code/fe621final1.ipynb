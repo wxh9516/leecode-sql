{
 "cells": [
  {
   "cell_type": "code",
   "execution_count": 3,
   "metadata": {
    "collapsed": true
   },
   "outputs": [],
   "source": [
    "import math\n",
    "from scipy.stats import norm\n",
    "from math import sqrt\n",
    "from random import gauss\n",
    "import pandas as pd"
   ]
  },
  {
   "cell_type": "code",
   "execution_count": 4,
   "metadata": {
    "collapsed": true
   },
   "outputs": [],
   "source": [
    "#1.a)\n",
    "def gasian(r,T,S0,sig,N,K):\n",
    "    sigma=sig*sqrt((2*N+1)/6/(N+1))\n",
    "    rho=0.5*(r-0.5*sig**2+sigma**2)\n",
    "    d1=1/sqrt(T)/sigma*(math.log(S0/K)+(rho+0.5*sigma**2)*T)\n",
    "    d2=1/sqrt(T)/sigma*(math.log(S0/K)+(rho-0.5*sigma**2)*T)\n",
    "    p=math.exp(-r*T)*(S0*math.exp(rho*T)*norm.cdf(d1)-K*norm.cdf(d2))\n",
    "    return p"
   ]
  },
  {
   "cell_type": "code",
   "execution_count": 13,
   "metadata": {},
   "outputs": [
    {
     "data": {
      "text/plain": [
       "15.174849755456105"
      ]
     },
     "execution_count": 13,
     "metadata": {},
     "output_type": "execute_result"
    }
   ],
   "source": [
    "gasian(0.03,5.,100,0.3,10000,100)"
   ]
  },
  {
   "cell_type": "code",
   "execution_count": 14,
   "metadata": {
    "collapsed": true
   },
   "outputs": [],
   "source": [
    "#1.b)\n",
    "N=10\n",
    "r=0.03\n",
    "div=0\n",
    "sig=0.3\n",
    "T=5.\n",
    "dt=T/N\n",
    "S=100\n",
    "K=100"
   ]
  },
  {
   "cell_type": "code",
   "execution_count": 15,
   "metadata": {
    "collapsed": true
   },
   "outputs": [],
   "source": [
    "nudt=(r-div-0.5*sig*sig)*dt\n",
    "sigsdt=sig*sig*dt"
   ]
  },
  {
   "cell_type": "code",
   "execution_count": 18,
   "metadata": {
    "scrolled": true
   },
   "outputs": [
    {
     "name": "stdout",
     "output_type": "stream",
     "text": [
      "total time is 30.898767 seconds\n"
     ]
    }
   ],
   "source": [
    "sum_CT=0\n",
    "sum_CT2=0\n",
    "M=100000\n",
    "\n",
    "filename='interval.csv'\n",
    "f=open(filename,'w')\n",
    "\n",
    "from time import time\n",
    "start=time()\n",
    "\n",
    "for j in range(M):\n",
    "    St=S\n",
    "    sumSt=0\n",
    "    productSt=1\n",
    "    \n",
    "    for i in range(N):\n",
    "        e=gauss(0.,1.)\n",
    "        St=St*math.exp(nudt+sigsdt*e)\n",
    "        sumSt=sumSt+St\n",
    "        productSt=productSt*St\n",
    "        i=i+1\n",
    "    A=sumSt/N\n",
    "    G=productSt**(1/N)\n",
    "    CT=max(0,A-K)-max(0,G-K)\n",
    "    pv0=CT+gasian(0.03,5.,100,0.3,10000,100)\n",
    "    sum_CT=sum_CT+CT\n",
    "    sum_CT2=sum_CT2+CT*CT\n",
    "    j=j+1\n",
    "    \n",
    "    f.write(str(pv0)+'\\n')\n",
    "\n",
    "f.close()\n",
    "\n",
    "total_time=time()-start\n",
    "print('total time is %.6f seconds'% total_time)"
   ]
  },
  {
   "cell_type": "code",
   "execution_count": 95,
   "metadata": {
    "collapsed": true
   },
   "outputs": [],
   "source": [
    "portfolio_value=sum_CT/M*math.exp(-r*T)\n",
    "SD=sqrt((sum_CT2-sum_CT*sum_CT/M)*math.exp(-2*r*T)/(M-1))\n",
    "SE=SD/sqrt(M)\n",
    "call_value=gasian(0.03,5.,100,0.3,10000,100)+portfolio_value"
   ]
  },
  {
   "cell_type": "code",
   "execution_count": 96,
   "metadata": {},
   "outputs": [
    {
     "data": {
      "text/plain": [
       "0.03357608245681214"
      ]
     },
     "execution_count": 96,
     "metadata": {},
     "output_type": "execute_result"
    }
   ],
   "source": [
    "portfolio_value"
   ]
  },
  {
   "cell_type": "code",
   "execution_count": 19,
   "metadata": {
    "collapsed": true
   },
   "outputs": [],
   "source": [
    "import numpy as np\n",
    "import scipy as sp\n",
    "import scipy.stats\n",
    "\n",
    "def mean_confidence_interval(data, confidence=0.95):\n",
    "    a = 1.0*np.array(data)\n",
    "    n = len(a)\n",
    "    m, se = np.mean(a), scipy.stats.sem(a)\n",
    "    h = se * sp.stats.t._ppf((1+confidence)/2., n-1)\n",
    "    return m, m-h, m+h"
   ]
  },
  {
   "cell_type": "code",
   "execution_count": 20,
   "metadata": {
    "collapsed": true
   },
   "outputs": [],
   "source": [
    "file1='interval.csv'\n",
    "data_1=pd.read_csv(file1)"
   ]
  },
  {
   "cell_type": "code",
   "execution_count": 21,
   "metadata": {},
   "outputs": [
    {
     "data": {
      "text/plain": [
       "(15.224452770533023, array([ 15.2237895]), array([ 15.22511605]))"
      ]
     },
     "execution_count": 21,
     "metadata": {},
     "output_type": "execute_result"
    }
   ],
   "source": [
    "mean_confidence_interval(data_1, confidence=0.95)"
   ]
  },
  {
   "cell_type": "code",
   "execution_count": 97,
   "metadata": {},
   "outputs": [
    {
     "data": {
      "text/plain": [
       "3.9009842334992726"
      ]
     },
     "execution_count": 97,
     "metadata": {},
     "output_type": "execute_result"
    }
   ],
   "source": [
    "sum_CT"
   ]
  },
  {
   "cell_type": "code",
   "execution_count": 98,
   "metadata": {},
   "outputs": [
    {
     "data": {
      "text/plain": [
       "15.208425837912918"
      ]
     },
     "execution_count": 98,
     "metadata": {},
     "output_type": "execute_result"
    }
   ],
   "source": [
    "call_value"
   ]
  },
  {
   "cell_type": "code",
   "execution_count": 222,
   "metadata": {
    "collapsed": true
   },
   "outputs": [],
   "source": [
    "#1.c）\n",
    "S=100\n",
    "N=300\n",
    "nu=0.03\n",
    "T=5.\n",
    "K=100\n",
    "sig=0.3\n",
    "dt=T/N\n",
    "M=1000\n",
    "\n",
    "sum_CT=0\n",
    "sum_CT2=0"
   ]
  },
  {
   "cell_type": "code",
   "execution_count": 223,
   "metadata": {
    "collapsed": true,
    "scrolled": true
   },
   "outputs": [],
   "source": [
    "for j in range(M):\n",
    "    St=S\n",
    "    sum_St=0\n",
    "    for i in range(N):\n",
    "        e=gauss(0.,1.)\n",
    "        St=St*math.exp((nu-sig**2/2)*dt+sig*sqrt(dt)*e)\n",
    "        sum_St=sum_St+St\n",
    "        i=i+1\n",
    "    CT=max(0,sum_St/(N+1)-K)\n",
    "    sum_CT=sum_CT+CT\n",
    "    sum_CT2=sum_CT2+CT*CT\n",
    "    j=j+1"
   ]
  },
  {
   "cell_type": "code",
   "execution_count": 224,
   "metadata": {
    "collapsed": true
   },
   "outputs": [],
   "source": [
    "call_value=sum_CT/M*math.exp(-r*T)\n",
    "SD=sqrt((sum_CT2-sum_CT*sum_CT/M)*math.exp(-2*r*T)/(M-1))\n",
    "SE=SD/sqrt(M)"
   ]
  },
  {
   "cell_type": "code",
   "execution_count": 225,
   "metadata": {},
   "outputs": [
    {
     "data": {
      "text/plain": [
       "17.217726912841904"
      ]
     },
     "execution_count": 225,
     "metadata": {},
     "output_type": "execute_result"
    }
   ],
   "source": [
    "call_value"
   ]
  },
  {
   "cell_type": "code",
   "execution_count": 281,
   "metadata": {
    "collapsed": true
   },
   "outputs": [],
   "source": [
    "#1.d)\n",
    "N=10\n",
    "r=0.03\n",
    "div=0\n",
    "sig=0.3\n",
    "T=5.\n",
    "dt=T/N\n",
    "S=100\n",
    "K=100"
   ]
  },
  {
   "cell_type": "code",
   "execution_count": 282,
   "metadata": {
    "collapsed": true
   },
   "outputs": [],
   "source": [
    "nudt=(r-div-0.5*sig*sig)*dt\n",
    "sigsdt=sig*sig*dt"
   ]
  },
  {
   "cell_type": "code",
   "execution_count": 283,
   "metadata": {
    "collapsed": true,
    "scrolled": true
   },
   "outputs": [],
   "source": [
    "sum_CT=0\n",
    "sum_CT2=0\n",
    "M=1000\n",
    "\n",
    "filename='Xi.csv'\n",
    "f=open(filename,'w')\n",
    "\n",
    "headers='Xi\\n'\n",
    "f.write(headers)\n",
    "for j in range(M):\n",
    "    St=S\n",
    "    sumSt=0\n",
    "    productSt=1\n",
    "    \n",
    "    for i in range(N):\n",
    "        e=gauss(0.,1.)\n",
    "        St=St*math.exp(nudt+sigsdt*e)\n",
    "        sumSt=sumSt+St\n",
    "        productSt=productSt*St\n",
    "        i=i+1\n",
    "    A=sumSt/N\n",
    "    G=productSt**(1/N)\n",
    "    CT=max(0,A-K)-max(0,G-K)\n",
    "    sum_CT=sum_CT+CT\n",
    "    sum_CT2=sum_CT2+CT*CT\n",
    "    pv=sum_CT/(j+1)*math.exp(-r*T)\n",
    "    callp=pv+gasian(0.03,5.,100,0.3,10000,100)\n",
    "    j=j+1\n",
    "    \n",
    "    f.write(str(callp)+'\\n')\n",
    "f.close()"
   ]
  },
  {
   "cell_type": "code",
   "execution_count": null,
   "metadata": {
    "collapsed": true
   },
   "outputs": [],
   "source": [
    "portfolio_value=sum_CT/M*math.exp(-r*T)\n",
    "call_value=gasian(0.03,5.,100,0.3,10000,100)+portfolio_value"
   ]
  },
  {
   "cell_type": "code",
   "execution_count": null,
   "metadata": {
    "collapsed": true
   },
   "outputs": [],
   "source": []
  },
  {
   "cell_type": "code",
   "execution_count": 284,
   "metadata": {
    "collapsed": true
   },
   "outputs": [],
   "source": [
    "S=100\n",
    "N=300\n",
    "nu=0.03\n",
    "T=5.\n",
    "K=100\n",
    "sig=0.3\n",
    "dt=T/N\n",
    "M=1000\n",
    "\n",
    "sum_CT=0\n",
    "sum_CT2=0"
   ]
  },
  {
   "cell_type": "code",
   "execution_count": 285,
   "metadata": {
    "collapsed": true
   },
   "outputs": [],
   "source": [
    "filename='Yi.csv'\n",
    "f=open(filename,'w')\n",
    "\n",
    "headers='Yi\\n'\n",
    "f.write(headers)\n",
    "\n",
    "for j in range(M):\n",
    "    St=S\n",
    "    sum_St=0\n",
    "    for i in range(N):\n",
    "        e=gauss(0.,1.)\n",
    "        St=St*math.exp((nu-sig**2/2)*dt+sig*sqrt(dt)*e)\n",
    "        sum_St=sum_St+St\n",
    "        i=i+1\n",
    "    CT=max(0,sum_St/(N+1)-K)\n",
    "    sum_CT=sum_CT+CT\n",
    "    sum_CT2=sum_CT2+CT*CT\n",
    "    cv=sum_CT/(j+1)*math.exp(-r*T)\n",
    "    j=j+1\n",
    "    \n",
    "    f.write(str(cv)+'\\n')\n",
    "f.close()"
   ]
  },
  {
   "cell_type": "code",
   "execution_count": null,
   "metadata": {
    "collapsed": true
   },
   "outputs": [],
   "source": []
  },
  {
   "cell_type": "code",
   "execution_count": 267,
   "metadata": {},
   "outputs": [
    {
     "data": {
      "text/plain": [
       "0.678087587158096"
      ]
     },
     "execution_count": 267,
     "metadata": {},
     "output_type": "execute_result"
    }
   ],
   "source": [
    "#1.e)\n",
    "pgsim=17.217726912841904\n",
    "pg=17.8958145\n",
    "error=pg-pgsim\n",
    "error"
   ]
  },
  {
   "cell_type": "code",
   "execution_count": 263,
   "metadata": {
    "collapsed": true,
    "scrolled": true
   },
   "outputs": [],
   "source": []
  },
  {
   "cell_type": "code",
   "execution_count": 274,
   "metadata": {},
   "outputs": [
    {
     "data": {
      "text/plain": [
       "15.445178101658595"
      ]
     },
     "execution_count": 274,
     "metadata": {},
     "output_type": "execute_result"
    }
   ],
   "source": [
    "#1.f)\n",
    "pasim=15.208425837912918\n",
    "beg=-0.349147025*error\n",
    "pa=pasim-beg\n",
    "pa"
   ]
  },
  {
   "cell_type": "code",
   "execution_count": null,
   "metadata": {
    "collapsed": true
   },
   "outputs": [],
   "source": []
  },
  {
   "cell_type": "code",
   "execution_count": 280,
   "metadata": {},
   "outputs": [
    {
     "data": {
      "text/plain": [
       "14.676489793078446"
      ]
     },
     "execution_count": 280,
     "metadata": {},
     "output_type": "execute_result"
    }
   ],
   "source": [
    "#M=100\n",
    "pasim=15.208425837912918\n",
    "beg=0.784465097*error\n",
    "pa=pasim-beg\n",
    "pa"
   ]
  },
  {
   "cell_type": "code",
   "execution_count": 286,
   "metadata": {},
   "outputs": [
    {
     "data": {
      "text/plain": [
       "14.965913850735788"
      ]
     },
     "execution_count": 286,
     "metadata": {},
     "output_type": "execute_result"
    }
   ],
   "source": [
    "#M=1000\n",
    "pasim=15.208425837912918\n",
    "beg=0.357641095*error\n",
    "pa=pasim-beg\n",
    "pa"
   ]
  },
  {
   "cell_type": "code",
   "execution_count": null,
   "metadata": {
    "collapsed": true
   },
   "outputs": [],
   "source": []
  },
  {
   "cell_type": "code",
   "execution_count": null,
   "metadata": {
    "collapsed": true
   },
   "outputs": [],
   "source": []
  },
  {
   "cell_type": "code",
   "execution_count": null,
   "metadata": {
    "collapsed": true
   },
   "outputs": [],
   "source": []
  }
 ],
 "metadata": {
  "kernelspec": {
   "display_name": "Python 3",
   "language": "python",
   "name": "python3"
  },
  "language_info": {
   "codemirror_mode": {
    "name": "ipython",
    "version": 3
   },
   "file_extension": ".py",
   "mimetype": "text/x-python",
   "name": "python",
   "nbconvert_exporter": "python",
   "pygments_lexer": "ipython3",
   "version": "3.6.2"
  }
 },
 "nbformat": 4,
 "nbformat_minor": 2
}
